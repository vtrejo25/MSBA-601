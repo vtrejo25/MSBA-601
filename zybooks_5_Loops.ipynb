{
 "cells": [
  {
   "cell_type": "markdown",
   "id": "f7c6eeaf",
   "metadata": {},
   "source": [
    "# Python While Loops and For Loops\n",
    "This notebook covers basic Python while and for loops and associated control statements like `break`, `continue`, and `else`."
   ]
  },
  {
   "cell_type": "markdown",
   "id": "9d2314a1",
   "metadata": {},
   "source": [
    "## 1. Basic While Loop\n",
    "The `while` loop executes a set of statements as long as a condition is true."
   ]
  },
  {
   "cell_type": "code",
   "execution_count": null,
   "id": "cc1c3383",
   "metadata": {},
   "outputs": [],
   "source": [
    "i = 1\n",
    "while i < 6:\n",
    "  print(i)\n",
    "  i += 1"
   ]
  },
  {
   "cell_type": "markdown",
   "id": "8a4116de",
   "metadata": {},
   "source": [
    "## 2. The `break` Statement in While Loop\n",
    "The `break` statement can be used to exit the loop even if the while condition is true."
   ]
  },
  {
   "cell_type": "code",
   "execution_count": null,
   "id": "4a6f0067",
   "metadata": {},
   "outputs": [],
   "source": [
    "i = 1\n",
    "while i < 6:\n",
    "  print(i)\n",
    "  if i == 3:\n",
    "    break\n",
    "  i += 1"
   ]
  },
  {
   "cell_type": "markdown",
   "id": "1aca88f6",
   "metadata": {},
   "source": [
    "## 3. The `continue` Statement in While Loop\n",
    "The `continue` statement skips the current iteration and continues with the next."
   ]
  },
  {
   "cell_type": "code",
   "execution_count": null,
   "id": "a4b5ea26",
   "metadata": {},
   "outputs": [],
   "source": [
    "i = 0\n",
    "while i < 6:\n",
    "  i += 1\n",
    "  if i == 3:\n",
    "    continue\n",
    "  print(i)\n",
    "#what do you notice in the output?"
   ]
  },
  {
   "cell_type": "markdown",
   "id": "0b456b96",
   "metadata": {},
   "source": [
    "## 4. The `else` Statement in While Loop\n",
    "The `else` block runs once when the condition in the while loop becomes false."
   ]
  },
  {
   "cell_type": "code",
   "execution_count": null,
   "id": "0401df66",
   "metadata": {},
   "outputs": [],
   "source": [
    "i = 1\n",
    "while i < 6:\n",
    "  print(i)\n",
    "  i += 1\n",
    "else:\n",
    "  print('i is no longer less than 6')"
   ]
  },
  {
   "cell_type": "markdown",
   "id": "5839a4de",
   "metadata": {},
   "source": [
    "## 5. Basic For Loop\n",
    "The `for` loop is used for iterating over a sequence (list, tuple, dictionary, set, or string)."
   ]
  },
  {
   "cell_type": "code",
   "execution_count": null,
   "id": "76d756ed",
   "metadata": {},
   "outputs": [],
   "source": [
    "fruits = ['apple', 'banana', 'cherry']\n",
    "for x in fruits:\n",
    "  print(x)"
   ]
  },
  {
   "cell_type": "markdown",
   "id": "df8ae908",
   "metadata": {},
   "source": [
    "## 6. Looping Through a String\n",
    "Strings are iterable, so you can loop through the characters of a string."
   ]
  },
  {
   "cell_type": "code",
   "execution_count": null,
   "id": "9daff7e7",
   "metadata": {},
   "outputs": [],
   "source": [
    "for x in 'banana':\n",
    "  print(x)"
   ]
  },
  {
   "cell_type": "markdown",
   "id": "a6d4aced",
   "metadata": {},
   "source": [
    "## 7. The `break` Statement in For Loop\n",
    "The `break` statement can stop the loop before it has looped through all the items."
   ]
  },
  {
   "cell_type": "code",
   "execution_count": null,
   "id": "13f9c968",
   "metadata": {},
   "outputs": [],
   "source": [
    "fruits = ['apple', 'banana', 'cherry']\n",
    "for x in fruits:\n",
    "  print(x)\n",
    "  if x == 'banana':\n",
    "    break\n",
    "#what do you notice in the output?"
   ]
  },
  {
   "cell_type": "markdown",
   "id": "d1b4dbde",
   "metadata": {},
   "source": [
    "## 8. The `continue` Statement in For Loop\n",
    "The `continue` statement skips the current iteration and continues with the next."
   ]
  },
  {
   "cell_type": "code",
   "execution_count": null,
   "id": "7d1169c1",
   "metadata": {},
   "outputs": [],
   "source": [
    "fruits = ['apple', 'banana', 'cherry']\n",
    "for x in fruits:\n",
    "  if x == 'banana':\n",
    "    continue\n",
    "  print(x)\n",
    "#what do you notice in the output?"
   ]
  },
  {
   "cell_type": "markdown",
   "id": "46bc1f64",
   "metadata": {},
   "source": [
    "## 9. Using `range()` in For Loop\n",
    "The `range()` function returns a sequence of numbers."
   ]
  },
  {
   "cell_type": "code",
   "execution_count": null,
   "id": "00d952c1",
   "metadata": {},
   "outputs": [],
   "source": [
    "for x in range(6):\n",
    "  print(x)"
   ]
  },
  {
   "cell_type": "markdown",
   "id": "c7ddf68d",
   "metadata": {},
   "source": [
    "## 10. Else in For Loop\n",
    "The `else` keyword in a for loop specifies a block of code to be executed when the loop finishes."
   ]
  },
  {
   "cell_type": "code",
   "execution_count": null,
   "id": "c0aa4a67",
   "metadata": {},
   "outputs": [],
   "source": [
    "for x in range(6):\n",
    "  print(x)\n",
    "else:\n",
    "  print('Finally finished!')"
   ]
  },
  {
   "cell_type": "markdown",
   "id": "c82d780c",
   "metadata": {},
   "source": [
    "## 11. Nested Loops\n",
    "A nested loop is a loop inside another loop."
   ]
  },
  {
   "cell_type": "code",
   "execution_count": null,
   "id": "64537f0f",
   "metadata": {},
   "outputs": [],
   "source": [
    "adj = ['red', 'big', 'tasty']\n",
    "fruits = ['apple', 'banana', 'cherry']\n",
    "for x in adj:\n",
    "  for y in fruits:\n",
    "    print(x, y)\n",
    "#notice the loop runs outside in "
   ]
  },
  {
   "cell_type": "markdown",
   "id": "a3817a3f",
   "metadata": {},
   "source": [
    "## 12. The `pass` Statement in For Loop\n",
    "Use `pass` when a for loop has no content to avoid getting an error."
   ]
  },
  {
   "cell_type": "code",
   "execution_count": 10,
   "id": "b47a367b",
   "metadata": {},
   "outputs": [],
   "source": [
    "for x in [0, 1, 2]:\n",
    "  pass"
   ]
  },
  {
   "cell_type": "code",
   "execution_count": null,
   "id": "6cd84b81",
   "metadata": {},
   "outputs": [],
   "source": []
  }
 ],
 "metadata": {
  "kernelspec": {
   "display_name": "venv",
   "language": "python",
   "name": "python3"
  },
  "language_info": {
   "codemirror_mode": {
    "name": "ipython",
    "version": 3
   },
   "file_extension": ".py",
   "mimetype": "text/x-python",
   "name": "python",
   "nbconvert_exporter": "python",
   "pygments_lexer": "ipython3",
   "version": "3.10.8"
  }
 },
 "nbformat": 4,
 "nbformat_minor": 5
}
