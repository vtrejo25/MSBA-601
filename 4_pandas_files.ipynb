{
 "cells": [
  {
   "cell_type": "markdown",
   "id": "940bb9d7",
   "metadata": {},
   "source": [
    "# Ingesting CSV and Excel Files with Pandas\n",
    "\n",
    "In this lesson, we'll explore how to ingest data from CSV and Excel files using the Pandas library in Python. \n",
    "We will cover how to load data into a Pandas DataFrame and demonstrate common use cases with examples.\n"
   ]
  },
  {
   "cell_type": "markdown",
   "id": "692001a4",
   "metadata": {},
   "source": [
    "## Ingesting CSV Files\n",
    "\n",
    "CSV (Comma Separated Values) files are one of the most common formats for storing and exchanging tabular data. \n",
    "Pandas provides the `read_csv()` function to read CSV files and load them into a DataFrame.\n",
    "\n",
    "### Example: Reading a CSV file into a DataFrame\n"
   ]
  },
  {
   "cell_type": "code",
   "execution_count": 103,
   "id": "5d5bcd12",
   "metadata": {},
   "outputs": [
    {
     "name": "stdout",
     "output_type": "stream",
     "text": [
      "      Name  Age         City  Salary\n",
      "0    Alice   24     New York   70000\n",
      "1      Bob   30  Los Angeles   80000\n",
      "2  Charlie   22      Chicago   50000\n",
      "3    David   35      Houston   90000\n",
      "4      Eva   28      Phoenix   60000\n"
     ]
    }
   ],
   "source": [
    "import pandas as pd\n",
    "# Reading a CSV file into a DataFrame\n",
    "df_csv = pd.read_csv('file.csv')\n",
    "\n",
    "# Displaying the first 5 rows of the DataFrame\n",
    "print(df_csv.head())"
   ]
  },
  {
   "cell_type": "markdown",
   "id": "6026c52e",
   "metadata": {},
   "source": [
    "### Additional Options for CSV Files\n",
    "\n",
    "You can specify additional options such as the delimiter, encoding type, and how to handle missing values.\n",
    "\n",
    "#### Example: Reading a CSV file with additional options\n"
   ]
  },
  {
   "cell_type": "code",
   "execution_count": 104,
   "id": "650c88d9",
   "metadata": {},
   "outputs": [
    {
     "name": "stdout",
     "output_type": "stream",
     "text": [
      "      Name  Age         City  Salary\n",
      "0    Alice   24     New York   70000\n",
      "1      Bob   30  Los Angeles   80000\n",
      "2  Charlie   22      Chicago   50000\n",
      "3    David   35      Houston   90000\n",
      "4      Eva   28      Phoenix   60000\n"
     ]
    }
   ],
   "source": [
    "import pandas as pd\n",
    "# Reading a CSV file with specific options\n",
    "df_csv_options = pd.read_csv('file.csv', delimiter=',', encoding='utf-8', na_values=[\"N/A\", \"null\"])\n",
    "# docs link for read_csv https://pandas.pydata.org/docs/reference/api/pandas.read_csv.html\n",
    "\n",
    "# Displaying the first 5 rows of the DataFrame\n",
    "print(df_csv_options.head())"
   ]
  },
  {
   "cell_type": "markdown",
   "id": "51734a0b",
   "metadata": {},
   "source": [
    "## Ingesting Excel Files\n",
    "\n",
    "Pandas can also read data from Excel files. The `read_excel()` function allows you to read Excel files into a DataFrame. These require a pip install of openpyxl.\n",
    "\n",
    "### Example: Reading an Excel file into a DataFrame\n"
   ]
  },
  {
   "cell_type": "code",
   "execution_count": 105,
   "id": "04a3d115",
   "metadata": {},
   "outputs": [
    {
     "name": "stdout",
     "output_type": "stream",
     "text": [
      "      Name  Age         City  Salary\n",
      "0    Alice   24     New York   70000\n",
      "1      Bob   30  Los Angeles   80000\n",
      "2  Charlie   22      Chicago   50000\n",
      "3    David   35      Houston   90000\n",
      "4      Eva   28      Phoenix   60000\n"
     ]
    }
   ],
   "source": [
    "import pandas as pd\n",
    "# Reading an Excel file into a DataFrame\n",
    "df_excel = pd.read_excel('file.xlsx')\n",
    "\n",
    "# Displaying the first 5 rows of the DataFrame\n",
    "print(df_excel.head())"
   ]
  },
  {
   "cell_type": "markdown",
   "id": "a55c6470",
   "metadata": {},
   "source": [
    "### Reading Specific Sheets\n",
    "\n",
    "If your Excel file has multiple sheets, you can specify which sheet to read using the `sheet_name` parameter.\n",
    "\n",
    "#### Example: Reading a specific sheet from an Excel file\n"
   ]
  },
  {
   "cell_type": "code",
   "execution_count": 106,
   "id": "b386064f",
   "metadata": {},
   "outputs": [
    {
     "name": "stdout",
     "output_type": "stream",
     "text": [
      "  Name  Age         City  Salary\n",
      "0    a   24     New York   70000\n",
      "1    b   30  Los Angeles   80000\n",
      "2    c   22      Chicago   50000\n",
      "3    d   35      Houston   90000\n",
      "4    e   28      Phoenix   60000\n",
      "      Name  Age         City  Salary\n",
      "0    Alice   24     New York   70000\n",
      "1      Bob   30  Los Angeles   80000\n",
      "2  Charlie   22      Chicago   50000\n",
      "3    David   35      Houston   90000\n",
      "4      Eva   28      Phoenix   60000\n"
     ]
    }
   ],
   "source": [
    "# Read a specific sheet by name\n",
    "df_sheet_2= pd.read_excel('file.xlsx', sheet_name='Sheet2')\n",
    "print(df_sheet_2.head())\n",
    "\n",
    "# Read a specific sheet by index (e.g., first sheet = 0)\n",
    "df_first_sheet = pd.read_excel('file.xlsx', sheet_name=0)\n",
    "\n",
    "print(df_first_sheet.head())\n"
   ]
  },
  {
   "cell_type": "markdown",
   "id": "cb7bab2a",
   "metadata": {},
   "source": [
    "### Reading Multiple Sheets\n",
    "\n",
    "You can also load multiple sheets from an Excel file into a dictionary of DataFrames.\n",
    "\n",
    "#### Example: Reading multiple sheets\n"
   ]
  },
  {
   "cell_type": "code",
   "execution_count": 107,
   "id": "d2d61841",
   "metadata": {},
   "outputs": [
    {
     "name": "stdout",
     "output_type": "stream",
     "text": [
      "      Name  Age         City  Salary\n",
      "0    Alice   24     New York   70000\n",
      "1      Bob   30  Los Angeles   80000\n",
      "2  Charlie   22      Chicago   50000\n",
      "3    David   35      Houston   90000\n",
      "4      Eva   28      Phoenix   60000\n",
      "  Name  Age         City  Salary\n",
      "0    a   24     New York   70000\n",
      "1    b   30  Los Angeles   80000\n",
      "2    c   22      Chicago   50000\n",
      "3    d   35      Houston   90000\n",
      "4    e   28      Phoenix   60000\n"
     ]
    }
   ],
   "source": [
    "# Read multiple sheets by names\n",
    "sheets_dict = pd.read_excel('file.xlsx', sheet_name=['Sheet1', 'Sheet2'])\n",
    "\n",
    "# Access individual DataFrames\n",
    "df_sheet1 = sheets_dict['Sheet1']\n",
    "df_sheet2 = sheets_dict['Sheet2']\n",
    "\n",
    "print(df_sheet1.head())\n",
    "print(df_sheet2.head())"
   ]
  },
  {
   "cell_type": "markdown",
   "id": "f6f19dba",
   "metadata": {},
   "source": [
    "## Analyzing Imported Data "
   ]
  },
  {
   "cell_type": "markdown",
   "id": "bfe357b8",
   "metadata": {},
   "source": [
    "Now let's analyze data in the employee_pay.csv file."
   ]
  },
  {
   "cell_type": "code",
   "execution_count": 108,
   "id": "f4e2c8f1",
   "metadata": {},
   "outputs": [
    {
     "name": "stdout",
     "output_type": "stream",
     "text": [
      "(10000, 3)\n"
     ]
    }
   ],
   "source": [
    "#looking at the DF\n",
    "import pandas as pd\n",
    "\n",
    "# Read the CSV file\n",
    "df_salary_unique = pd.read_csv('employee_pay.csv')\n",
    "\n",
    "#shape is a good tool to see how big your df is\n",
    "print(df_salary_unique.shape)"
   ]
  },
  {
   "cell_type": "code",
   "execution_count": 109,
   "id": "70500c2d",
   "metadata": {},
   "outputs": [
    {
     "data": {
      "text/html": [
       "<div>\n",
       "<style scoped>\n",
       "    .dataframe tbody tr th:only-of-type {\n",
       "        vertical-align: middle;\n",
       "    }\n",
       "\n",
       "    .dataframe tbody tr th {\n",
       "        vertical-align: top;\n",
       "    }\n",
       "\n",
       "    .dataframe thead th {\n",
       "        text-align: right;\n",
       "    }\n",
       "</style>\n",
       "<table border=\"1\" class=\"dataframe\">\n",
       "  <thead>\n",
       "    <tr style=\"text-align: right;\">\n",
       "      <th></th>\n",
       "      <th>Name</th>\n",
       "      <th>Department</th>\n",
       "      <th>Salary</th>\n",
       "    </tr>\n",
       "  </thead>\n",
       "  <tbody>\n",
       "    <tr>\n",
       "      <th>0</th>\n",
       "      <td>Diane Lewis</td>\n",
       "      <td>Sales</td>\n",
       "      <td>81284</td>\n",
       "    </tr>\n",
       "    <tr>\n",
       "      <th>1</th>\n",
       "      <td>Thomas Armstrong</td>\n",
       "      <td>Marketing</td>\n",
       "      <td>119922</td>\n",
       "    </tr>\n",
       "    <tr>\n",
       "      <th>2</th>\n",
       "      <td>Felicia Vaughn</td>\n",
       "      <td>Marketing</td>\n",
       "      <td>118874</td>\n",
       "    </tr>\n",
       "    <tr>\n",
       "      <th>3</th>\n",
       "      <td>Joshua Daugherty</td>\n",
       "      <td>Sales</td>\n",
       "      <td>95277</td>\n",
       "    </tr>\n",
       "    <tr>\n",
       "      <th>4</th>\n",
       "      <td>Rachel Compton</td>\n",
       "      <td>HR</td>\n",
       "      <td>55316</td>\n",
       "    </tr>\n",
       "  </tbody>\n",
       "</table>\n",
       "</div>"
      ],
      "text/plain": [
       "               Name Department  Salary\n",
       "0       Diane Lewis      Sales   81284\n",
       "1  Thomas Armstrong  Marketing  119922\n",
       "2    Felicia Vaughn  Marketing  118874\n",
       "3  Joshua Daugherty      Sales   95277\n",
       "4    Rachel Compton         HR   55316"
      ]
     },
     "execution_count": 109,
     "metadata": {},
     "output_type": "execute_result"
    }
   ],
   "source": [
    "#look at what is in your df\n",
    "df_salary_unique.head()"
   ]
  },
  {
   "cell_type": "code",
   "execution_count": 110,
   "id": "cf9a552a",
   "metadata": {},
   "outputs": [
    {
     "name": "stdout",
     "output_type": "stream",
     "text": [
      "<class 'pandas.core.frame.DataFrame'>\n",
      "RangeIndex: 10000 entries, 0 to 9999\n",
      "Data columns (total 3 columns):\n",
      " #   Column      Non-Null Count  Dtype \n",
      "---  ------      --------------  ----- \n",
      " 0   Name        10000 non-null  object\n",
      " 1   Department  10000 non-null  object\n",
      " 2   Salary      10000 non-null  int64 \n",
      "dtypes: int64(1), object(2)\n",
      "memory usage: 234.5+ KB\n"
     ]
    }
   ],
   "source": [
    "#data types\n",
    "df_salary_unique.info()"
   ]
  },
  {
   "cell_type": "code",
   "execution_count": 111,
   "id": "96f8a7a2",
   "metadata": {},
   "outputs": [
    {
     "name": "stdout",
     "output_type": "stream",
     "text": [
      "   Department  Total_Salary  Employee_Count\n",
      "0     Finance     111819356            1400\n",
      "1          HR     110095473            1396\n",
      "2          IT     116329745            1442\n",
      "3       Legal     116527391            1446\n",
      "4   Marketing     117244868            1460\n",
      "5  Operations     113591529            1418\n",
      "6       Sales     114328979            1438\n"
     ]
    }
   ],
   "source": [
    "#totaling salary and employee count by department\n",
    "\n",
    "# Group by department and calculate total salaries and employee count. Note add can apply different functions to the columns. \n",
    "salary_summary = df_salary_unique.groupby('Department').agg(\n",
    "    Total_Salary=('Salary', 'sum'),\n",
    "    Employee_Count=('Name', 'count')\n",
    ").reset_index()\n",
    "\n",
    "# Display the result\n",
    "print(salary_summary)"
   ]
  },
  {
   "cell_type": "code",
   "execution_count": 112,
   "id": "dd34a3c8",
   "metadata": {},
   "outputs": [
    {
     "name": "stdout",
     "output_type": "stream",
     "text": [
      "   Department Total_Salary  Employee_Count\n",
      "0     Finance  111,819,356            1400\n",
      "1          HR  110,095,473            1396\n",
      "2          IT  116,329,745            1442\n",
      "3       Legal  116,527,391            1446\n",
      "4   Marketing  117,244,868            1460\n",
      "5  Operations  113,591,529            1418\n",
      "6       Sales  114,328,979            1438\n"
     ]
    }
   ],
   "source": [
    "# Clean up the total salaries.\n",
    "\n",
    "salary_summary = df_salary_unique.groupby('Department').agg(\n",
    "    Total_Salary=('Salary', 'sum'),\n",
    "    Employee_Count=('Name', 'count')\n",
    ").reset_index()\n",
    "\n",
    "# Format the Total_Salary column with commas\n",
    "salary_summary['Total_Salary'] = salary_summary['Total_Salary'].apply(lambda x: f\"{x:,}\")\n",
    "\n",
    "# Display the result\n",
    "print(salary_summary)"
   ]
  },
  {
   "cell_type": "code",
   "execution_count": 113,
   "id": "2670a7de",
   "metadata": {},
   "outputs": [
    {
     "name": "stdout",
     "output_type": "stream",
     "text": [
      "   Department Total_Salary Employee_Count\n",
      "0     Finance  111,819,356          1,400\n",
      "1          HR  110,095,473          1,396\n",
      "2          IT  116,329,745          1,442\n",
      "3       Legal  116,527,391          1,446\n",
      "4   Marketing  117,244,868          1,460\n",
      "5  Operations  113,591,529          1,418\n",
      "6       Sales  114,328,979          1,438\n"
     ]
    }
   ],
   "source": [
    "# also cleanup the employee count\n",
    "\n",
    "salary_summary = df_salary_unique.groupby('Department').agg(\n",
    "    Total_Salary=('Salary', 'sum'),\n",
    "    Employee_Count=('Name', 'count')\n",
    ").reset_index()\n",
    "\n",
    "# Format the Total_Salary and Employee_Count columns with commas\n",
    "salary_summary['Total_Salary'] = salary_summary['Total_Salary'].apply(lambda x: f\"{x:,}\")\n",
    "salary_summary['Employee_Count'] = salary_summary['Employee_Count'].apply(lambda x: f\"{x:,}\")\n",
    "\n",
    "# Display the result\n",
    "print(salary_summary)"
   ]
  },
  {
   "cell_type": "code",
   "execution_count": 114,
   "id": "a4b27a96",
   "metadata": {},
   "outputs": [
    {
     "name": "stdout",
     "output_type": "stream",
     "text": [
      "   Department Total_Salary Employee_Count Avg_Salary Min_Salary Max_Salary\n",
      "0     Finance  111,819,356          1,400  79,870.97     40,010    119,837\n",
      "1          HR  110,095,473          1,396  78,864.95     40,063    119,983\n",
      "2          IT  116,329,745          1,442  80,672.50     40,046    119,959\n",
      "3       Legal  116,527,391          1,446  80,586.02     40,026    119,952\n",
      "4   Marketing  117,244,868          1,460  80,304.70     40,092    119,992\n",
      "5  Operations  113,591,529          1,418  80,106.86     40,015    119,990\n",
      "6       Sales  114,328,979          1,438  79,505.55     40,043    119,928\n"
     ]
    }
   ],
   "source": [
    "# add max mean and min columns \n",
    "\n",
    "salary_summary = df_salary_unique.groupby('Department').agg(\n",
    "    Total_Salary=('Salary', 'sum'),\n",
    "    Employee_Count=('Name', 'count')\n",
    ").reset_index()\n",
    "\n",
    "# Group by department and calculate total salaries, employee count, average, min, and max salary\n",
    "salary_summary = df_salary_unique.groupby('Department').agg(\n",
    "    Total_Salary=('Salary', 'sum'),\n",
    "    Employee_Count=('Name', 'count'),\n",
    "    Avg_Salary=('Salary', 'mean'),\n",
    "    Min_Salary=('Salary', 'min'),\n",
    "    Max_Salary=('Salary', 'max')\n",
    ").reset_index()\n",
    "\n",
    "# Format the Total_Salary, Employee_Count, Avg_Salary, Min_Salary, and Max_Salary columns with commas\n",
    "salary_summary['Total_Salary'] = salary_summary['Total_Salary'].apply(lambda x: f\"{x:,}\")\n",
    "salary_summary['Employee_Count'] = salary_summary['Employee_Count'].apply(lambda x: f\"{x:,}\")\n",
    "salary_summary['Avg_Salary'] = salary_summary['Avg_Salary'].apply(lambda x: f\"{x:,.2f}\")\n",
    "salary_summary['Min_Salary'] = salary_summary['Min_Salary'].apply(lambda x: f\"{x:,}\")\n",
    "salary_summary['Max_Salary'] = salary_summary['Max_Salary'].apply(lambda x: f\"{x:,}\")\n",
    "\n",
    "# Display the result without the total row\n",
    "print(salary_summary)"
   ]
  },
  {
   "cell_type": "code",
   "execution_count": 115,
   "id": "563bb696",
   "metadata": {},
   "outputs": [
    {
     "name": "stdout",
     "output_type": "stream",
     "text": [
      "   Department Total_Salary Employee_Count Avg_Salary Min_Salary Max_Salary\n",
      "0     Finance  111,819,356          1,400  79,870.97     40,010    119,837\n",
      "1          HR  110,095,473          1,396  78,864.95     40,063    119,983\n",
      "2          IT  116,329,745          1,442  80,672.50     40,046    119,959\n",
      "3       Legal  116,527,391          1,446  80,586.02     40,026    119,952\n",
      "4   Marketing  117,244,868          1,460  80,304.70     40,092    119,992\n",
      "5  Operations  113,591,529          1,418  80,106.86     40,015    119,990\n",
      "6       Sales  114,328,979          1,438  79,505.55     40,043    119,928\n",
      "7       Total  799,937,341         10,000                                 \n"
     ]
    }
   ],
   "source": [
    "# Add a total line on the bottom. \n",
    "\n",
    "# Group by department and calculate total salaries, employee count, average, min, and max salary\n",
    "salary_summary = df_salary_unique.groupby('Department').agg(\n",
    "    Total_Salary=('Salary', 'sum'),\n",
    "    Employee_Count=('Name', 'count'),\n",
    "    Avg_Salary=('Salary', 'mean'),\n",
    "    Min_Salary=('Salary', 'min'),\n",
    "    Max_Salary=('Salary', 'max')\n",
    ").reset_index()\n",
    "\n",
    "# Format the Total_Salary, Employee_Count, Avg_Salary, Min_Salary, and Max_Salary columns with commas\n",
    "salary_summary['Total_Salary'] = salary_summary['Total_Salary'].apply(lambda x: f\"{x:,}\")\n",
    "salary_summary['Employee_Count'] = salary_summary['Employee_Count'].apply(lambda x: f\"{x:,}\")\n",
    "salary_summary['Avg_Salary'] = salary_summary['Avg_Salary'].apply(lambda x: f\"{x:,.2f}\")\n",
    "salary_summary['Min_Salary'] = salary_summary['Min_Salary'].apply(lambda x: f\"{x:,}\")\n",
    "salary_summary['Max_Salary'] = salary_summary['Max_Salary'].apply(lambda x: f\"{x:,}\")\n",
    "\n",
    "# Calculate the total across all departments for Total_Salary and Employee_Count\n",
    "total_row = pd.DataFrame({\n",
    "    'Department': ['Total'],\n",
    "    'Total_Salary': [f\"{df_salary_unique['Salary'].sum():,}\"],\n",
    "    'Employee_Count': [f\"{df_salary_unique['Name'].count():,}\"],\n",
    "    'Avg_Salary': [''],\n",
    "    'Min_Salary': [''],\n",
    "    'Max_Salary': ['']\n",
    "})\n",
    "\n",
    "# Append the total row to the summary\n",
    "salary_summary = pd.concat([salary_summary, total_row], ignore_index=True)\n",
    "\n",
    "# Display the result\n",
    "print(salary_summary)"
   ]
  },
  {
   "cell_type": "code",
   "execution_count": 116,
   "id": "21bc561f",
   "metadata": {},
   "outputs": [
    {
     "name": "stdout",
     "output_type": "stream",
     "text": [
      "   Department Total_Salary Employee_Count Avg_Salary Min_Salary Max_Salary\n",
      "0   Marketing  117,244,868          1,460  80,304.70     40,092    119,992\n",
      "1       Legal  116,527,391          1,446  80,586.02     40,026    119,952\n",
      "2          IT  116,329,745          1,442  80,672.50     40,046    119,959\n",
      "3       Sales  114,328,979          1,438  79,505.55     40,043    119,928\n",
      "4  Operations  113,591,529          1,418  80,106.86     40,015    119,990\n",
      "5     Finance  111,819,356          1,400  79,870.97     40,010    119,837\n",
      "6          HR  110,095,473          1,396  78,864.95     40,063    119,983\n",
      "7       Total  799,937,341         10,000                                 \n"
     ]
    }
   ],
   "source": [
    "# Sort \n",
    "\n",
    "# Group by department and calculate total salaries, employee count, average, min, and max salary\n",
    "salary_summary = df_salary_unique.groupby('Department').agg(\n",
    "    Total_Salary=('Salary', 'sum'),\n",
    "    Employee_Count=('Name', 'count'),\n",
    "    Avg_Salary=('Salary', 'mean'),\n",
    "    Min_Salary=('Salary', 'min'),\n",
    "    Max_Salary=('Salary', 'max')\n",
    ").reset_index()\n",
    "\n",
    "# Sort by Total_Salary in descending order before formatting\n",
    "salary_summary_sorted = salary_summary.sort_values(by='Total_Salary', ascending=False)\n",
    "\n",
    "# Calculate the total across all departments, but leave Avg_Salary, Min_Salary, and Max_Salary empty\n",
    "total_row = pd.DataFrame({\n",
    "    'Department': ['Total'],\n",
    "    'Total_Salary': [df_salary_unique['Salary'].sum()],\n",
    "    'Employee_Count': [df_salary_unique['Name'].count()],\n",
    "    'Avg_Salary': [''],  # Empty for total row\n",
    "    'Min_Salary': [''],  # Empty for total row\n",
    "    'Max_Salary': ['']   # Empty for total row\n",
    "})\n",
    "\n",
    "# Append the total row to the sorted summary\n",
    "salary_summary_sorted = pd.concat([salary_summary_sorted, total_row], ignore_index=True)\n",
    "\n",
    "# Format the Total_Salary, Employee_Count, Avg_Salary, Min_Salary, and Max_Salary columns with commas. Lambda formats everything. \n",
    "salary_summary_sorted['Total_Salary'] = salary_summary_sorted['Total_Salary'].apply(lambda x: f\"{x:,}\")\n",
    "salary_summary_sorted['Employee_Count'] = salary_summary_sorted['Employee_Count'].apply(lambda x: f\"{x:,}\")\n",
    "salary_summary_sorted['Avg_Salary'] = salary_summary_sorted['Avg_Salary'].apply(lambda x: f\"{x:,.2f}\" if x != '' else '')\n",
    "salary_summary_sorted['Min_Salary'] = salary_summary_sorted['Min_Salary'].apply(lambda x: f\"{x:,}\" if x != '' else '')\n",
    "salary_summary_sorted['Max_Salary'] = salary_summary_sorted['Max_Salary'].apply(lambda x: f\"{x:,}\" if x != '' else '')\n",
    "\n",
    "# Display the result sorted by Total_Salary with the total row included and empty average, min, max for total row\n",
    "print(salary_summary_sorted)"
   ]
  },
  {
   "cell_type": "markdown",
   "id": "0e6326c2",
   "metadata": {},
   "source": [
    "## Export Results to File"
   ]
  },
  {
   "cell_type": "code",
   "execution_count": 117,
   "id": "ef126f18",
   "metadata": {},
   "outputs": [
    {
     "name": "stdout",
     "output_type": "stream",
     "text": [
      "Salary summary has been saved to salary_summary_sorted_1.xlsx\n"
     ]
    }
   ],
   "source": [
    "# Write the DataFrame to an Excel file\n",
    "# exports to excel\n",
    "salary_summary_sorted.to_excel('salary_summary_sorted_1.xlsx', index=False)\n",
    "\n",
    "print(f\"Salary summary has been saved to {'salary_summary_sorted_1.xlsx'}\")"
   ]
  },
  {
   "cell_type": "markdown",
   "id": "1e7f4abd",
   "metadata": {},
   "source": [
    "## Format File"
   ]
  },
  {
   "cell_type": "code",
   "execution_count": 118,
   "id": "8e9e1bd2",
   "metadata": {},
   "outputs": [
    {
     "name": "stdout",
     "output_type": "stream",
     "text": [
      "Salary summary with adjusted column widths has been saved to salary_summary_sorted_2.xlsx\n"
     ]
    }
   ],
   "source": [
    "# Load the workbook and adjust column width\n",
    "from openpyxl.utils import get_column_letter\n",
    "from openpyxl import load_workbook\n",
    "\n",
    "wb = load_workbook('salary_summary_sorted_1.xlsx')\n",
    "ws = wb.active\n",
    "\n",
    "# Adjust the width of the columns based on the max length of data in each column\n",
    "for col in ws.columns:\n",
    "    max_length = 0\n",
    "    column = col[0].column_letter  # Get the column letter\n",
    "    for cell in col:\n",
    "        try:\n",
    "            # Find the maximum length of the data in the column\n",
    "            max_length = max(max_length, len(str(cell.value)))\n",
    "        except:\n",
    "            pass\n",
    "    adjusted_width = max_length + 2  # Add some padding to the width\n",
    "    ws.column_dimensions[column].width = adjusted_width\n",
    "\n",
    "# Save the updated workbook\n",
    "wb.save('salary_summary_sorted_2.xlsx')\n",
    "\n",
    "print(f\"Salary summary with adjusted column widths has been saved to {'salary_summary_sorted_2.xlsx'}\")"
   ]
  },
  {
   "cell_type": "code",
   "execution_count": 119,
   "id": "99ce082f",
   "metadata": {},
   "outputs": [
    {
     "name": "stdout",
     "output_type": "stream",
     "text": [
      "Salary summary with a bar chart on a new 'chart' tab has been saved to salary_summary_sorted_3.xlsx\n"
     ]
    }
   ],
   "source": [
    "#making a bar chart\n",
    "from openpyxl.utils import get_column_letter\n",
    "from openpyxl import load_workbook\n",
    "from openpyxl.chart import BarChart, Reference\n",
    "\n",
    "# Load the workbook and adjust column width\n",
    "\n",
    "wb = load_workbook('salary_summary_sorted_2.xlsx')\n",
    "ws = wb.active\n",
    "\n",
    "# Adjust the width of the columns based on the max length of data in each column\n",
    "for col in ws.columns:\n",
    "    max_length = 0\n",
    "    column = col[0].column_letter  # Get the column letter\n",
    "    for cell in col:\n",
    "        try:\n",
    "            # Find the maximum length of the data in the column\n",
    "            max_length = max(max_length, len(str(cell.value)))\n",
    "        except:\n",
    "            pass\n",
    "    adjusted_width = max_length + 2  # Add some padding to the width\n",
    "    ws.column_dimensions[column].width = adjusted_width\n",
    "\n",
    "# Create a new worksheet for the chart\n",
    "if 'chart' in wb.sheetnames:\n",
    "    chart_ws = wb['chart']\n",
    "else:\n",
    "    chart_ws = wb.create_sheet('chart')\n",
    "\n",
    "# Adding a bar chart for the salary data on the new 'chart' worksheet\n",
    "# Assuming that the \"Total Salary\" is in Column B, starting from row 2 (and row 1 contains headers)\n",
    "\n",
    "# Create a bar chart object\n",
    "chart = BarChart()\n",
    "\n",
    "# Define the data range for the chart (e.g., Total Salary in column B)\n",
    "# The header is in row 1, and the data starts from row 2, continuing to ws.max_row\n",
    "data = Reference(ws, min_col=2, min_row=1, max_row=ws.max_row)\n",
    "\n",
    "# Define the categories for the chart (Department names in Column A)\n",
    "categories = Reference(ws, min_col=1, min_row=2, max_row=ws.max_row)\n",
    "\n",
    "# Add data and categories to the chart\n",
    "chart.add_data(data, titles_from_data=True)  # Including the header for data title\n",
    "chart.set_categories(categories)\n",
    "\n",
    "# Set the title of the chart and the labels\n",
    "chart.title = \"Total Salary by Department\"\n",
    "chart.x_axis.title = \"Department\"\n",
    "chart.y_axis.title = \"Total Salary\"\n",
    "\n",
    "# Position the chart on the new 'chart' sheet, starting at cell A1\n",
    "chart_ws.add_chart(chart, \"A1\")\n",
    "\n",
    "# Save the updated workbook with the chart in the new tab\n",
    "wb.save('salary_summary_sorted_3.xlsx')\n",
    "\n",
    "print(f\"Salary summary with a bar chart on a new 'chart' tab has been saved to {'salary_summary_sorted_3.xlsx'}\")\n",
    "\n",
    "#why are the bars not showing?"
   ]
  },
  {
   "cell_type": "code",
   "execution_count": 120,
   "id": "a0ef3744",
   "metadata": {},
   "outputs": [
    {
     "name": "stdout",
     "output_type": "stream",
     "text": [
      "Data types updated salary_summary_sorted_4.xlsx\n"
     ]
    }
   ],
   "source": [
    "# Finish formatting  data\n",
    "from openpyxl.utils import get_column_letter\n",
    "from openpyxl import load_workbook\n",
    "from openpyxl.chart import BarChart, Reference\n",
    "from openpyxl.styles import numbers  # For number formatting\n",
    "\n",
    "# Load the workbook and adjust column width\n",
    "wb = load_workbook('salary_summary_sorted_3.xlsx')\n",
    "ws = wb.active\n",
    "\n",
    "# Function to convert text numbers to integers or floats for specified columns\n",
    "def convert_text_columns_to_numbers(worksheet, cols_int, cols_float, start_row, end_row):\n",
    "    # Convert columns that should be integers\n",
    "    for col in cols_int:\n",
    "        for row in range(start_row, end_row + 1):\n",
    "            cell = worksheet[f\"{col}{row}\"]\n",
    "            if isinstance(cell.value, str):  # Check if the value is a string\n",
    "                try:\n",
    "                    # Try converting the value to an integer (remove commas if present)\n",
    "                    cell.value = int(cell.value.replace(',', ''))\n",
    "                except ValueError:\n",
    "                    pass  # Skip if not a valid integer\n",
    "    # Convert columns that should be floats\n",
    "    for col in cols_float:\n",
    "        for row in range(start_row, end_row + 1):\n",
    "            cell = worksheet[f\"{col}{row}\"]\n",
    "            if isinstance(cell.value, str):  # Check if the value is a string\n",
    "                try:\n",
    "                    # Try converting the value to a float (remove commas if present)\n",
    "                    cell.value = float(cell.value.replace(',', ''))\n",
    "                except ValueError:\n",
    "                    pass  # Skip if not a valid float\n",
    "\n",
    "# List of columns to convert to integers (Total Salary, Employee Count, Min Salary, Max Salary)\n",
    "columns_to_convert_int = ['B', 'C', 'E', 'F']\n",
    "\n",
    "# List of columns to convert to floats (Avg Salary, Column E)\n",
    "columns_to_convert_float = ['D']\n",
    "\n",
    "# Convert the relevant columns\n",
    "convert_text_columns_to_numbers(ws, columns_to_convert_int, columns_to_convert_float, 2, ws.max_row)\n",
    "\n",
    "# Format columns B, D, E, F as currency ($) and column C with commas (thousands separator)\n",
    "for row in range(2, ws.max_row + 1):\n",
    "    ws['B' + str(row)].number_format = numbers.FORMAT_CURRENCY_USD_SIMPLE  # Format as currency\n",
    "    ws['C' + str(row)].number_format = numbers.FORMAT_NUMBER_COMMA_SEPARATED1  # Format with commas\n",
    "    ws['D' + str(row)].number_format = numbers.FORMAT_CURRENCY_USD_SIMPLE  # Format as currency\n",
    "    ws['E' + str(row)].number_format = numbers.FORMAT_CURRENCY_USD_SIMPLE  # Format as currency\n",
    "    ws['F' + str(row)].number_format = numbers.FORMAT_CURRENCY_USD_SIMPLE  # Format as currency\n",
    "\n",
    "# Adjust the width of the columns based on the max length of data in each column\n",
    "for col in ws.columns:\n",
    "    max_length = 0\n",
    "    column = col[0].column_letter  # Get the column letter\n",
    "    for cell in col:\n",
    "        try:\n",
    "            # Find the maximum length of the data in the column\n",
    "            max_length = max(max_length, len(str(cell.value)))\n",
    "        except:\n",
    "            pass\n",
    "    adjusted_width = max_length + 2  # Add some padding to the width\n",
    "    ws.column_dimensions[column].width = adjusted_width\n",
    "\n",
    "# Create a new worksheet for the chart\n",
    "if 'chart' in wb.sheetnames:\n",
    "    chart_ws = wb['chart']\n",
    "else:\n",
    "    chart_ws = wb.create_sheet('chart')\n",
    "\n",
    "# Adding a bar chart for the salary data on the new 'chart' worksheet\n",
    "# Assuming that the \"Total Salary\" is in Column B, starting from row 2 (and row 1 contains headers)\n",
    "\n",
    "# Create a bar chart object\n",
    "chart = BarChart()\n",
    "\n",
    "# Define the data range for the chart (e.g., Total Salary in column B)\n",
    "# The header is in row 1, and the data starts from row 2, continuing to ws.max_row\n",
    "data = Reference(ws, min_col=2, min_row=1, max_row=ws.max_row)\n",
    "\n",
    "# Define the categories for the chart (Department names in Column A)\n",
    "categories = Reference(ws, min_col=1, min_row=2, max_row=ws.max_row)\n",
    "\n",
    "# Add data and categories to the chart\n",
    "chart.add_data(data, titles_from_data=True)  # Including the header for data title\n",
    "chart.set_categories(categories)\n",
    "\n",
    "# Set the title of the chart and the labels\n",
    "chart.title = \"Total Salary by Department\"\n",
    "chart.x_axis.title = \"Department\"\n",
    "chart.y_axis.title = \"Total Salary\"\n",
    "\n",
    "# Position the chart on the new 'chart' sheet, starting at cell A1\n",
    "chart_ws.add_chart(chart, \"A1\")\n",
    "\n",
    "# Save the updated workbook with the chart in the new tab\n",
    "wb.save('salary_summary_sorted_4.xlsx')\n",
    "\n",
    "print(f\"Data types updated {'salary_summary_sorted_4.xlsx'}\")\n"
   ]
  },
  {
   "cell_type": "code",
   "execution_count": 121,
   "id": "2632a0f8",
   "metadata": {},
   "outputs": [
    {
     "name": "stdout",
     "output_type": "stream",
     "text": [
      "Padding added to salary_summary_sorted_5.xlsx\n"
     ]
    }
   ],
   "source": [
    "# to update colum width\n",
    "from openpyxl.utils import get_column_letter\n",
    "from openpyxl import load_workbook\n",
    "from openpyxl.chart import BarChart, Reference\n",
    "from openpyxl.styles import numbers  # For number formatting\n",
    "\n",
    "# Load the workbook\n",
    "wb = load_workbook('salary_summary_sorted_4.xlsx')\n",
    "ws = wb.active\n",
    "\n",
    "# Function to convert text numbers to integers or floats for specified columns\n",
    "def convert_text_columns_to_numbers(worksheet, cols_int, cols_float, start_row, end_row):\n",
    "    # Convert columns that should be integers\n",
    "    for col in cols_int:\n",
    "        for row in range(start_row, end_row + 1):\n",
    "            cell = worksheet[f\"{col}{row}\"]\n",
    "            if isinstance(cell.value, str):  # Check if the value is a string\n",
    "                try:\n",
    "                    # Try converting the value to an integer (remove commas if present)\n",
    "                    cell.value = int(cell.value.replace(',', ''))\n",
    "                except ValueError:\n",
    "                    pass  # Skip if not a valid integer\n",
    "    # Convert columns that should be floats\n",
    "    for col in cols_float:\n",
    "        for row in range(start_row, end_row + 1):\n",
    "            cell = worksheet[f\"{col}{row}\"]\n",
    "            if isinstance(cell.value, str):  # Check if the value is a string\n",
    "                try:\n",
    "                    # Try converting the value to a float (remove commas if present)\n",
    "                    cell.value = float(cell.value.replace(',', ''))\n",
    "                except ValueError:\n",
    "                    pass  # Skip if not a valid float\n",
    "\n",
    "# List of columns to convert to integers (Total Salary, Employee Count, Min Salary, Max Salary)\n",
    "columns_to_convert_int = ['B', 'C', 'D', 'F']\n",
    "\n",
    "# List of columns to convert to floats (Avg Salary, Column E)\n",
    "columns_to_convert_float = ['E']\n",
    "\n",
    "# Convert the relevant columns\n",
    "convert_text_columns_to_numbers(ws, columns_to_convert_int, columns_to_convert_float, 2, ws.max_row)\n",
    "\n",
    "# Format columns B, D, E, F as currency ($) and column C with commas (thousands separator)\n",
    "for row in range(2, ws.max_row + 1):\n",
    "    ws['B' + str(row)].number_format = numbers.FORMAT_CURRENCY_USD_SIMPLE  # Format as currency\n",
    "    ws['C' + str(row)].number_format = numbers.FORMAT_NUMBER_COMMA_SEPARATED1  # Format with commas\n",
    "    ws['D' + str(row)].number_format = numbers.FORMAT_CURRENCY_USD_SIMPLE  # Format as currency\n",
    "    ws['E' + str(row)].number_format = numbers.FORMAT_CURRENCY_USD_SIMPLE  # Format as currency\n",
    "    ws['F' + str(row)].number_format = numbers.FORMAT_CURRENCY_USD_SIMPLE  # Format as currency\n",
    "\n",
    "# Adjust the width of the columns based on the max length of formatted data in each column\n",
    "for col in ws.columns:\n",
    "    max_length = 0\n",
    "    column = col[0].column_letter  # Get the column letter\n",
    "    for cell in col:\n",
    "        try:\n",
    "            if cell.value:\n",
    "                # Calculate max length based on the string representation of the value (including formatting)\n",
    "                max_length = max(max_length, len(f\"{cell.value}\"))\n",
    "        except:\n",
    "            pass\n",
    "    adjusted_width = max_length + 5  # Add some padding to the width\n",
    "    ws.column_dimensions[column].width = adjusted_width\n",
    "\n",
    "# Create a new worksheet for the chart\n",
    "if 'chart' in wb.sheetnames:\n",
    "    chart_ws = wb['chart']\n",
    "else:\n",
    "    chart_ws = wb.create_sheet('chart')\n",
    "\n",
    "# Adding a bar chart for the salary data on the new 'chart' worksheet\n",
    "# Assuming that the \"Total Salary\" is in Column B, starting from row 2 (and row 1 contains headers)\n",
    "\n",
    "# Create a bar chart object\n",
    "chart = BarChart()\n",
    "\n",
    "# Define the data range for the chart (e.g., Total Salary in column B)\n",
    "# The header is in row 1, and the data starts from row 2, continuing to ws.max_row\n",
    "data = Reference(ws, min_col=2, min_row=1, max_row=ws.max_row)\n",
    "\n",
    "# Define the categories for the chart (Department names in Column A)\n",
    "categories = Reference(ws, min_col=1, min_row=2, max_row=ws.max_row)\n",
    "\n",
    "# Add data and categories to the chart\n",
    "chart.add_data(data, titles_from_data=True)  # Including the header for data title\n",
    "chart.set_categories(categories)\n",
    "\n",
    "# Set the title of the chart and the labels\n",
    "chart.title = \"Total Salary by Department\"\n",
    "chart.x_axis.title = \"Department\"\n",
    "chart.y_axis.title = \"Total Salary\"\n",
    "\n",
    "# Position the chart on the new 'chart' sheet, starting at cell A1\n",
    "chart_ws.add_chart(chart, \"A1\")\n",
    "\n",
    "# Save the updated workbook with the chart in the new tab\n",
    "wb.save('salary_summary_sorted_5.xlsx')\n",
    "\n",
    "print(f\"Padding added to {'salary_summary_sorted_5.xlsx'}\")\n"
   ]
  },
  {
   "cell_type": "markdown",
   "id": "e0eff378",
   "metadata": {},
   "source": [
    "https://pandas.pydata.org/docs/user_guide/timedeltas.html\n",
    "\n",
    "https://openpyxl.readthedocs.io/en/latest/index.html"
   ]
  }
 ],
 "metadata": {
  "kernelspec": {
   "display_name": "venv",
   "language": "python",
   "name": "python3"
  },
  "language_info": {
   "codemirror_mode": {
    "name": "ipython",
    "version": 3
   },
   "file_extension": ".py",
   "mimetype": "text/x-python",
   "name": "python",
   "nbconvert_exporter": "python",
   "pygments_lexer": "ipython3",
   "version": "3.10.8"
  }
 },
 "nbformat": 4,
 "nbformat_minor": 5
}
