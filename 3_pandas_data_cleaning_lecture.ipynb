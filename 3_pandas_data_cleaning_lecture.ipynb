{
 "cells": [
  {
   "cell_type": "markdown",
   "id": "ae51eed2",
   "metadata": {},
   "source": [
    "\n",
    "# Pandas - Data Cleaning Tutorial\n",
    "In this lecture, we will explore how to clean data using the Pandas library in Python.\n",
    "\n",
    "We will cover the following topics:\n",
    "- Removing Empty Cells\n",
    "- Fixing Data with Wrong Format\n",
    "- Fixing Wrong Data\n",
    "- Removing Duplicates\n"
   ]
  },
  {
   "cell_type": "markdown",
   "id": "5c91d39f",
   "metadata": {},
   "source": [
    "\n",
    "## 1. Removing Empty Cells\n",
    "Empty cells can potentially give you incorrect results when analyzing data.\n",
    "\n",
    "### Example Data:\n",
    "Here is an example dataset with some empty cells:\n",
    "```plaintext\n",
    "      Duration          Date  Pulse  Maxpulse  Calories\n",
    "  0         60  '2020/12/01'    110       130     409.1\n",
    "  1         60  '2020/12/02'    117       145     479.0\n",
    "  2         60  '2020/12/03'    103       135     340.0\n",
    "  3         45  '2020/12/04'    109       175     282.4\n",
    "  4         45  '2020/12/05'    117       148     406.0\n",
    "  5         60  '2020/12/06'    102       127     300.0\n",
    "  6         60  '2020/12/07'    110       136     374.0\n",
    "  7        450  '2020/12/08'    104       134     253.3\n",
    "  8         30  '2020/12/09'    109       133     195.1\n",
    "  9         60  '2020/12/10'     98       124     269.0\n",
    " 10         60  '2020/12/11'    103       147     329.3\n",
    " 11         60  '2020/12/12'    100       120     250.7\n",
    " 12         60  '2020/12/12'    100       120     250.7\n",
    " 13         60  '2020/12/13'    106       128     345.3\n",
    " 14         60  '2020/12/14'    104       132     379.3\n",
    " 15         60  '2020/12/15'     98       123     275.0\n",
    " 16         60  '2020/12/16'     98       120     215.2\n",
    " 17         60  '2020/12/17'    100       120     300.0\n",
    " 18         45  '2020/12/18'     90       112       NaN\n",
    " 19         60  '2020/12/19'    103       123     323.0\n",
    " 20         45  '2020/12/20'     97       125     243.0\n",
    " 21         60  '2020/12/21'    108       131     364.2\n",
    " 22         45           NaN    100       119     282.0\n",
    " 23         60  '2020/12/23'    130       101     300.0\n",
    " 24         45  '2020/12/24'    105       132     246.0\n",
    " 25         60  '2020/12/25'    102       126     334.5\n",
    " 26         60      20201226    100       120     250.0\n",
    " 27         60  '2020/12/27'     92       118     241.0\n",
    " 28         60  '2020/12/28'    103       132       NaN\n",
    " 29         60  '2020/12/29'    100       132     280.0\n",
    " 30         60  '2020/12/30'    102       129     380.3\n",
    " 31         60  '2020/12/31'     92       115     243.0\n",
    "```\n",
    "\n",
    "### Removing Empty Cells\n",
    "You can remove rows with empty cells using the `dropna()` method:\n"
   ]
  },
  {
   "cell_type": "code",
   "execution_count": null,
   "id": "714dfdd9",
   "metadata": {},
   "outputs": [],
   "source": [
    "\n",
    "import pandas as pd\n",
    "\n",
    "# Sample data\n",
    "data = {\n",
    "    \"Duration\": [60, 60, 60, 45, 45, 60, 60, 450, 30, 60, 60, 60, 60, 60, 60, 60, 60, 60, 45, 60, 45, 60, 45, 60, 45, 60, 60, 60, 60, 60, 60, 60],\n",
    "    \"Date\": [None, '2020/12/02', None, '2020/12/04', '2020/12/05', '2020/12/06', '2020/12/07', '2020/12/08', '2020/12/09', '2020/12/10',\n",
    "             '2020/12/11', '2020/12/12', '2020/12/12', '2020/12/13', '2020/12/14', '2020/12/15', '2020/12/16', '2020/12/17', '2020/12/18', '2020/12/19',\n",
    "             '2020/12/20', '2020/12/21', None, '2020/12/23', '2020/12/24', '2020/12/25', '20201226', '2020/12/27', '2020/12/28', '2020/12/29', '2020/12/30', '2020/12/31'],\n",
    "    \"Calories\": [409.1, 479.0, 340.0, 282.4, 406.0, 300.0, 374.0, 253.3, 195.1, 269.0, 329.3, 250.7, 250.7, 345.3, 379.3, 275.0, 215.2, 300.0, None, 323.0,\n",
    "                 243.0, 364.2, 282.0, 300.0, 246.0, 334.5, 250.0, 241.0, None, 280.0, 380.3, 243.0]\n",
    "}\n",
    "\n",
    "df = pd.DataFrame(data)\n",
    "\n",
    "# Remove rows with empty cells\n",
    "df_cleaned = df.dropna()\n",
    "print(df_cleaned.to_string())\n"
   ]
  },
  {
   "cell_type": "code",
   "execution_count": null,
   "id": "598bdb8c",
   "metadata": {},
   "outputs": [],
   "source": [
    "df_cleaned\n",
    "#what do you see with the index?"
   ]
  },
  {
   "cell_type": "markdown",
   "id": "57aa58f4",
   "metadata": {},
   "source": [
    "\n",
    "## 2. Fixing Data with Wrong Format\n",
    "Sometimes, data may have wrong formats that need correction. For instance, the 'Date' column should have all values in the date format.\n",
    "\n",
    "### Example:\n",
    "```plaintext\n",
    "Row 22 has an empty date.\n",
    "Row 26 has a date in the wrong format ('20201226').\n",
    "```\n",
    "\n",
    "We can use the `to_datetime()` method to convert the 'Date' column into the correct format:\n"
   ]
  },
  {
   "cell_type": "code",
   "execution_count": null,
   "id": "45cb51be",
   "metadata": {},
   "outputs": [],
   "source": [
    "\n",
    "# Convert the 'Date' column into datetime format\n",
    "df['Date'] = pd.to_datetime(df['Date'], errors='coerce')\n",
    "\n",
    "# Show the cleaned DataFrame\n",
    "print(df.to_string())\n"
   ]
  },
  {
   "cell_type": "code",
   "execution_count": null,
   "id": "1a5ecd30",
   "metadata": {},
   "outputs": [],
   "source": [
    "df"
   ]
  },
  {
   "cell_type": "code",
   "execution_count": null,
   "id": "d316e162",
   "metadata": {},
   "outputs": [],
   "source": [
    "df.info()"
   ]
  },
  {
   "cell_type": "markdown",
   "id": "5b6d81ae",
   "metadata": {},
   "source": [
    "\n",
    "## 3. Fixing Wrong Data\n",
    "Sometimes, data values may be wrong, such as a duration of 450 minutes in a dataset where most durations are between 30 and 60 minutes.\n",
    "\n",
    "### Example:\n",
    "We will fix the duration value in row 7 to 45 minutes:\n"
   ]
  },
  {
   "cell_type": "code",
   "execution_count": null,
   "id": "086a094c",
   "metadata": {},
   "outputs": [],
   "source": [
    "\n",
    "# Fix wrong data in 'Duration' column\n",
    "df.loc[df['Duration'] > 120, 'Duration'] = 120\n",
    "\n",
    "# Show the updated DataFrame\n",
    "print(df.to_string())\n"
   ]
  },
  {
   "cell_type": "code",
   "execution_count": null,
   "id": "e235f5b9",
   "metadata": {},
   "outputs": [],
   "source": [
    "df"
   ]
  },
  {
   "cell_type": "markdown",
   "id": "d9823517",
   "metadata": {},
   "source": [
    "\n",
    "## 4. Removing Duplicates\n",
    "Duplicate rows are rows that have been registered more than once in the dataset.\n",
    "\n",
    "### Example:\n",
    "Rows 11 and 12 are duplicates.\n",
    "\n",
    "To remove duplicates, we use the `drop_duplicates()` method:\n"
   ]
  },
  {
   "cell_type": "code",
   "execution_count": null,
   "id": "4cf978cd",
   "metadata": {},
   "outputs": [],
   "source": [
    "\n",
    "# Remove duplicates\n",
    "df_no_duplicates = df.drop_duplicates()\n",
    "\n",
    "# Show the cleaned DataFrame\n",
    "print(df_no_duplicates.to_string())\n"
   ]
  }
 ],
 "metadata": {
  "kernelspec": {
   "display_name": "venv",
   "language": "python",
   "name": "python3"
  },
  "language_info": {
   "codemirror_mode": {
    "name": "ipython",
    "version": 3
   },
   "file_extension": ".py",
   "mimetype": "text/x-python",
   "name": "python",
   "nbconvert_exporter": "python",
   "pygments_lexer": "ipython3",
   "version": "3.10.8"
  }
 },
 "nbformat": 4,
 "nbformat_minor": 5
}
