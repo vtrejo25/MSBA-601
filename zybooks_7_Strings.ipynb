{
 "cells": [
  {
   "cell_type": "markdown",
   "id": "e9fa48c4",
   "metadata": {},
   "source": [
    "\n",
    "# Python String Operations - Course Module\n",
    "\n",
    "Welcome to the Python String Operations module. In this lesson, we'll explore various string operations in Python including looping through strings, slicing, modifying, concatenating, formatting, handling escape characters, and more. Each section will be explained, followed by practical code examples.\n"
   ]
  },
  {
   "cell_type": "markdown",
   "id": "3e87a7ab",
   "metadata": {},
   "source": [
    "\n",
    "## Looping Through a String\n",
    "\n",
    "Strings in Python can be treated like arrays of characters. This means we can loop through each character in a string using a `for` loop. Below is an example that demonstrates looping through each character in the word \"banana\".\n"
   ]
  },
  {
   "cell_type": "code",
   "execution_count": 1,
   "id": "3d89aed1",
   "metadata": {},
   "outputs": [
    {
     "name": "stdout",
     "output_type": "stream",
     "text": [
      "b\n",
      "a\n",
      " \n",
      "n\n",
      "a\n",
      "n\n",
      "(\n",
      "*\n",
      "&\n",
      "(\n",
      "*\n",
      "&\n",
      "(\n",
      "a\n"
     ]
    }
   ],
   "source": [
    "\n",
    "# Looping Through a String\n",
    "for x in \"ba nan(*&(*&(a\":\n",
    "    print(x)\n"
   ]
  },
  {
   "cell_type": "markdown",
   "id": "64bcef18",
   "metadata": {},
   "source": [
    "\n",
    "## String Length\n",
    "\n",
    "To find out how many characters are in a string, we can use the built-in `len()` function. This function returns the length of the string.\n"
   ]
  },
  {
   "cell_type": "code",
   "execution_count": 2,
   "id": "720a9b6d",
   "metadata": {},
   "outputs": [
    {
     "name": "stdout",
     "output_type": "stream",
     "text": [
      "Hello, World!\n",
      "13\n"
     ]
    }
   ],
   "source": [
    "\n",
    "# String Length\n",
    "a = \"Hello, World!\"\n",
    "x= len(a)\n",
    "\n",
    "print(a)\n",
    "print(x)"
   ]
  },
  {
   "cell_type": "markdown",
   "id": "2f7b8d0e",
   "metadata": {},
   "source": [
    "\n",
    "## Checking for Substrings\n",
    "\n",
    "In Python, we can check if a specific word or character exists within a string using the `in` keyword. This is useful for filtering or conditionally executing code based on the presence of a substring.\n"
   ]
  },
  {
   "cell_type": "code",
   "execution_count": 3,
   "id": "bb69b3da",
   "metadata": {},
   "outputs": [
    {
     "name": "stdout",
     "output_type": "stream",
     "text": [
      "True\n",
      "Yes, 'free' is present.\n"
     ]
    }
   ],
   "source": [
    "\n",
    "# Check String\n",
    "txt = \"The best things in life are free!\"\n",
    "print(\"free\" in txt)\n",
    "\n",
    "# Use it in an if statement:\n",
    "if \"free\" in txt:\n",
    "    print(\"Yes, 'free' is present.\")\n",
    "\n",
    "\n"
   ]
  },
  {
   "cell_type": "markdown",
   "id": "7e894e6f",
   "metadata": {},
   "source": [
    "\n",
    "## Checking if a Substring is NOT in a String\n",
    "\n",
    "Similarly, we can check if a string does not contain a substring using the `not in` keyword.\n"
   ]
  },
  {
   "cell_type": "code",
   "execution_count": 4,
   "id": "5187c1f3",
   "metadata": {},
   "outputs": [
    {
     "name": "stdout",
     "output_type": "stream",
     "text": [
      "True\n",
      "No, 'expensive' is NOT present.\n"
     ]
    }
   ],
   "source": [
    "\n",
    "# Check if NOT\n",
    "txt = \"The best things in life are free!\"\n",
    "print(\"expensive\" not in txt)\n",
    "\n",
    "# Use it in an if statement:\n",
    "if \"expensive\" not in txt:\n",
    "    print(\"No, 'expensive' is NOT present.\")\n"
   ]
  },
  {
   "cell_type": "markdown",
   "id": "f726e124",
   "metadata": {},
   "source": [
    "\n",
    "## Slicing Strings\n",
    "\n",
    "You can extract a specific part of a string by specifying a range of indices. This process is called slicing. Below are examples of slicing strings in Python.\n"
   ]
  },
  {
   "cell_type": "code",
   "execution_count": 11,
   "id": "1c19e967",
   "metadata": {},
   "outputs": [
    {
     "name": "stdout",
     "output_type": "stream",
     "text": [
      "llo\n",
      "Hello\n",
      "llo, World!\n",
      "orl\n"
     ]
    }
   ],
   "source": [
    "\n",
    "# Slicing Strings\n",
    "b = \"Hello, World!\"\n",
    "\n",
    "# Get characters from position 2 to 5 (not included):\n",
    "print(b[2:5])\n",
    "\n",
    "# Slice from the start:\n",
    "print(b[:5])\n",
    "\n",
    "# Slice to the end:\n",
    "print(b[2:])\n",
    "\n",
    "# Negative indexing:\n",
    "print(b[-5:-2])\n"
   ]
  },
  {
   "cell_type": "markdown",
   "id": "ce476b7d",
   "metadata": {},
   "source": [
    "\n",
    "## Modifying Strings\n",
    "\n",
    "Python provides several built-in methods for modifying strings. You can convert to uppercase, lowercase, remove whitespace, replace characters, and split strings into lists.\n"
   ]
  },
  {
   "cell_type": "code",
   "execution_count": 12,
   "id": "60ddaf0f",
   "metadata": {},
   "outputs": [
    {
     "name": "stdout",
     "output_type": "stream",
     "text": [
      " HHELLHO, WO,RH,LD! \n",
      " hhellho, wo,rh,ld! \n",
      "HhellHo, Wo,rH,ld!\n",
      " JhellJo, Wo,rJ,ld! \n",
      "['', 'HhellHo,', 'Wo,rH,ld!', '']\n"
     ]
    }
   ],
   "source": [
    "\n",
    "# Modify Strings\n",
    "a = \" HhellHo, Wo,rH,ld! \"\n",
    "\n",
    "# Upper case\n",
    "print(a.upper())\n",
    "\n",
    "# Lower case\n",
    "print(a.lower())\n",
    "\n",
    "\n",
    "# Remove whitespace\n",
    "print(a.strip())\n",
    "\n",
    "# Replace string\n",
    "print(a.replace(\"H\", \"J\"))\n",
    "\n",
    "# Split string\n",
    "print(a.split(\" \"))\n",
    "\n",
    "\n",
    "x = a.split(\" \")\n"
   ]
  },
  {
   "cell_type": "markdown",
   "id": "4ce2ef1e",
   "metadata": {},
   "source": [
    "\n",
    "## String Concatenation\n",
    "\n",
    "You can combine multiple strings into one by using the `+` operator. This is called concatenation. Below are examples of simple concatenation and adding a space between two strings.\n"
   ]
  },
  {
   "cell_type": "code",
   "execution_count": 13,
   "id": "a7e6b614",
   "metadata": {},
   "outputs": [
    {
     "name": "stdout",
     "output_type": "stream",
     "text": [
      "HelloWorld\n",
      "Hello World\n"
     ]
    }
   ],
   "source": [
    "\n",
    "# String Concatenation\n",
    "a = \"Hello\"\n",
    "b = \"World\"\n",
    "x = \" \"\n",
    "\n",
    "\n",
    "# Merge two strings\n",
    "c = a + b\n",
    "print(c)\n",
    "\n",
    "# Merge with space\n",
    "c = a + x + b\n",
    "print(c)\n",
    "\n"
   ]
  },
  {
   "cell_type": "markdown",
   "id": "b4d4b051",
   "metadata": {},
   "source": [
    "\n",
    "## String Formatting with F-Strings\n",
    "\n",
    "F-strings provide a powerful way to format strings in Python. You can insert variables and even perform operations inside curly braces `{}` in a string prefixed by an `f`.\n"
   ]
  },
  {
   "cell_type": "code",
   "execution_count": 16,
   "id": "42224100",
   "metadata": {},
   "outputs": [
    {
     "name": "stdout",
     "output_type": "stream",
     "text": [
      "My name is John, I am 36\n"
     ]
    }
   ],
   "source": [
    "\n",
    "# String Formatting with F-Strings\n",
    "\n",
    "age = 36\n",
    "txt = f\"My name is John, I am {age}\"\n",
    "print(txt)\n",
    "\n"
   ]
  },
  {
   "cell_type": "markdown",
   "id": "26f70ad4",
   "metadata": {},
   "source": [
    "\n",
    "## Escape Characters\n",
    "\n",
    "Certain characters, like quotes and backslashes, need to be \"escaped\" inside a string to avoid syntax errors. You can escape these characters by using a backslash `\\` before the character.\n"
   ]
  },
  {
   "cell_type": "code",
   "execution_count": 17,
   "id": "4f5fa06e",
   "metadata": {},
   "outputs": [
    {
     "name": "stdout",
     "output_type": "stream",
     "text": [
      "We are the so-called 'Vikings' from the north.\n",
      "Single quote: It's a great day!\n",
      "Backslash: This is a backslash \\\n",
      "New line: Hello\n",
      "World\n",
      "Tab: Hello\tWorld\n"
     ]
    }
   ],
   "source": [
    "\n",
    "# Escape Characters\n",
    "txt = \"We are the so-called 'Vikings' from the north.\"\n",
    "print(txt)\n",
    "\n",
    "# Examples of other escape characters:\n",
    "print(\"Single quote: It's a great day!\")\n",
    "print(\"Backslash: This is a backslash \\\\\")\n",
    "print(\"New line: Hello\\nWorld\")\n",
    "print(\"Tab: Hello\\tWorld\")\n",
    "\n"
   ]
  },
  {
   "cell_type": "markdown",
   "id": "b918d2d1",
   "metadata": {},
   "source": [
    "\n",
    "## Python String Methods\n",
    "\n",
    "Python provides a variety of built-in methods for manipulating strings. Below are some commonly used string methods along with their descriptions.\n"
   ]
  },
  {
   "cell_type": "code",
   "execution_count": null,
   "id": "f77a9e27",
   "metadata": {},
   "outputs": [],
   "source": [
    "# Case Conversion Methods\n",
    "\n",
    "s = \"hello WORLD\"\n",
    "\n",
    "print(s.lower())      # 'hello world' (all lowercase)\n",
    "print(s.upper())      # 'HELLO WORLD' (all uppercase)\n",
    "print(s.title())      # 'Hello World' (each word capitalized)\n",
    "print(s.capitalize()) # 'Hello world' (first letter capitalized, rest lowercase)\n",
    "print(s.swapcase())   # 'HELLO world' (swaps case)\n"
   ]
  },
  {
   "cell_type": "code",
   "execution_count": null,
   "id": "212f98ab",
   "metadata": {},
   "outputs": [],
   "source": [
    "# Checking String Contents\n",
    "\n",
    "s1 = \"Hello\"\n",
    "s2 = \"12345\"\n",
    "s3 = \"Hello123\"\n",
    "s4 = \"   \"\n",
    "\n",
    "print(s1.isalpha())   # True (only letters)\n",
    "print(s2.isdigit())   # True (only digits)\n",
    "print(s3.isalnum())   # True (letters and digits only)\n",
    "print(s4.isspace())   # True (only whitespace)\n",
    "print(s1.islower())   # False ('Hello' is mixed case)\n",
    "print(s1.isupper())   # False ('Hello' is mixed case)"
   ]
  },
  {
   "cell_type": "code",
   "execution_count": null,
   "id": "b8a02533",
   "metadata": {},
   "outputs": [],
   "source": [
    "#  Finding & Replacing\n",
    "\n",
    "s = \"hello world\"\n",
    "\n",
    "print(s.find(\"o\"))       # 4 (first occurrence of 'o')\n",
    "print(s.rfind(\"o\"))      # 7 (last occurrence of 'o')\n",
    "print(s.index(\"w\"))      # 6 (first occurrence of 'w')\n",
    "print(s.replace(\"world\", \"Python\"))  # 'hello Python'\n"
   ]
  },
  {
   "cell_type": "code",
   "execution_count": null,
   "id": "2d2c4d36",
   "metadata": {},
   "outputs": [],
   "source": [
    "# Splitting & Joining\n",
    "\n",
    "s = \"apple,banana,cherry\"\n",
    "\n",
    "print(s.split(\",\"))  # ['apple', 'banana', 'cherry'] (split by ',')\n",
    "print(s.rsplit(\",\", 1))  # ['apple,banana', 'cherry'] (split from right, once)\n",
    "\n",
    "print(\"hello world\".partition(\" \"))  # ('hello', ' ', 'world') (splits into 3 parts)\n",
    "print(\"hello world\".rpartition(\" \")) # ('hello', ' ', 'world') (splits from right)\n",
    "\n",
    "words = [\"Python\", \"is\", \"fun\"]\n",
    "print(\" \".join(words))  # 'Python is fun' (joins with space)\n"
   ]
  },
  {
   "cell_type": "code",
   "execution_count": null,
   "id": "894d25a9",
   "metadata": {},
   "outputs": [],
   "source": [
    "# Checking Start & End\n",
    "\n",
    "s = \"python_script.py\"\n",
    "\n",
    "print(s.startswith(\"python\"))  # True (starts with 'python')\n",
    "print(s.endswith(\".py\"))       # True (ends with '.py')"
   ]
  },
  {
   "cell_type": "code",
   "execution_count": null,
   "id": "a614e2b4",
   "metadata": {},
   "outputs": [],
   "source": [
    "# Changing Character Encoding\n",
    "\n",
    "s = \"hello\"\n",
    "\n",
    "encoded = s.encode(\"utf-8\")  # Convert string to bytes\n",
    "print(encoded)  # b'hello'\n",
    "\n",
    "decoded = encoded.decode(\"utf-8\")  # Convert bytes back to string\n",
    "print(decoded)  # 'hello'"
   ]
  },
  {
   "cell_type": "code",
   "execution_count": null,
   "id": "80f5d714",
   "metadata": {},
   "outputs": [],
   "source": [
    "# String Expanding & Filling\n",
    "\n",
    "s = \"hello\\tworld\"\n",
    "\n",
    "print(s.expandtabs(4))  # 'hello   world' (tab expanded to 4 spaces)"
   ]
  },
  {
   "cell_type": "code",
   "execution_count": null,
   "id": "57559fa5",
   "metadata": {},
   "outputs": [],
   "source": []
  }
 ],
 "metadata": {
  "kernelspec": {
   "display_name": "venv",
   "language": "python",
   "name": "python3"
  },
  "language_info": {
   "codemirror_mode": {
    "name": "ipython",
    "version": 3
   },
   "file_extension": ".py",
   "mimetype": "text/x-python",
   "name": "python",
   "nbconvert_exporter": "python",
   "pygments_lexer": "ipython3",
   "version": "3.13.1"
  }
 },
 "nbformat": 4,
 "nbformat_minor": 5
}
