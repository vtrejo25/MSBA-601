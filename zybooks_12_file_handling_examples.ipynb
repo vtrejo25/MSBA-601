{
 "cells": [
  {
   "cell_type": "markdown",
   "id": "35e3c2a4",
   "metadata": {},
   "source": [
    "\n",
    "# File Handling in Python\n",
    "In this notebook, we will explore how to work with files in Python, including:\n",
    "- Reading files\n",
    "- Writing files\n",
    "- Working with binary files\n",
    "- Using the `with` statement\n",
    "- Handling CSV files\n",
    "\n",
    "Let's start with the basics of file handling.\n"
   ]
  },
  {
   "cell_type": "markdown",
   "id": "c0fce947",
   "metadata": {},
   "source": [
    "\n",
    "## Reading Files\n",
    "To read a file, we use the `open()` function and specify the mode as 'r' (read). Once we have the file object, we can use the `read()` method to read the file's content.\n"
   ]
  },
  {
   "cell_type": "code",
   "execution_count": 2,
   "id": "1e9daf2d",
   "metadata": {},
   "outputs": [
    {
     "ename": "FileNotFoundError",
     "evalue": "[Errno 2] No such file or directory: 'example_output.txt'",
     "output_type": "error",
     "traceback": [
      "\u001b[0;31m---------------------------------------------------------------------------\u001b[0m",
      "\u001b[0;31mFileNotFoundError\u001b[0m                         Traceback (most recent call last)",
      "Cell \u001b[0;32mIn[2], line 5\u001b[0m\n\u001b[1;32m      1\u001b[0m \u001b[38;5;66;03m# Reading a file example\u001b[39;00m\n\u001b[1;32m      2\u001b[0m \u001b[38;5;66;03m# Let's assume we have a file 'example.txt' with some text content.\u001b[39;00m\n\u001b[1;32m      3\u001b[0m \n\u001b[1;32m      4\u001b[0m \u001b[38;5;66;03m# Open the file in read mode\u001b[39;00m\n\u001b[0;32m----> 5\u001b[0m \u001b[38;5;28;01mwith\u001b[39;00m \u001b[38;5;28;43mopen\u001b[39;49m\u001b[43m(\u001b[49m\u001b[38;5;124;43m'\u001b[39;49m\u001b[38;5;124;43mexample_output.txt\u001b[39;49m\u001b[38;5;124;43m'\u001b[39;49m\u001b[43m,\u001b[49m\u001b[43m \u001b[49m\u001b[38;5;124;43m'\u001b[39;49m\u001b[38;5;124;43mr\u001b[39;49m\u001b[38;5;124;43m'\u001b[39;49m\u001b[43m,\u001b[49m\u001b[43m \u001b[49m\u001b[43mencoding\u001b[49m\u001b[38;5;241;43m=\u001b[39;49m\u001b[38;5;124;43m'\u001b[39;49m\u001b[38;5;124;43mutf-8\u001b[39;49m\u001b[38;5;124;43m'\u001b[39;49m\u001b[43m)\u001b[49m \u001b[38;5;28;01mas\u001b[39;00m file:\n\u001b[1;32m      6\u001b[0m     contents \u001b[38;5;241m=\u001b[39m file\u001b[38;5;241m.\u001b[39mread()\n\u001b[1;32m      9\u001b[0m \u001b[38;5;66;03m# Output the contents of the file\u001b[39;00m\n",
      "File \u001b[0;32m~/Documents/GitHub/MSBA-601/venv/lib/python3.13/site-packages/IPython/core/interactiveshell.py:324\u001b[0m, in \u001b[0;36m_modified_open\u001b[0;34m(file, *args, **kwargs)\u001b[0m\n\u001b[1;32m    317\u001b[0m \u001b[38;5;28;01mif\u001b[39;00m file \u001b[38;5;129;01min\u001b[39;00m {\u001b[38;5;241m0\u001b[39m, \u001b[38;5;241m1\u001b[39m, \u001b[38;5;241m2\u001b[39m}:\n\u001b[1;32m    318\u001b[0m     \u001b[38;5;28;01mraise\u001b[39;00m \u001b[38;5;167;01mValueError\u001b[39;00m(\n\u001b[1;32m    319\u001b[0m         \u001b[38;5;124mf\u001b[39m\u001b[38;5;124m\"\u001b[39m\u001b[38;5;124mIPython won\u001b[39m\u001b[38;5;124m'\u001b[39m\u001b[38;5;124mt let you open fd=\u001b[39m\u001b[38;5;132;01m{\u001b[39;00mfile\u001b[38;5;132;01m}\u001b[39;00m\u001b[38;5;124m by default \u001b[39m\u001b[38;5;124m\"\u001b[39m\n\u001b[1;32m    320\u001b[0m         \u001b[38;5;124m\"\u001b[39m\u001b[38;5;124mas it is likely to crash IPython. If you know what you are doing, \u001b[39m\u001b[38;5;124m\"\u001b[39m\n\u001b[1;32m    321\u001b[0m         \u001b[38;5;124m\"\u001b[39m\u001b[38;5;124myou can use builtins\u001b[39m\u001b[38;5;124m'\u001b[39m\u001b[38;5;124m open.\u001b[39m\u001b[38;5;124m\"\u001b[39m\n\u001b[1;32m    322\u001b[0m     )\n\u001b[0;32m--> 324\u001b[0m \u001b[38;5;28;01mreturn\u001b[39;00m \u001b[43mio_open\u001b[49m\u001b[43m(\u001b[49m\u001b[43mfile\u001b[49m\u001b[43m,\u001b[49m\u001b[43m \u001b[49m\u001b[38;5;241;43m*\u001b[39;49m\u001b[43margs\u001b[49m\u001b[43m,\u001b[49m\u001b[43m \u001b[49m\u001b[38;5;241;43m*\u001b[39;49m\u001b[38;5;241;43m*\u001b[39;49m\u001b[43mkwargs\u001b[49m\u001b[43m)\u001b[49m\n",
      "\u001b[0;31mFileNotFoundError\u001b[0m: [Errno 2] No such file or directory: 'example_output.txt'"
     ]
    }
   ],
   "source": [
    "\n",
    "# Reading a file example\n",
    "# Let's assume we have a file 'example.txt' with some text content.\n",
    "\n",
    "# Open the file in read mode\n",
    "with open('example_output.txt', 'r', encoding='utf-8') as file:\n",
    "    contents = file.read()\n",
    "\n",
    "\n",
    "# Output the contents of the file\n",
    "print(contents)\n"
   ]
  },
  {
   "cell_type": "markdown",
   "id": "577f1d08",
   "metadata": {},
   "source": [
    "\n",
    "## Writing Files\n",
    "To write to a file, we open it in 'w' mode. If the file already exists, it will be overwritten. You can use the `write()` method to add text to the file.\n"
   ]
  },
  {
   "cell_type": "code",
   "execution_count": 6,
   "id": "413cc9b4",
   "metadata": {},
   "outputs": [],
   "source": [
    "\n",
    "# Writing to a file example\n",
    "# Open a file in write mode. If the file does not exist, it will be created.\n",
    "with open('example_output.txt', 'w') as file:\n",
    "    file.write(\"This is an example of writing to a file.\\n\")\n",
    "    file.write(\"File handling in Python is simple and easy.\\n\")\n",
    "    file.write(\"Filedhgdghgdhgdgdgg and easy.\")\n",
    "    file.write(\"Filedhgdghgdhgdgdgg and easy.\")\n",
    "    file.write(\"Filedhgdghgdhgdgdgg and easy.\")\n",
    "    file.write(\"Filedhgdghgdhgdgdgg and easy.\")\n",
    "\n",
    "# The file 'example_output.txt' now contains the written text.\n"
   ]
  },
  {
   "cell_type": "markdown",
   "id": "5bfd9924",
   "metadata": {},
   "source": [
    "\n",
    "## Appending Files\n",
    "To append data to an existing file, we open it in 'a' mode. This allows us to add content without overwriting the current data.\n"
   ]
  },
  {
   "cell_type": "code",
   "execution_count": null,
   "id": "fa2014b0",
   "metadata": {},
   "outputs": [],
   "source": [
    "\n",
    "# Appending to a file example\n",
    "# Open a file in append mode. This will add content without overwriting the existing data.\n",
    "with open('example_output.txt', 'a') as file:\n",
    "    file.write(\"\\nThis text is appended to the existing file content.\")\n",
    "    file.write(\"\\nThis text is appended to the existing file content.\")\n",
    "\n",
    "# The file 'example_output.txt' now contains the appended text.\n"
   ]
  },
  {
   "cell_type": "markdown",
   "id": "52d16506",
   "metadata": {},
   "source": [
    "\n",
    "## Binary Files\n",
    "When working with non-text files (like images, videos, etc.), we use binary mode by adding 'b' to the mode string (e.g., 'rb' for reading binary files).\n"
   ]
  },
  {
   "cell_type": "code",
   "execution_count": 7,
   "id": "4ef8d59d",
   "metadata": {},
   "outputs": [
    {
     "ename": "FileNotFoundError",
     "evalue": "[Errno 2] No such file or directory: 'example_image.png'",
     "output_type": "error",
     "traceback": [
      "\u001b[0;31m---------------------------------------------------------------------------\u001b[0m",
      "\u001b[0;31mFileNotFoundError\u001b[0m                         Traceback (most recent call last)",
      "Cell \u001b[0;32mIn[7], line 3\u001b[0m\n\u001b[1;32m      1\u001b[0m \u001b[38;5;66;03m# Working with binary files\u001b[39;00m\n\u001b[1;32m      2\u001b[0m \u001b[38;5;66;03m# Let's open an image file (or any binary file) in binary read mode\u001b[39;00m\n\u001b[0;32m----> 3\u001b[0m \u001b[38;5;28;01mwith\u001b[39;00m \u001b[38;5;28;43mopen\u001b[39;49m\u001b[43m(\u001b[49m\u001b[38;5;124;43m'\u001b[39;49m\u001b[38;5;124;43mexample_image.png\u001b[39;49m\u001b[38;5;124;43m'\u001b[39;49m\u001b[43m,\u001b[49m\u001b[43m \u001b[49m\u001b[38;5;124;43m'\u001b[39;49m\u001b[38;5;124;43mrb\u001b[39;49m\u001b[38;5;124;43m'\u001b[39;49m\u001b[43m)\u001b[49m \u001b[38;5;28;01mas\u001b[39;00m file:\n\u001b[1;32m      4\u001b[0m     binary_data \u001b[38;5;241m=\u001b[39m file\u001b[38;5;241m.\u001b[39mread(\u001b[38;5;241m10\u001b[39m)  \u001b[38;5;66;03m# Reading the first 10 bytes of the binary file\u001b[39;00m\n\u001b[1;32m      6\u001b[0m \u001b[38;5;28mprint\u001b[39m(binary_data)\n",
      "File \u001b[0;32m~/Documents/GitHub/MSBA-601/venv/lib/python3.13/site-packages/IPython/core/interactiveshell.py:324\u001b[0m, in \u001b[0;36m_modified_open\u001b[0;34m(file, *args, **kwargs)\u001b[0m\n\u001b[1;32m    317\u001b[0m \u001b[38;5;28;01mif\u001b[39;00m file \u001b[38;5;129;01min\u001b[39;00m {\u001b[38;5;241m0\u001b[39m, \u001b[38;5;241m1\u001b[39m, \u001b[38;5;241m2\u001b[39m}:\n\u001b[1;32m    318\u001b[0m     \u001b[38;5;28;01mraise\u001b[39;00m \u001b[38;5;167;01mValueError\u001b[39;00m(\n\u001b[1;32m    319\u001b[0m         \u001b[38;5;124mf\u001b[39m\u001b[38;5;124m\"\u001b[39m\u001b[38;5;124mIPython won\u001b[39m\u001b[38;5;124m'\u001b[39m\u001b[38;5;124mt let you open fd=\u001b[39m\u001b[38;5;132;01m{\u001b[39;00mfile\u001b[38;5;132;01m}\u001b[39;00m\u001b[38;5;124m by default \u001b[39m\u001b[38;5;124m\"\u001b[39m\n\u001b[1;32m    320\u001b[0m         \u001b[38;5;124m\"\u001b[39m\u001b[38;5;124mas it is likely to crash IPython. If you know what you are doing, \u001b[39m\u001b[38;5;124m\"\u001b[39m\n\u001b[1;32m    321\u001b[0m         \u001b[38;5;124m\"\u001b[39m\u001b[38;5;124myou can use builtins\u001b[39m\u001b[38;5;124m'\u001b[39m\u001b[38;5;124m open.\u001b[39m\u001b[38;5;124m\"\u001b[39m\n\u001b[1;32m    322\u001b[0m     )\n\u001b[0;32m--> 324\u001b[0m \u001b[38;5;28;01mreturn\u001b[39;00m \u001b[43mio_open\u001b[49m\u001b[43m(\u001b[49m\u001b[43mfile\u001b[49m\u001b[43m,\u001b[49m\u001b[43m \u001b[49m\u001b[38;5;241;43m*\u001b[39;49m\u001b[43margs\u001b[49m\u001b[43m,\u001b[49m\u001b[43m \u001b[49m\u001b[38;5;241;43m*\u001b[39;49m\u001b[38;5;241;43m*\u001b[39;49m\u001b[43mkwargs\u001b[49m\u001b[43m)\u001b[49m\n",
      "\u001b[0;31mFileNotFoundError\u001b[0m: [Errno 2] No such file or directory: 'example_image.png'"
     ]
    }
   ],
   "source": [
    "\n",
    "# Working with binary files\n",
    "# Let's open an image file (or any binary file) in binary read mode\n",
    "with open('example_image.png', 'rb') as file:\n",
    "    binary_data = file.read(10)  # Reading the first 10 bytes of the binary file\n",
    "\n",
    "print(binary_data)\n"
   ]
  },
  {
   "cell_type": "code",
   "execution_count": 8,
   "id": "4fc1bce7",
   "metadata": {},
   "outputs": [
    {
     "ename": "ModuleNotFoundError",
     "evalue": "No module named 'cv2'",
     "output_type": "error",
     "traceback": [
      "\u001b[0;31m---------------------------------------------------------------------------\u001b[0m",
      "\u001b[0;31mModuleNotFoundError\u001b[0m                       Traceback (most recent call last)",
      "Cell \u001b[0;32mIn[8], line 1\u001b[0m\n\u001b[0;32m----> 1\u001b[0m \u001b[38;5;28;01mimport\u001b[39;00m\u001b[38;5;250m \u001b[39m\u001b[38;5;21;01mcv2\u001b[39;00m\n\u001b[1;32m      3\u001b[0m \u001b[38;5;66;03m# Read the image\u001b[39;00m\n\u001b[1;32m      4\u001b[0m image \u001b[38;5;241m=\u001b[39m cv2\u001b[38;5;241m.\u001b[39mimread(\u001b[38;5;124m'\u001b[39m\u001b[38;5;124mexample_image.png\u001b[39m\u001b[38;5;124m'\u001b[39m)\n",
      "\u001b[0;31mModuleNotFoundError\u001b[0m: No module named 'cv2'"
     ]
    }
   ],
   "source": [
    "import cv2\n",
    "\n",
    "# Read the image\n",
    "image = cv2.imread('example_image.png')\n",
    "\n",
    "# Display the image\n",
    "cv2.imshow('Image', image)\n",
    "\n",
    "# Wait until a key is pressed, then close the window\n",
    "cv2.waitKey(0)\n",
    "cv2.destroyAllWindows()\n"
   ]
  },
  {
   "cell_type": "markdown",
   "id": "91d66cc9",
   "metadata": {},
   "source": [
    "\n",
    "## The `with` Statement\n",
    "The `with` statement is used to ensure that a file is properly closed after its suite finishes, even if an exception is raised. It's a best practice when working with files in Python.\n"
   ]
  },
  {
   "cell_type": "code",
   "execution_count": 9,
   "id": "916cbbe6",
   "metadata": {},
   "outputs": [
    {
     "ename": "FileNotFoundError",
     "evalue": "[Errno 2] No such file or directory: 'example.txt'",
     "output_type": "error",
     "traceback": [
      "\u001b[0;31m---------------------------------------------------------------------------\u001b[0m",
      "\u001b[0;31mFileNotFoundError\u001b[0m                         Traceback (most recent call last)",
      "Cell \u001b[0;32mIn[9], line 3\u001b[0m\n\u001b[1;32m      1\u001b[0m \u001b[38;5;66;03m# Using the 'with' statement to open and close a file automatically\u001b[39;00m\n\u001b[0;32m----> 3\u001b[0m \u001b[38;5;28;01mwith\u001b[39;00m \u001b[38;5;28;43mopen\u001b[39;49m\u001b[43m(\u001b[49m\u001b[38;5;124;43m'\u001b[39;49m\u001b[38;5;124;43mexample.txt\u001b[39;49m\u001b[38;5;124;43m'\u001b[39;49m\u001b[43m,\u001b[49m\u001b[43m \u001b[49m\u001b[38;5;124;43m'\u001b[39;49m\u001b[38;5;124;43mr\u001b[39;49m\u001b[38;5;124;43m'\u001b[39;49m\u001b[43m,\u001b[49m\u001b[43m \u001b[49m\u001b[43mencoding\u001b[49m\u001b[38;5;241;43m=\u001b[39;49m\u001b[38;5;124;43m'\u001b[39;49m\u001b[38;5;124;43mutf-8\u001b[39;49m\u001b[38;5;124;43m'\u001b[39;49m\u001b[43m)\u001b[49m \u001b[38;5;28;01mas\u001b[39;00m file:\n\u001b[1;32m      4\u001b[0m     \u001b[38;5;28;01mfor\u001b[39;00m line \u001b[38;5;129;01min\u001b[39;00m file:\n\u001b[1;32m      5\u001b[0m         \u001b[38;5;28mprint\u001b[39m(line\u001b[38;5;241m.\u001b[39mstrip())\n",
      "File \u001b[0;32m~/Documents/GitHub/MSBA-601/venv/lib/python3.13/site-packages/IPython/core/interactiveshell.py:324\u001b[0m, in \u001b[0;36m_modified_open\u001b[0;34m(file, *args, **kwargs)\u001b[0m\n\u001b[1;32m    317\u001b[0m \u001b[38;5;28;01mif\u001b[39;00m file \u001b[38;5;129;01min\u001b[39;00m {\u001b[38;5;241m0\u001b[39m, \u001b[38;5;241m1\u001b[39m, \u001b[38;5;241m2\u001b[39m}:\n\u001b[1;32m    318\u001b[0m     \u001b[38;5;28;01mraise\u001b[39;00m \u001b[38;5;167;01mValueError\u001b[39;00m(\n\u001b[1;32m    319\u001b[0m         \u001b[38;5;124mf\u001b[39m\u001b[38;5;124m\"\u001b[39m\u001b[38;5;124mIPython won\u001b[39m\u001b[38;5;124m'\u001b[39m\u001b[38;5;124mt let you open fd=\u001b[39m\u001b[38;5;132;01m{\u001b[39;00mfile\u001b[38;5;132;01m}\u001b[39;00m\u001b[38;5;124m by default \u001b[39m\u001b[38;5;124m\"\u001b[39m\n\u001b[1;32m    320\u001b[0m         \u001b[38;5;124m\"\u001b[39m\u001b[38;5;124mas it is likely to crash IPython. If you know what you are doing, \u001b[39m\u001b[38;5;124m\"\u001b[39m\n\u001b[1;32m    321\u001b[0m         \u001b[38;5;124m\"\u001b[39m\u001b[38;5;124myou can use builtins\u001b[39m\u001b[38;5;124m'\u001b[39m\u001b[38;5;124m open.\u001b[39m\u001b[38;5;124m\"\u001b[39m\n\u001b[1;32m    322\u001b[0m     )\n\u001b[0;32m--> 324\u001b[0m \u001b[38;5;28;01mreturn\u001b[39;00m \u001b[43mio_open\u001b[49m\u001b[43m(\u001b[49m\u001b[43mfile\u001b[49m\u001b[43m,\u001b[49m\u001b[43m \u001b[49m\u001b[38;5;241;43m*\u001b[39;49m\u001b[43margs\u001b[49m\u001b[43m,\u001b[49m\u001b[43m \u001b[49m\u001b[38;5;241;43m*\u001b[39;49m\u001b[38;5;241;43m*\u001b[39;49m\u001b[43mkwargs\u001b[49m\u001b[43m)\u001b[49m\n",
      "\u001b[0;31mFileNotFoundError\u001b[0m: [Errno 2] No such file or directory: 'example.txt'"
     ]
    }
   ],
   "source": [
    "\n",
    "# Using the 'with' statement to open and close a file automatically\n",
    "\n",
    "with open('example.txt', 'r', encoding='utf-8') as file:\n",
    "    for line in file:\n",
    "        print(line.strip())\n"
   ]
  },
  {
   "cell_type": "markdown",
   "id": "26970423",
   "metadata": {},
   "source": [
    "\n",
    "## CSV Files\n",
    "The `csv` module allows us to read from and write to CSV (Comma-Separated Values) files. We can use `csv.reader()` to read the contents of a CSV file and `csv.writer()` to write data into one.\n"
   ]
  },
  {
   "cell_type": "code",
   "execution_count": 10,
   "id": "108ac25b",
   "metadata": {},
   "outputs": [
    {
     "name": "stdout",
     "output_type": "stream",
     "text": [
      "['Name', 'Age', 'Grade']\n",
      "['Alice', '23', 'A']\n",
      "['Bob', '21', 'B']\n",
      "['Charlie', '22', 'C']\n"
     ]
    }
   ],
   "source": [
    "\n",
    "import csv\n",
    "\n",
    "# Writing to a CSV file\n",
    "header = ['Name', 'Age', 'Grade']\n",
    "data = [\n",
    "    ['Alice', 23, 'A'],\n",
    "    ['Bob', 21, 'B'],\n",
    "    ['Charlie', 22, 'C']\n",
    "]\n",
    "\n",
    "with open('students.csv', 'w', newline='') as file:\n",
    "    writer = csv.writer(file)\n",
    "    writer.writerow(header)\n",
    "    writer.writerows(data)\n",
    "\n",
    "# Reading from the CSV file\n",
    "with open('students.csv', 'r') as file:\n",
    "    reader = csv.reader(file)\n",
    "    for row in reader:\n",
    "        print(row)\n"
   ]
  }
 ],
 "metadata": {
  "kernelspec": {
   "display_name": "venv",
   "language": "python",
   "name": "python3"
  },
  "language_info": {
   "codemirror_mode": {
    "name": "ipython",
    "version": 3
   },
   "file_extension": ".py",
   "mimetype": "text/x-python",
   "name": "python",
   "nbconvert_exporter": "python",
   "pygments_lexer": "ipython3",
   "version": "3.13.1"
  }
 },
 "nbformat": 4,
 "nbformat_minor": 5
}
