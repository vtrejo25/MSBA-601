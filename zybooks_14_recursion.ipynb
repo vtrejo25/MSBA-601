{
 "cells": [
  {
   "cell_type": "markdown",
   "id": "9c2571bd",
   "metadata": {},
   "source": [
    "# Recursion in Python\n",
    "---\n",
    "**Objective:** Learn about recursion, how to create recursive functions, debug them, and apply recursion to mathematical and search problems."
   ]
  },
  {
   "cell_type": "markdown",
   "id": "52dc25d5",
   "metadata": {},
   "source": [
    "## Introduction to Recursion\n",
    "---\n",
    "- **Definition:** A function that calls itself to solve a problem.\n",
    "- **Real-world analogy:** Russian nesting dolls or a mirror reflecting another mirror.\n",
    "- **Base Case & Recursive Case:**\n",
    "  - **Base Case:** Stops recursion to avoid infinite loops.\n",
    "  - **Recursive Case:** The function calls itself with a smaller problem."
   ]
  },
  {
   "cell_type": "code",
   "execution_count": null,
   "id": "ee1c754b",
   "metadata": {},
   "outputs": [],
   "source": [
    "def countdown(n):\n",
    "    if n <= 0:  # Base case\n",
    "        print(\"Blastoff!\")\n",
    "    else:\n",
    "        print(n)\n",
    "        countdown(n - 1)  # Recursive case\n",
    "\n",
    "countdown(5)"
   ]
  },
  {
   "cell_type": "markdown",
   "id": "3366fd30",
   "metadata": {},
   "source": [
    "**Discussion:** What happens if we forget the base case? (Infinite recursion)"
   ]
  },
  {
   "cell_type": "markdown",
   "id": "4fef648e",
   "metadata": {},
   "source": [
    "## Recursive Algorithm: Search\n",
    "---\n",
    "- **Recursive Search Example:** Finding an element in a sorted list using **Binary Search**."
   ]
  },
  {
   "cell_type": "markdown",
   "id": "096b6fe2",
   "metadata": {},
   "source": [
    "# Binary Search in Python\n"
   ]
  },
  {
   "cell_type": "markdown",
   "id": "5aaa0726",
   "metadata": {},
   "source": [
    "\n",
    "## Introduction\n",
    "Binary search is an efficient algorithm for finding an element in a **sorted** array. \n",
    "It works by repeatedly dividing the search space in half until the target value is found or the search space is exhausted.\n",
    "\n",
    "### Steps:\n",
    "1. Find the **middle** element of the search range.\n",
    "2. If the **middle element** is the target, return its index.\n",
    "3. If the **target is smaller**, search in the left half.\n",
    "4. If the **target is larger**, search in the right half.\n",
    "5. Repeat until the search space is empty.\n",
    "\n",
    "---\n"
   ]
  },
  {
   "cell_type": "markdown",
   "id": "91c0fa56",
   "metadata": {},
   "source": [
    "## Recursive Approach"
   ]
  },
  {
   "cell_type": "code",
   "execution_count": null,
   "id": "08813e8c",
   "metadata": {},
   "outputs": [],
   "source": [
    "def binary_search(arr, target, low, high):\n",
    "    if low > high:\n",
    "        return -1  # Base case: Not found\n",
    "    \n",
    "    mid = (low + high) // 2\n",
    "    print(\"mid =\",mid)\n",
    "\n",
    "    if arr[mid] == target:\n",
    "        return mid  # Found target\n",
    "    \n",
    "    #middle out search\n",
    "    elif arr[mid] > target:\n",
    "        return binary_search(arr, target, low, mid - 1)  # Search left half\n",
    "    else:\n",
    "        return binary_search(arr, target, mid + 1, high)  # Search right half\n",
    "\n",
    "# Example Usage\n",
    "arr = [1, 3, 5, 7, 9, 11]\n",
    "result = binary_search(arr, 7, 0, len(arr) - 1)\n",
    "print(f'Target found at index: {result}')  # Output: 3\n"
   ]
  },
  {
   "cell_type": "markdown",
   "id": "7266c5d1",
   "metadata": {},
   "source": [
    "\n",
    "## Step-by-Step Execution\n",
    "\n",
    "Let's analyze how the function runs when searching for `7` in `[1, 3, 5, 7, 9, 11]`.\n",
    "\n",
    "1. **Initial Call:** `binary_search(arr, 7, 0, 5)`  \n",
    "   - Mid index: `(0+5)//2 = 2` → `arr[2] = 5`\n",
    "   - `5 < 7`, so search right half: `binary_search(arr, 7, 3, 5)`\n",
    "\n",
    "2. **Second Call:** `binary_search(arr, 7, 3, 5)`  \n",
    "   - Mid index: `(3+5)//2 = 4` → `arr[4] = 9`\n",
    "   - `9 > 7`, so search left half: `binary_search(arr, 7, 3, 3)`\n",
    "\n",
    "3. **Third Call:** `binary_search(arr, 7, 3, 3)`  \n",
    "   - Mid index: `(3+3)//2 = 3` → `arr[3] = 7`\n",
    "   - **Target found at index 3** 🎯\n",
    "\n",
    "---\n"
   ]
  },
  {
   "cell_type": "markdown",
   "id": "8d764677",
   "metadata": {},
   "source": [
    "## Iterative Approach"
   ]
  },
  {
   "cell_type": "code",
   "execution_count": null,
   "id": "a60be413",
   "metadata": {},
   "outputs": [],
   "source": [
    "def binary_search_iterative(arr, target):\n",
    "    low, high = 0, len(arr) - 1\n",
    "\n",
    "    while low <= high:\n",
    "        mid = (low + high) // 2\n",
    "        if arr[mid] == target:\n",
    "            return mid  # Found target\n",
    "        elif arr[mid] > target:\n",
    "            high = mid - 1  # Search left half\n",
    "        else:\n",
    "            low = mid + 1  # Search right half\n",
    "    \n",
    "    return -1  # Target not found\n",
    "\n",
    "# Example Usage\n",
    "arr = [1, 3, 5, 7, 9, 11]\n",
    "result = binary_search_iterative(arr, 7)\n",
    "print(f'Target found at index: {result}')  # Output: 3\n"
   ]
  },
  {
   "cell_type": "markdown",
   "id": "a1d1caf1",
   "metadata": {},
   "source": [
    "## Debugging Recursive Functions\n",
    "---\n",
    "- **Common Recursion Issues:**\n",
    "  - Forgetting the base case ➝ Infinite recursion\n",
    "  - Stack overflow (too many recursive calls)\n",
    "  - Incorrect return values"
   ]
  },
  {
   "cell_type": "markdown",
   "id": "72800a1e",
   "metadata": {},
   "source": [
    "## Fibonacci Example\n",
    "---\n"
   ]
  },
  {
   "cell_type": "code",
   "execution_count": null,
   "id": "536da659",
   "metadata": {},
   "outputs": [],
   "source": [
    "def fibonacci(n):\n",
    "    print(f\"Calculating Fibonacci({n})\")  # Debug output\n",
    "    if n <= 1:\n",
    "        return n  # Base case\n",
    "    return fibonacci(n - 1) + fibonacci(n - 2)  # Recursive case\n",
    "\n",
    "print(fibonacci(5))"
   ]
  },
  {
   "cell_type": "markdown",
   "id": "f9b52de5",
   "metadata": {},
   "source": [
    "## Creating a Recursive Function\n",
    "---\n",
    "- **Exercise:** Write a recursive function to compute the sum of numbers from `1` to `n`."
   ]
  },
  {
   "cell_type": "code",
   "execution_count": null,
   "id": "7d5c2e44",
   "metadata": {},
   "outputs": [],
   "source": [
    "def sum_numbers(n):\n",
    "    if n == 1:\n",
    "        return 1\n",
    "    return n + sum_numbers(n - 1)\n",
    "\n",
    "print(sum_numbers(5))  # Output: 15 (1+2+3+4+5)"
   ]
  },
  {
   "cell_type": "markdown",
   "id": "35788629",
   "metadata": {},
   "source": [
    "## Recursive Math Functions\n",
    "---\n",
    "- **Factorial Calculation Using Recursion**"
   ]
  },
  {
   "cell_type": "code",
   "execution_count": null,
   "id": "56e109ea",
   "metadata": {},
   "outputs": [],
   "source": [
    "def factorial(n):\n",
    "    if n == 1:\n",
    "        return 1\n",
    "    print(\"run\")\n",
    "    return n * factorial(n - 1)\n",
    "\n",
    "print(factorial(5))  # Output: 120"
   ]
  },
  {
   "cell_type": "markdown",
   "id": "a5dfdd3f",
   "metadata": {},
   "source": [
    "## Recursive Exploration of All Possibilities\n",
    "---\n",
    "- **Example:** Finding all subsets of a set."
   ]
  },
  {
   "cell_type": "code",
   "execution_count": null,
   "id": "00aeba67",
   "metadata": {},
   "outputs": [],
   "source": [
    "def subsets(arr, current=[], index=0):\n",
    "    if index == len(arr):\n",
    "        print(current)  # Base case: Print subset\n",
    "        return\n",
    "    \n",
    "    subsets(arr, current, index + 1)  # Exclude current element\n",
    "    subsets(arr, current + [arr[index]], index + 1)  # Include current element\n",
    "\n",
    "subsets([1, 2, 3])"
   ]
  },
  {
   "cell_type": "markdown",
   "id": "5003de71",
   "metadata": {},
   "source": [
    "## Wrap-Up & Q&A (Final 2 minutes)\n",
    "---\n",
    "- **Key Takeaways:**\n",
    "  1. Recursion breaks problems into smaller subproblems.\n",
    "  2. Base cases are critical to stopping recursion.\n",
    "  3. Recursive functions can be used in **searching, mathematical computations, and generating possibilities**.\n",
    "  4. Debugging recursion requires **print statements and stack tracing**.\n",
    "\n",
    "- **Final Questions:**\n",
    "  - When is recursion more useful than iteration?\n",
    "  - What are the risks of using recursion?"
   ]
  },
  {
   "cell_type": "markdown",
   "id": "25aa4bc8",
   "metadata": {},
   "source": [
    "# Benefits of Recursion in Python\n"
   ]
  },
  {
   "cell_type": "markdown",
   "id": "e6612427",
   "metadata": {},
   "source": [
    "\n",
    "## Introduction\n",
    "Recursion is a powerful programming technique where a function calls itself to solve problems. It is particularly useful for solving problems with a **natural recursive structure**, such as tree traversal, divide-and-conquer algorithms, and backtracking problems.\n",
    "\n",
    "### **Key Benefits of Recursion**\n",
    "- Simplifies complex problems by breaking them into smaller subproblems.\n",
    "- Reduces code complexity and improves readability.\n",
    "- Naturally fits recursive data structures like trees and graphs.\n",
    "- Useful in divide-and-conquer algorithms (Merge Sort, Quick Sort).\n",
    "- Helps in backtracking problems like Sudoku and permutations.\n"
   ]
  },
  {
   "cell_type": "markdown",
   "id": "4f708fa2",
   "metadata": {},
   "source": [
    "## 1. Simplifies Complex Problems"
   ]
  },
  {
   "cell_type": "code",
   "execution_count": null,
   "id": "dd44e003",
   "metadata": {},
   "outputs": [],
   "source": [
    "def factorial(n):\n",
    "    if n == 0 or n == 1:\n",
    "        return 1\n",
    "    return n * factorial(n - 1)\n",
    "\n",
    "print(factorial(5))  # Output: 120\n"
   ]
  },
  {
   "cell_type": "markdown",
   "id": "7434f36a",
   "metadata": {},
   "source": [
    "## 2. Reduces Code Complexity & Improves Readability"
   ]
  },
  {
   "cell_type": "code",
   "execution_count": null,
   "id": "4ebdca51",
   "metadata": {},
   "outputs": [],
   "source": [
    "def binary_search(arr, target, low, high):\n",
    "    if low > high:\n",
    "        return -1\n",
    "    mid = (low + high) // 2\n",
    "    if arr[mid] == target:\n",
    "        return mid\n",
    "    elif arr[mid] > target:\n",
    "        return binary_search(arr, target, low, mid - 1)\n",
    "    else:\n",
    "        return binary_search(arr, target, mid + 1, high)\n",
    "\n",
    "# Example Usage\n",
    "arr = [1, 3, 5, 7, 9, 11]\n",
    "result = binary_search(arr, 7, 0, len(arr) - 1)\n",
    "print(f'Target found at index: {result}')  # Output: 3\n"
   ]
  },
  {
   "cell_type": "markdown",
   "id": "89f48d9e",
   "metadata": {},
   "source": [
    "## 3. Best for Problems with Recursive Structures"
   ]
  },
  {
   "cell_type": "code",
   "execution_count": null,
   "id": "df4b0214",
   "metadata": {},
   "outputs": [],
   "source": [
    "class Node:\n",
    "    def __init__(self, value):\n",
    "        self.value = value\n",
    "        self.left = None\n",
    "        self.right = None\n",
    "\n",
    "def inorder_traversal(root):\n",
    "    if root:\n",
    "        inorder_traversal(root.left)\n",
    "        print(root.value, end=\" \")\n",
    "        inorder_traversal(root.right)\n",
    "\n",
    "# Example Tree\n",
    "root = Node(5)\n",
    "root.left = Node(3)\n",
    "root.right = Node(7)\n",
    "inorder_traversal(root)  # Output: 3 5 7\n"
   ]
  },
  {
   "cell_type": "markdown",
   "id": "fa4b225e",
   "metadata": {},
   "source": [
    "## 4. Useful for Backtracking Problems"
   ]
  },
  {
   "cell_type": "code",
   "execution_count": null,
   "id": "527460a6",
   "metadata": {},
   "outputs": [],
   "source": [
    "from itertools import permutations\n",
    "\n",
    "def permute(s, step=0):\n",
    "    if step == len(s):\n",
    "        print(\"\".join(s))\n",
    "    for i in range(step, len(s)):\n",
    "        s_copy = [c for c in s]\n",
    "        s_copy[step], s_copy[i] = s_copy[i], s_copy[step]\n",
    "        permute(s_copy, step + 1)\n",
    "\n",
    "permute(list(\"ABC\"))\n"
   ]
  },
  {
   "cell_type": "markdown",
   "id": "71b10c8d",
   "metadata": {},
   "source": [
    "## 5. Avoids Manual Stack Management"
   ]
  },
  {
   "cell_type": "code",
   "execution_count": null,
   "id": "553a363c",
   "metadata": {},
   "outputs": [],
   "source": [
    "def dfs(graph, node, visited=set()):\n",
    "    if node not in visited:\n",
    "        print(node, end=\" \")\n",
    "        visited.add(node)\n",
    "        for neighbor in graph[node]:\n",
    "            dfs(graph, neighbor, visited)\n",
    "\n",
    "graph = {\n",
    "    'A': ['B', 'C'],\n",
    "    'B': ['D', 'E'],\n",
    "    'C': ['F'],\n",
    "    'D': [], 'E': [], 'F': []\n",
    "}\n",
    "\n",
    "dfs(graph, 'A')  # Output: A B D E C F\n"
   ]
  },
  {
   "cell_type": "markdown",
   "id": "01a93a42",
   "metadata": {},
   "source": [
    "\n",
    "## When Not to Use Recursion\n",
    "\n",
    "🚫 **Avoid recursion if:**\n",
    "- The problem does not have a **natural recursive structure**.\n",
    "- The recursion **depth is too large**, leading to a **stack overflow**.\n",
    "- Iterative solutions are **more efficient**.\n",
    "\n",
    "### Example: **Inefficient Fibonacci Using Recursion**\n"
   ]
  },
  {
   "cell_type": "code",
   "execution_count": null,
   "id": "1eb71bbb",
   "metadata": {},
   "outputs": [],
   "source": [
    "def fibonacci(n):\n",
    "    if n <= 1:\n",
    "        return n\n",
    "    return fibonacci(n - 1) + fibonacci(n - 2)\n",
    "\n",
    "print(fibonacci(10))  # Slow for large n\n"
   ]
  },
  {
   "cell_type": "markdown",
   "id": "de380a6e",
   "metadata": {},
   "source": [
    "### Efficient Fibonacci Using Iteration"
   ]
  },
  {
   "cell_type": "code",
   "execution_count": null,
   "id": "9667ab13",
   "metadata": {},
   "outputs": [],
   "source": [
    "def fibonacci_iterative(n):\n",
    "    a, b = 0, 1\n",
    "    for _ in range(n):\n",
    "        a, b = b, a + b\n",
    "    return a\n",
    "\n",
    "print(fibonacci_iterative(10))  # Fast\n"
   ]
  },
  {
   "cell_type": "markdown",
   "id": "cca68a02",
   "metadata": {},
   "source": [
    "\n",
    "## Conclusion\n",
    "\n",
    "✅ Recursion is **powerful** for problems with **self-similar structures** (trees, graphs, divide-and-conquer).  \n",
    "✅ It **simplifies complex problems**, making code more **readable and elegant**.  \n",
    "✅ **Best used in algorithms like DFS, tree traversal, backtracking, and divide-and-conquer techniques**.  \n",
    "🚫 **Not ideal for problems with deep recursion** or where **iterative solutions are more efficient**.  \n",
    "\n",
    "---\n"
   ]
  }
 ],
 "metadata": {
  "kernelspec": {
   "display_name": "venv",
   "language": "python",
   "name": "python3"
  },
  "language_info": {
   "codemirror_mode": {
    "name": "ipython",
    "version": 3
   },
   "file_extension": ".py",
   "mimetype": "text/x-python",
   "name": "python",
   "nbconvert_exporter": "python",
   "pygments_lexer": "ipython3",
   "version": "3.10.8"
  }
 },
 "nbformat": 4,
 "nbformat_minor": 5
}
