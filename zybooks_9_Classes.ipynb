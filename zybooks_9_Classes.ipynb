{
 "cells": [
  {
   "cell_type": "markdown",
   "id": "e0f1073e",
   "metadata": {},
   "source": [
    "# Python Classes vs. Functions"
   ]
  },
  {
   "cell_type": "markdown",
   "id": "bef07826",
   "metadata": {},
   "source": [
    "Python classes are a fundamental concept in object-oriented programming (OOP). They allow you to create your own data structures that bundle data (attributes) and behavior (methods) into a single unit. Let's break it down step by step."
   ]
  },
  {
   "cell_type": "markdown",
   "id": "f252b869",
   "metadata": {},
   "source": [
    "## 1️⃣ Defining a Class\n",
    "This defines a class called Person, but it doesn’t do anything yet."
   ]
  },
  {
   "cell_type": "code",
   "execution_count": 45,
   "id": "502bacb6",
   "metadata": {},
   "outputs": [],
   "source": [
    "class Person:\n",
    "    pass  # An empty class (placeholder)"
   ]
  },
  {
   "cell_type": "markdown",
   "id": "f112a09d",
   "metadata": {},
   "source": [
    "## 2️⃣ Creating an Object (Instance)\n",
    "Once a class is defined, you can create objects (instances) of that class"
   ]
  },
  {
   "cell_type": "code",
   "execution_count": null,
   "id": "ba40d42a",
   "metadata": {},
   "outputs": [],
   "source": [
    "p1 = Person()  # Creating an instance of the Person class\n",
    "print(type(p1))  # Output: <class '__main__.Person'>"
   ]
  },
  {
   "cell_type": "markdown",
   "id": "8ec14317",
   "metadata": {},
   "source": [
    "## 3️⃣ The `__init__` Method (Constructor)\n",
    "To initialize attributes (variables that belong to an object), we use the __init__ method.\n",
    "\n",
    "In Python, the `__init__` method is a special method (also called a constructor) that is automatically called when a new instance of a class is created. It is used to initialize an object's attributes with specific values."
   ]
  },
  {
   "cell_type": "code",
   "execution_count": null,
   "id": "665f896a",
   "metadata": {},
   "outputs": [],
   "source": [
    "#this is a new class 'Person' being defined\n",
    "class Person:\n",
    "    def __init__(self, name, age):\n",
    "        self.name = name\n",
    "        self.age = age\n",
    "\n",
    "# Creating objects\n",
    "p1 = Person(\"Alice\", 25)\n",
    "p2 = Person(\"Bob\", 30)\n",
    "\n",
    "print(p1.name, p1.age)  # Output: Alice 25\n",
    "print(p2.name, p2.age)  # Output: Bob 30"
   ]
  },
  {
   "cell_type": "markdown",
   "id": "f2e7860a",
   "metadata": {},
   "source": [
    "## 4️⃣ Instance Methods\n",
    "\n",
    "Instance methods are the most common type of method in Python classes. These methods operate on instances of the class and can access and modify instance attributes.\n",
    "\n",
    "1. Defining an Instance Method\n",
    "\n",
    "An instance method is defined inside a class and takes self as its first parameter. The self parameter represents the instance of the class, allowing access to its attributes and other methods."
   ]
  },
  {
   "cell_type": "code",
   "execution_count": null,
   "id": "e5381309",
   "metadata": {},
   "outputs": [],
   "source": [
    "class Car:\n",
    "    def __init__(self, brand, model, year):\n",
    "        self.brand = brand\n",
    "        self.model = model\n",
    "        self.year = year\n",
    "\n",
    "    def display_info(self):\n",
    "        return f\"{self.year} {self.brand} {self.model}\"\n",
    "    \n",
    "    def update_year(self, new_year):\n",
    "        self.year = new_year  # Modifies instance attribute\n",
    "\n",
    "# Creating an instance\n",
    "my_car = Car(\"Toyota\", \"Camry\", 2022)\n",
    "\n",
    "# Calling an instance method\n",
    "print(my_car.display_info())  # Output: \"2022 Toyota Camry\"\n",
    "\n",
    "# Updating the year using an instance method\n",
    "my_car.update_year(2025)\n",
    "print(my_car.display_info())  # Output: \"2025 Toyota Camry\"\n"
   ]
  },
  {
   "cell_type": "markdown",
   "id": "029ec8a8",
   "metadata": {},
   "source": [
    "2. Characteristics of Instance Methods\n",
    "\n",
    "Require an instance of the class to be called.\n",
    "Automatically receive the instance (self) as the first parameter.\n",
    "Can access and modify instance attributes.\n",
    "Can call other instance methods within the class."
   ]
  },
  {
   "cell_type": "markdown",
   "id": "f6620744",
   "metadata": {},
   "source": [
    "3. Calling Instance Methods\n",
    "\n",
    "Instance methods can be called using dot notation:"
   ]
  },
  {
   "cell_type": "code",
   "execution_count": null,
   "id": "ade511d7",
   "metadata": {},
   "outputs": [],
   "source": [
    "my_car.display_info()\n"
   ]
  },
  {
   "cell_type": "markdown",
   "id": "fff4d482",
   "metadata": {},
   "source": [
    "4. Using Instance Methods to Call Other Methods\n",
    "\n",
    "Instance methods can call other instance methods using self."
   ]
  },
  {
   "cell_type": "code",
   "execution_count": null,
   "id": "cce4b33e",
   "metadata": {},
   "outputs": [],
   "source": [
    "class Person:\n",
    "    def __init__(self, name, age):\n",
    "        self.name = name\n",
    "        self.age = age\n",
    "\n",
    "    def greet(self):\n",
    "        return f\"Hello, my name is {self.name}.\"\n",
    "\n",
    "    def introduce(self):\n",
    "        return self.greet() + f\" I am {self.age} years old.\"\n",
    "\n",
    "# Creating an instance\n",
    "person = Person(\"Alice\", 30)\n",
    "print(person.greet())  # calling a method in the instance\n",
    "print(person.introduce())  # calling another method in the instance\n",
    "# Output: \"Hello, my name is Alice. I am 30 years old.\"\n"
   ]
  },
  {
   "cell_type": "markdown",
   "id": "63aa0797",
   "metadata": {},
   "source": [
    "5. Modifying Instance Attributes\n",
    "\n",
    "Instance methods are commonly used to modify instance attributes."
   ]
  },
  {
   "cell_type": "code",
   "execution_count": null,
   "id": "359903e2",
   "metadata": {},
   "outputs": [],
   "source": [
    "class BankAccount:\n",
    "    def __init__(self, owner, balance):\n",
    "        self.owner = owner\n",
    "        self.balance = balance\n",
    "\n",
    "    def deposit(self, amount):\n",
    "        self.balance += amount\n",
    "        return f\"${amount} deposited. New balance: ${self.balance}\"\n",
    "\n",
    "    def withdraw(self, amount):\n",
    "        if amount > self.balance:\n",
    "            return \"Insufficient funds\"\n",
    "        self.balance -= amount\n",
    "        return f\"${amount} withdrawn. Remaining balance: ${self.balance}\"\n",
    "\n",
    "# Creating an instance\n",
    "account = BankAccount(\"John\", 1000)\n",
    "\n",
    "# Depositing money\n",
    "print(account.deposit(500))  # Output: \"$500 deposited. New balance: $1500\"\n",
    "\n",
    "# Withdrawing money\n",
    "print(account.withdraw(2000))  # Output: \"Insufficient funds\"\n",
    "print(account.withdraw(300))   # Output: \"$300 withdrawn. Remaining balance: $1200\"\n"
   ]
  },
  {
   "cell_type": "markdown",
   "id": "b2cf2c75",
   "metadata": {},
   "source": [
    "6. Summary\n",
    "\n",
    "- Instance methods belong to an instance of a class.\n",
    "- They always have self as the first parameter.\n",
    "- They can access and modify instance attributes.\n",
    "- They can call other instance methods within the class."
   ]
  },
  {
   "cell_type": "markdown",
   "id": "fb6a8424",
   "metadata": {},
   "source": [
    "## 5️⃣ Class Variables vs. Instance Variables\n",
    "\n",
    "Instance variables (self.name, self.age) are unique to each object.\n",
    "\n",
    "Class variables belong to the class and are shared among all instances."
   ]
  },
  {
   "cell_type": "code",
   "execution_count": null,
   "id": "887b8b70",
   "metadata": {},
   "outputs": [],
   "source": [
    "class Person:\n",
    "    species = \"Homo sapiens\"  # Class variable\n",
    "\n",
    "    def __init__(self, name):\n",
    "        self.name = name  # Instance variable\n",
    "\n",
    "p1 = Person(\"Alice\")\n",
    "p2 = Person(\"Bob\")\n",
    "\n",
    "print(p1.name)  # Output: Homo sapiens\n",
    "print(p2.name)  # Output: Homo sapiens\n",
    "\n",
    "# Changing the class variable affects all instances\n",
    "\n",
    "print(p1.species)  # Output: Homo habilis\n",
    "\n",
    "Person.species = \"Homo habilis\"\n",
    "\n",
    "print(p2.species)  # Output: Homo habilis\n",
    "print(p1.species)  # Output: Homo habilis\n"
   ]
  },
  {
   "cell_type": "markdown",
   "id": "22b82585",
   "metadata": {},
   "source": [
    "## 6️⃣ Class Methods and Static Methods\n",
    "\n",
    "Python provides class methods and static methods in addition to instance methods.\n",
    "\n",
    "📌 Class Method (@classmethod)\n",
    "- Works with class variables instead of instance variables.\n",
    "- Uses cls instead of self.\n",
    "\n"
   ]
  },
  {
   "cell_type": "code",
   "execution_count": null,
   "id": "d428552e",
   "metadata": {},
   "outputs": [],
   "source": [
    "class Person:\n",
    "    species = \"Homo sapiens\"\n",
    "\n",
    "    def __init__(self, name):\n",
    "        self.name = name\n",
    "\n",
    "    @classmethod\n",
    "    def change_species(cls, new_species):\n",
    "        cls.species = new_species\n",
    "\n",
    "p1 = Person(\"Alice\")\n",
    "p2 = Person(\"Bob\")\n",
    "\n",
    "print(Person.species)\n",
    "print(p1.species)\n",
    "Person.change_species(\"Homo erectus\")\n",
    "print(Person.species)  # Output: Homo erectus\n",
    "print(p2.species)\n",
    "print(p1.species)"
   ]
  },
  {
   "cell_type": "markdown",
   "id": "cc51baf5",
   "metadata": {},
   "source": [
    "📌 Static Method (@staticmethod)\n",
    "- Does not access instance (self) or class (cls) variables.\n",
    "- Behaves like a regular function inside the class."
   ]
  },
  {
   "cell_type": "code",
   "execution_count": null,
   "id": "87a7a9a0",
   "metadata": {},
   "outputs": [],
   "source": [
    "class MathOperations:\n",
    "    @staticmethod\n",
    "    def add(x, y):\n",
    "        return x + y\n",
    "\n",
    "print(MathOperations.add(3, 5))  # Output: 8"
   ]
  },
  {
   "cell_type": "markdown",
   "id": "6ecef8d9",
   "metadata": {},
   "source": [
    "## 7️⃣ Inheritance (Reusing Code)\n",
    "\n",
    "A class can inherit from another class to reuse attributes and methods."
   ]
  },
  {
   "cell_type": "code",
   "execution_count": null,
   "id": "9ddea3b0",
   "metadata": {},
   "outputs": [],
   "source": [
    "class Animal:\n",
    "    def __init__(self, name):\n",
    "        self.name = name\n",
    "\n",
    "    def make_sound(self):\n",
    "        return \"Some generic sound\"\n",
    "\n",
    "class Dog(Animal):\n",
    "    def make_sound(self):\n",
    "        return \"Woof!\"\n",
    "\n",
    "dog = Dog(\"Buddy\")\n",
    "print(dog.name)        # Output: Buddy\n",
    "print(dog.make_sound()) # Output: Woof!"
   ]
  },
  {
   "cell_type": "markdown",
   "id": "8dbd0bfd",
   "metadata": {},
   "source": [
    "## 8️⃣ Encapsulation (Hiding Data)\n",
    "\n",
    "Encapsulation is one of the core principles of Object-Oriented Programming (OOP). It means hiding the internal details of an object and only exposing what’s necessary.\n",
    "\n",
    "Why Use Encapsulation?\n",
    "\n",
    "- Prevents accidental modifications of important data.\n",
    "- Controls access to class variables and methods.\n",
    "- Encourages modularity (code is easier to maintain and debug).\n",
    "- Allows data validation before modifying an attribute.\n"
   ]
  },
  {
   "cell_type": "code",
   "execution_count": null,
   "id": "18d1c4bd",
   "metadata": {},
   "outputs": [],
   "source": [
    "class Person:\n",
    "    def __init__(self, name, age):\n",
    "        self.name = name        # Public attribute\n",
    "        self._salary = 50000    # Protected attribute (convention)\n",
    "        self.__password = \"1234\" # Private attribute\n",
    "\n",
    "p1 = Person(\"Alice\", 30)\n",
    "\n",
    "# Public attribute (can be accessed anywhere)\n",
    "print(p1.name)  # Output: Alice\n",
    "\n",
    "# Protected attribute (should not be accessed directly, but possible). There is no diff here but it's an indicator to the programmer that it should be protected.\n",
    "print(p1._salary)  # Output: 50000\n",
    "\n",
    "# Private attribute (will raise AttributeError)\n",
    "print(p1.__password)  # Error: AttributeError\n"
   ]
  },
  {
   "cell_type": "markdown",
   "id": "e4207fc3",
   "metadata": {},
   "source": [
    "## 9️⃣ Magic Methods (`__str__`, `__repr__`, etc.)\n",
    "- Python has special methods (also called dunder methods) that allow you to customize behavior.\n",
    "\n",
    "A “dunder” (short for double underscore) refers to the special methods in Python that are surrounded by double underscores (__method__). These methods are also known as magic methods. The term “dunder” is often used to highlight the special status these methods have in Python and their direct association with built-in Python behavior."
   ]
  },
  {
   "cell_type": "code",
   "execution_count": null,
   "id": "59e1ce7e",
   "metadata": {},
   "outputs": [],
   "source": [
    "class Person:\n",
    "    def __init__(self, name):\n",
    "        self.name = name\n",
    "\n",
    "    def __str__(self):\n",
    "        return f\"Person(name={self.name})\"  # Human-readable\n",
    "\n",
    "p = Person(\"Alice\")\n",
    "print(p)  # Output: Person(name=Alice)"
   ]
  },
  {
   "cell_type": "markdown",
   "id": "591791a0",
   "metadata": {},
   "source": [
    "## When to Use Classes vs. Functions"
   ]
  },
  {
   "cell_type": "markdown",
   "id": "c125372f",
   "metadata": {},
   "source": [
    "\n",
    "✅ **Use a Class when:**\n",
    "- You need to store **state** across multiple method calls.\n",
    "- Your code involves **related data and behaviors**.\n",
    "- You need **reusability** and **inheritance**.\n",
    "- You’re building a **scalable** system (e.g., game, web app, machine learning model).\n",
    "\n",
    "✅ **Use a Function when:**\n",
    "- The operation is **simple** (e.g., adding two numbers).\n",
    "- The function does **not** need to remember any previous data (stateless).\n",
    "- The function is **only used once** and does not belong to an object.\n",
    "\n",
    "### **Final Thought**\n",
    "👉 **If you only need a few calculations, use functions.**  \n",
    "👉 **If you need to manage and manipulate objects, use classes.**\n"
   ]
  }
 ],
 "metadata": {
  "kernelspec": {
   "display_name": "venv",
   "language": "python",
   "name": "python3"
  },
  "language_info": {
   "codemirror_mode": {
    "name": "ipython",
    "version": 3
   },
   "file_extension": ".py",
   "mimetype": "text/x-python",
   "name": "python",
   "nbconvert_exporter": "python",
   "pygments_lexer": "ipython3",
   "version": "3.10.8"
  }
 },
 "nbformat": 4,
 "nbformat_minor": 5
}
