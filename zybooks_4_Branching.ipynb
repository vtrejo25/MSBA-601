{
 "cells": [
  {
   "cell_type": "markdown",
   "id": "328ffdcc",
   "metadata": {},
   "source": [
    "# Python Branches\n",
    "\n",
    "In Python, \"branches\" generally refer to conditional branching, which is how a program decides which code to execute based on a given condition. This is typically achieved using if-elif-else statements."
   ]
  },
  {
   "cell_type": "markdown",
   "id": "5a30a493",
   "metadata": {},
   "source": [
    "# Python If...Else Examples\n",
    "This notebook covers basic Python conditional statements, including `if`, `elif`, and `else`."
   ]
  },
  {
   "cell_type": "markdown",
   "id": "4a047acc",
   "metadata": {},
   "source": [
    "## 1. Basic If Statement\n",
    "An `if` statement is written by using the `if` keyword."
   ]
  },
  {
   "cell_type": "code",
   "execution_count": null,
   "id": "803a7206",
   "metadata": {},
   "outputs": [],
   "source": [
    "a = 33\n",
    "b = 200\n",
    "if b > a:\n",
    "  print('b is greater than a')"
   ]
  },
  {
   "cell_type": "markdown",
   "id": "2fc3b844",
   "metadata": {},
   "source": [
    "## 2. Indentation Example\n",
    "Python relies on indentation to define scope. If the code is not indented properly, it will raise an error."
   ]
  },
  {
   "cell_type": "code",
   "execution_count": null,
   "id": "a6e67a39",
   "metadata": {},
   "outputs": [],
   "source": [
    "# This will raise an error\n",
    "a = 33\n",
    "b = 200\n",
    "if b > a:\n",
    "print('b is greater than a')  # Indentation error"
   ]
  },
  {
   "cell_type": "markdown",
   "id": "b75824a8",
   "metadata": {},
   "source": [
    "## 3. Elif Example\n",
    "The `elif` keyword is used to add another condition to an `if` statement."
   ]
  },
  {
   "cell_type": "code",
   "execution_count": null,
   "id": "6cc44ea8",
   "metadata": {},
   "outputs": [],
   "source": [
    "a = 33\n",
    "b = 33\n",
    "if b > a:\n",
    "  print('b is greater than a')\n",
    "elif a == b:\n",
    "  print('a and b are equal')"
   ]
  },
  {
   "cell_type": "markdown",
   "id": "db839e2b",
   "metadata": {},
   "source": [
    "## 4. Else Example\n",
    "The `else` statement catches anything which isn't caught by the preceding conditions."
   ]
  },
  {
   "cell_type": "code",
   "execution_count": null,
   "id": "7a64642c",
   "metadata": {},
   "outputs": [],
   "source": [
    "a = 200\n",
    "b = 33\n",
    "if b > a:\n",
    "  print('b is greater than a')\n",
    "elif a == b:\n",
    "  print('a and b are equal')\n",
    "else:\n",
    "  print('a is greater than b')"
   ]
  },
  {
   "cell_type": "markdown",
   "id": "4605a3ab",
   "metadata": {},
   "source": [
    "## 5. Short Hand If\n",
    "You can write a one-line `if` statement if there's only one condition and one action."
   ]
  },
  {
   "cell_type": "code",
   "execution_count": null,
   "id": "da509efb",
   "metadata": {},
   "outputs": [],
   "source": [
    "a = 200\n",
    "b = 33\n",
    "if a > b: print('a is greater than b')"
   ]
  },
  {
   "cell_type": "markdown",
   "id": "019b2152",
   "metadata": {},
   "source": [
    "## 6. Short Hand If...Else\n",
    "A one-line `if...else` statement can be used as a shorthand for conditional expressions."
   ]
  },
  {
   "cell_type": "code",
   "execution_count": null,
   "id": "4a804f4b",
   "metadata": {},
   "outputs": [],
   "source": [
    "a = 2\n",
    "b = 330\n",
    "print('A') if a > b else print('B')"
   ]
  },
  {
   "cell_type": "markdown",
   "id": "5b838a07",
   "metadata": {},
   "source": [
    "## 7. Logical Operators (And)\n",
    "The `and` keyword combines multiple conditions."
   ]
  },
  {
   "cell_type": "code",
   "execution_count": null,
   "id": "625af4b3",
   "metadata": {},
   "outputs": [],
   "source": [
    "a = 200\n",
    "b = 33\n",
    "c = 500\n",
    "if a > b and c > a:\n",
    "  print('Both conditions are True')"
   ]
  },
  {
   "cell_type": "markdown",
   "id": "5f60e0f0",
   "metadata": {},
   "source": [
    "## 8. Logical Operators (Or)\n",
    "The `or` keyword checks if at least one of the conditions is true."
   ]
  },
  {
   "cell_type": "code",
   "execution_count": null,
   "id": "11d2458f",
   "metadata": {},
   "outputs": [],
   "source": [
    "a = 200\n",
    "b = 33\n",
    "c = 500\n",
    "if a > b or a > c:\n",
    "  print('At least one of the conditions is True')"
   ]
  },
  {
   "cell_type": "markdown",
   "id": "cfc2e34f",
   "metadata": {},
   "source": [
    "## 9. Logical Operators (Not)\n",
    "The `not` keyword reverses the result of a condition."
   ]
  },
  {
   "cell_type": "code",
   "execution_count": null,
   "id": "38d2b75d",
   "metadata": {},
   "outputs": [],
   "source": [
    "a = 33\n",
    "b = 200\n",
    "if not a > b:\n",
    "  print('a is NOT greater than b')"
   ]
  },
  {
   "cell_type": "markdown",
   "id": "09631c03",
   "metadata": {},
   "source": [
    "## 10. Nested If Statements\n",
    "You can have `if` statements inside other `if` statements."
   ]
  },
  {
   "cell_type": "code",
   "execution_count": null,
   "id": "9c99a984",
   "metadata": {},
   "outputs": [],
   "source": [
    "x = 41\n",
    "if x > 10:\n",
    "  print('Above ten,')\n",
    "  if x > 20:\n",
    "    print('and also above 20!')\n",
    "  else:\n",
    "    print('but not above 20.')"
   ]
  },
  {
   "cell_type": "markdown",
   "id": "406fc84e",
   "metadata": {},
   "source": [
    "## 11. The `pass` Statement\n",
    "If an `if` statement is empty, use the `pass` statement to avoid an error."
   ]
  },
  {
   "cell_type": "code",
   "execution_count": null,
   "id": "135ede37",
   "metadata": {},
   "outputs": [],
   "source": [
    "a = 33\n",
    "b = 200\n",
    "if b > a:\n",
    "  pass"
   ]
  },
  {
   "cell_type": "markdown",
   "id": "05abe0d8",
   "metadata": {},
   "source": [
    "### 12 Detecting equal values with branches"
   ]
  },
  {
   "cell_type": "code",
   "execution_count": 1,
   "id": "0f3ff901",
   "metadata": {},
   "outputs": [
    {
     "name": "stdout",
     "output_type": "stream",
     "text": [
      "Congratulations on 50 years of marriage!\n",
      "Your hotel rate: $75.00\n"
     ]
    }
   ],
   "source": [
    "hotel_rate = 150\n",
    "num_years = 50\n",
    "\n",
    "if num_years == 50:\n",
    "   print('Congratulations on 50 years of marriage!')\n",
    "   hotel_rate = hotel_rate / 2\n",
    "\n",
    "print(f'Your hotel rate: ${hotel_rate:.2f}')"
   ]
  },
  {
   "cell_type": "markdown",
   "id": "c01b8b26",
   "metadata": {},
   "source": [
    "### 12 Detecting not equal values with branches"
   ]
  },
  {
   "cell_type": "code",
   "execution_count": 3,
   "id": "9bc7a4eb",
   "metadata": {},
   "outputs": [
    {
     "name": "stdout",
     "output_type": "stream",
     "text": [
      "Your hotel rate: $150.00\n"
     ]
    }
   ],
   "source": [
    "hotel_rate = 150\n",
    "num_years = 50\n",
    "\n",
    "if num_years != 50:\n",
    "   print('Congratulations on 50 years of marriage!')\n",
    "   hotel_rate = hotel_rate / 2\n",
    "\n",
    "print(f'Your hotel rate: ${hotel_rate:.2f}')"
   ]
  },
  {
   "cell_type": "markdown",
   "id": "15a40c5c",
   "metadata": {},
   "source": [
    "### 13 Detecting ranges with branches"
   ]
  },
  {
   "cell_type": "code",
   "execution_count": 5,
   "id": "a11cf172",
   "metadata": {},
   "outputs": [
    {
     "name": "stdout",
     "output_type": "stream",
     "text": [
      "Play on U12 Team\n"
     ]
    }
   ],
   "source": [
    "age = 10\n",
    "\n",
    "if age < 6:\n",
    "    print(\"no teams\")\n",
    "elif age <8:\n",
    "    print(\"Play on U8 Team\")\n",
    "elif age <10:\n",
    "    print(\"Play on U20 Team\")\n",
    "elif age <12:\n",
    "    print(\"Play on U12 Team\")\n",
    "else:\n",
    "    print(\"no tems\")"
   ]
  },
  {
   "cell_type": "markdown",
   "id": "0cbbdf0b",
   "metadata": {},
   "source": [
    "### 14 Logical operators: AND, OR, and NOT as boolean "
   ]
  },
  {
   "cell_type": "code",
   "execution_count": null,
   "id": "d2cc4fcf",
   "metadata": {},
   "outputs": [],
   "source": [
    "x = 7\n",
    "y = 9\n",
    "\n",
    "print(x > 0 and y < 10)\n",
    "print(x > 0 and y < 5)\n",
    "print(x < 0 or y > 10)\n",
    "print(x < 0 or y > 5)\n",
    "print(not x < 0)\n",
    "print(not x > 0)"
   ]
  },
  {
   "cell_type": "markdown",
   "id": "c425b35b",
   "metadata": {},
   "source": [
    "### 15 Membership and identity operators"
   ]
  },
  {
   "cell_type": "code",
   "execution_count": null,
   "id": "8e2157c3",
   "metadata": {},
   "outputs": [],
   "source": [
    "prices = [ '$20', 15, 5]\n",
    "\n",
    "print (15 in prices)\n",
    "print (44 in prices)\n",
    "print (20 in prices)"
   ]
  },
  {
   "cell_type": "code",
   "execution_count": null,
   "id": "eb0996f6",
   "metadata": {},
   "outputs": [],
   "source": [
    "numbers = [1, 2, 3, 4]\n",
    "x = 1\n",
    "if x in numbers:\n",
    "    print('in')\n",
    "else:\n",
    "    print('not in')"
   ]
  },
  {
   "cell_type": "code",
   "execution_count": null,
   "id": "90104188",
   "metadata": {},
   "outputs": [],
   "source": []
  }
 ],
 "metadata": {
  "kernelspec": {
   "display_name": "venv",
   "language": "python",
   "name": "python3"
  },
  "language_info": {
   "codemirror_mode": {
    "name": "ipython",
    "version": 3
   },
   "file_extension": ".py",
   "mimetype": "text/x-python",
   "name": "python",
   "nbconvert_exporter": "python",
   "pygments_lexer": "ipython3",
   "version": "3.13.1"
  }
 },
 "nbformat": 4,
 "nbformat_minor": 5
}
