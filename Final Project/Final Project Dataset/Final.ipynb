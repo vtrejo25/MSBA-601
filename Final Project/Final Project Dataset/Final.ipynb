{
 "cells": [
  {
   "cell_type": "code",
   "execution_count": 9,
   "metadata": {},
   "outputs": [
    {
     "name": "stdout",
     "output_type": "stream",
     "text": [
      "All packages are loaded\n"
     ]
    }
   ],
   "source": [
    "import pandas as pd\n",
    "import numpy as np \n",
    "import matplotlib.pyplot as plt\n",
    "import seaborn as sns\n",
    "\n",
    "print (\"All packages are loaded\")\n"
   ]
  },
  {
   "cell_type": "code",
   "execution_count": 10,
   "metadata": {},
   "outputs": [
    {
     "name": "stdout",
     "output_type": "stream",
     "text": [
      "             TEAM CONF   G   W  ADJOE  ADJDE  BARTHAG  EFG_O  EFG_D   TOR  \\\n",
      "0  North Carolina  ACC  40  33  123.3   94.9   0.9531   52.6   48.1  15.4   \n",
      "1       Wisconsin  B10  40  36  129.1   93.6   0.9758   54.8   47.7  12.4   \n",
      "2        Michigan  B10  40  33  114.4   90.4   0.9375   53.9   47.7  14.0   \n",
      "3      Texas Tech  B12  38  31  115.2   85.2   0.9696   53.5   43.0  17.7   \n",
      "4         Gonzaga  WCC  39  37  117.8   86.3   0.9728   56.6   41.1  16.2   \n",
      "5        Kentucky  SEC  40  29  117.2   96.2   0.9062   49.9   46.0  18.1   \n",
      "6        Michigan  B10  38  30  121.5   93.7   0.9522   54.6   48.0  14.6   \n",
      "7            Duke  ACC  39  35  125.2   90.6   0.9764   56.6   46.5  16.3   \n",
      "8        Virginia  ACC  38  35  123.0   89.9   0.9736   55.2   44.7  14.7   \n",
      "9  North Carolina  ACC  39  33  121.0   91.5   0.9615   51.7   48.1  16.2   \n",
      "\n",
      "   ...  FTRD  2P_O  2P_D  3P_O  3P_D  ADJ_T   WAB  POSTSEASON  SEED  YEAR  \n",
      "0  ...  30.4  53.9  44.6  32.7  36.2   71.7   8.6         2ND   1.0  2016  \n",
      "1  ...  22.4  54.8  44.7  36.5  37.5   59.3  11.3         2ND   1.0  2015  \n",
      "2  ...  30.0  54.7  46.8  35.2  33.2   65.9   6.9         2ND   3.0  2018  \n",
      "3  ...  36.6  52.8  41.9  36.5  29.7   67.5   7.0         2ND   3.0  2019  \n",
      "4  ...  26.9  56.3  40.0  38.2  29.0   71.5   7.7         2ND   1.0  2017  \n",
      "5  ...  36.8  50.0  44.9  33.2  32.2   65.9   3.9         2ND   8.0  2014  \n",
      "6  ...  22.7  53.4  47.6  37.9  32.6   64.8   6.2         2ND   4.0  2013  \n",
      "7  ...  23.9  55.9  46.3  38.7  31.4   66.4  10.7   Champions   1.0  2015  \n",
      "8  ...  26.3  52.5  45.7  39.5  28.9   60.7  11.1   Champions   1.0  2019  \n",
      "9  ...  31.6  51.0  46.3  35.5  33.9   72.8   8.4   Champions   1.0  2017  \n",
      "\n",
      "[10 rows x 24 columns]\n"
     ]
    }
   ],
   "source": [
    "df = pd.read_csv(\"cbb.csv\")\n",
    "\n",
    "print(df.head(10))"
   ]
  },
  {
   "cell_type": "code",
   "execution_count": 10,
   "metadata": {},
   "outputs": [
    {
     "ename": "KeyboardInterrupt",
     "evalue": "",
     "output_type": "error",
     "traceback": [
      "\u001b[0;31m---------------------------------------------------------------------------\u001b[0m",
      "\u001b[0;31mKeyboardInterrupt\u001b[0m                         Traceback (most recent call last)",
      "File \u001b[0;32m~/Documents/GitHub/MSBA-601/venv/lib/python3.13/site-packages/IPython/core/async_helpers.py:128\u001b[0m, in \u001b[0;36m_pseudo_sync_runner\u001b[0;34m(coro)\u001b[0m\n\u001b[1;32m    120\u001b[0m \u001b[38;5;250m\u001b[39m\u001b[38;5;124;03m\"\"\"\u001b[39;00m\n\u001b[1;32m    121\u001b[0m \u001b[38;5;124;03mA runner that does not really allow async execution, and just advance the coroutine.\u001b[39;00m\n\u001b[1;32m    122\u001b[0m \n\u001b[0;32m   (...)\u001b[0m\n\u001b[1;32m    125\u001b[0m \u001b[38;5;124;03mCredit to Nathaniel Smith\u001b[39;00m\n\u001b[1;32m    126\u001b[0m \u001b[38;5;124;03m\"\"\"\u001b[39;00m\n\u001b[1;32m    127\u001b[0m \u001b[38;5;28;01mtry\u001b[39;00m:\n\u001b[0;32m--> 128\u001b[0m     \u001b[43mcoro\u001b[49m\u001b[38;5;241;43m.\u001b[39;49m\u001b[43msend\u001b[49m\u001b[43m(\u001b[49m\u001b[38;5;28;43;01mNone\u001b[39;49;00m\u001b[43m)\u001b[49m\n\u001b[1;32m    129\u001b[0m \u001b[38;5;28;01mexcept\u001b[39;00m \u001b[38;5;167;01mStopIteration\u001b[39;00m \u001b[38;5;28;01mas\u001b[39;00m exc:\n\u001b[1;32m    130\u001b[0m     \u001b[38;5;28;01mreturn\u001b[39;00m exc\u001b[38;5;241m.\u001b[39mvalue\n",
      "File \u001b[0;32m~/Documents/GitHub/MSBA-601/venv/lib/python3.13/site-packages/IPython/core/interactiveshell.py:3321\u001b[0m, in \u001b[0;36mInteractiveShell.run_cell_async\u001b[0;34m(self, raw_cell, store_history, silent, shell_futures, transformed_cell, preprocessing_exc_tuple, cell_id)\u001b[0m\n\u001b[1;32m   3319\u001b[0m \u001b[38;5;66;03m# Apply AST transformations\u001b[39;00m\n\u001b[1;32m   3320\u001b[0m \u001b[38;5;28;01mtry\u001b[39;00m:\n\u001b[0;32m-> 3321\u001b[0m     code_ast \u001b[38;5;241m=\u001b[39m \u001b[38;5;28;43mself\u001b[39;49m\u001b[38;5;241;43m.\u001b[39;49m\u001b[43mtransform_ast\u001b[49m\u001b[43m(\u001b[49m\u001b[43mcode_ast\u001b[49m\u001b[43m)\u001b[49m\n\u001b[1;32m   3322\u001b[0m \u001b[38;5;28;01mexcept\u001b[39;00m InputRejected \u001b[38;5;28;01mas\u001b[39;00m e:\n\u001b[1;32m   3323\u001b[0m     \u001b[38;5;28mself\u001b[39m\u001b[38;5;241m.\u001b[39mshowtraceback()\n",
      "File \u001b[0;32m~/Documents/GitHub/MSBA-601/venv/lib/python3.13/site-packages/IPython/core/interactiveshell.py:3384\u001b[0m, in \u001b[0;36mInteractiveShell.transform_ast\u001b[0;34m(self, node)\u001b[0m\n\u001b[1;32m   3380\u001b[0m     cell \u001b[38;5;241m=\u001b[39m \u001b[38;5;124m'\u001b[39m\u001b[38;5;124m'\u001b[39m\u001b[38;5;241m.\u001b[39mjoin(lines)\n\u001b[1;32m   3382\u001b[0m     \u001b[38;5;28;01mreturn\u001b[39;00m cell\n\u001b[0;32m-> 3384\u001b[0m \u001b[38;5;28;01mdef\u001b[39;00m\u001b[38;5;250m \u001b[39m\u001b[38;5;21mtransform_ast\u001b[39m(\u001b[38;5;28mself\u001b[39m, node):\n\u001b[1;32m   3385\u001b[0m \u001b[38;5;250m    \u001b[39m\u001b[38;5;124;03m\"\"\"Apply the AST transformations from self.ast_transformers\u001b[39;00m\n\u001b[1;32m   3386\u001b[0m \n\u001b[1;32m   3387\u001b[0m \u001b[38;5;124;03m    Parameters\u001b[39;00m\n\u001b[0;32m   (...)\u001b[0m\n\u001b[1;32m   3397\u001b[0m \u001b[38;5;124;03m    original AST.\u001b[39;00m\n\u001b[1;32m   3398\u001b[0m \u001b[38;5;124;03m    \"\"\"\u001b[39;00m\n\u001b[1;32m   3399\u001b[0m     \u001b[38;5;28;01mfor\u001b[39;00m transformer \u001b[38;5;129;01min\u001b[39;00m \u001b[38;5;28mself\u001b[39m\u001b[38;5;241m.\u001b[39mast_transformers:\n",
      "\u001b[0;31mKeyboardInterrupt\u001b[0m: "
     ]
    }
   ],
   "source": [
    "print (df.info())\n",
    "\n",
    "print(df.describe())\n",
    "\n",
    "print(df.head())\n"
   ]
  },
  {
   "cell_type": "code",
   "execution_count": 6,
   "metadata": {},
   "outputs": [
    {
     "name": "stdout",
     "output_type": "stream",
     "text": [
      "                 TEAM Conference  Games Played  Wins  Offensive Efficiency  \\\n",
      "0      North Carolina        ACC            40    33                 123.3   \n",
      "1           Wisconsin        B10            40    36                 129.1   \n",
      "2            Michigan        B10            40    33                 114.4   \n",
      "3          Texas Tech        B12            38    31                 115.2   \n",
      "4             Gonzaga        WCC            39    37                 117.8   \n",
      "..                ...        ...           ...   ...                   ...   \n",
      "995    Tennessee Tech        OVC            29    17                 106.6   \n",
      "996       Austin Peay        OVC            28    11                 104.5   \n",
      "997           Belmont        OVC            29    23                 108.8   \n",
      "998  Eastern Illinois        OVC            27    14                  99.7   \n",
      "999  Eastern Kentucky        OVC            29    12                  98.2   \n",
      "\n",
      "     Defensive Efficiency  Team Strength  Field Goal % (Offense)  \\\n",
      "0                    94.9         0.9531                    52.6   \n",
      "1                    93.6         0.9758                    54.8   \n",
      "2                    90.4         0.9375                    53.9   \n",
      "3                    85.2         0.9696                    53.5   \n",
      "4                    86.3         0.9728                    56.6   \n",
      "..                    ...            ...                     ...   \n",
      "995                 111.2         0.3807                    52.4   \n",
      "996                 116.9         0.2169                    52.4   \n",
      "997                 103.3         0.6455                    55.7   \n",
      "998                 103.7         0.3870                    47.8   \n",
      "999                 106.4         0.2844                    49.4   \n",
      "\n",
      "     Field Goal % (Defense)  Turn Over Rate  ...  FTRD  2 Point (Offense)  \\\n",
      "0                      48.1            15.4  ...  30.4               53.9   \n",
      "1                      47.7            12.4  ...  22.4               54.8   \n",
      "2                      47.7            14.0  ...  30.0               54.7   \n",
      "3                      43.0            17.7  ...  36.6               52.8   \n",
      "4                      41.1            16.2  ...  26.9               56.3   \n",
      "..                      ...             ...  ...   ...                ...   \n",
      "995                    50.6            17.8  ...  32.8               51.3   \n",
      "996                    56.4            17.3  ...  29.5               52.2   \n",
      "997                    48.3            18.4  ...  31.9               60.9   \n",
      "998                    49.7            17.5  ...  39.3               43.5   \n",
      "999                    51.4            19.8  ...  40.5               50.1   \n",
      "\n",
      "     2 Point (Defense)  3 Point (Offense)  3 Point (Defense)  ADJ_T   WAB  \\\n",
      "0                 44.6               32.7               36.2   71.7   8.6   \n",
      "1                 44.7               36.5               37.5   59.3  11.3   \n",
      "2                 46.8               35.2               33.2   65.9   6.9   \n",
      "3                 41.9               36.5               29.7   67.5   7.0   \n",
      "4                 40.0               38.2               29.0   71.5   7.7   \n",
      "..                 ...                ...                ...    ...   ...   \n",
      "995               48.5               35.9               36.4   70.1  -6.0   \n",
      "996               56.9               35.2               37.0   71.3 -13.8   \n",
      "997               48.6               34.1               31.8   69.5  -0.7   \n",
      "998               47.6               36.6               35.9   70.1 -11.5   \n",
      "999               49.8               32.3               36.2   69.1 -13.3   \n",
      "\n",
      "     Postseason  Seed  Year  \n",
      "0           2ND   1.0  2016  \n",
      "1           2ND   1.0  2015  \n",
      "2           2ND   3.0  2018  \n",
      "3           2ND   3.0  2019  \n",
      "4           2ND   1.0  2017  \n",
      "..          ...   ...   ...  \n",
      "995         NaN   NaN  2016  \n",
      "996         NaN   NaN  2017  \n",
      "997         NaN   NaN  2017  \n",
      "998         NaN   NaN  2017  \n",
      "999         NaN   NaN  2017  \n",
      "\n",
      "[1000 rows x 24 columns]\n"
     ]
    }
   ],
   "source": [
    "\n",
    "\n",
    "df = df.rename(columns={'CONF': 'Conference'})\n",
    "df = df.rename(columns={'G': 'Games Played'})\n",
    "df = df.rename(columns={'W': 'Wins'})\n",
    "df = df.rename(columns={'ADJOE': 'Offensive Efficiency'})\n",
    "df = df.rename(columns={'ADJDE': 'Defensive Efficiency'})\n",
    "df = df.rename(columns={'BARTHAG': 'Team Strength'})\n",
    "df = df.rename(columns={'EFG_O': 'Field Goal % (Offense)'})\n",
    "df = df.rename(columns={'EFG_D': 'Field Goal % (Defense)'})\n",
    "df = df.rename(columns={'TOR': 'Turn Over Rate'})\n",
    "df = df.rename(columns={'TORD': 'Steal Percentage'})\n",
    "df = df.rename(columns={'ORB':'Offensive Rebounds'})\n",
    "df = df.rename(columns={'DRB':'Defensive Rebound Percentage'})\n",
    "df = df.rename(columns={'FTR':'Free Throw Rate'})\n",
    "df = df.rename(columns={'2P_O': '2 Point (Offense)'})\n",
    "df = df.rename(columns={'2P_D': '2 Point (Defense)'})\n",
    "df = df.rename(columns={'3P_O': '3 Point (Offense)'})\n",
    "df = df.rename(columns={'3P_D': '3 Point (Defense)'})\n",
    "df = df.rename(columns={'POSTSEASON': 'Postseason'})\n",
    "df = df.rename(columns={'SEED': 'Seed'})\n",
    "df = df.rename(columns={'YEAR': 'Year'})\n",
    "\n",
    "\n",
    "\n",
    "\n",
    "print(df.head(1000))\n",
    "\n"
   ]
  },
  {
   "cell_type": "code",
   "execution_count": 7,
   "metadata": {},
   "outputs": [
    {
     "name": "stdout",
     "output_type": "stream",
     "text": [
      "TEAM             0\n",
      "CONF             0\n",
      "G                0\n",
      "W                0\n",
      "ADJOE            0\n",
      "ADJDE            0\n",
      "BARTHAG          0\n",
      "EFG_O            0\n",
      "EFG_D            0\n",
      "TOR              0\n",
      "TORD             0\n",
      "ORB              0\n",
      "DRB              0\n",
      "FTR              0\n",
      "FTRD             0\n",
      "2P_O             0\n",
      "2P_D             0\n",
      "3P_O             0\n",
      "3P_D             0\n",
      "ADJ_T            0\n",
      "WAB              0\n",
      "POSTSEASON    3137\n",
      "SEED          3137\n",
      "YEAR             0\n",
      "dtype: int64\n"
     ]
    }
   ],
   "source": [
    "df = pd.read_csv('cbb.csv')\n",
    "\n",
    "print(df.isna().sum())\n",
    "\n",
    "#shows the total count of NaNs in each column"
   ]
  },
  {
   "cell_type": "code",
   "execution_count": 8,
   "metadata": {},
   "outputs": [
    {
     "name": "stdout",
     "output_type": "stream",
     "text": [
      "                        TEAM  CONF   G   W  ADJOE  ADJDE  BARTHAG  EFG_O  \\\n",
      "56                  Duquesne   A10  30  11  107.0  111.7   0.3790   51.2   \n",
      "57                   Fordham   A10  30   9  101.0  103.0   0.4450   46.7   \n",
      "58              George Mason   A10  30   8  101.2  103.8   0.4276   45.5   \n",
      "59         George Washington   A10  35  22  107.2   96.2   0.7755   48.9   \n",
      "60                  La Salle   A10  33  17   98.9   92.9   0.6734   46.7   \n",
      "...                      ...   ...  ..  ..    ...    ...      ...    ...   \n",
      "3880               Stonehill   NEC  30   4   90.3  114.2   0.0629   46.7   \n",
      "3881          St. Francis PA   NEC  28   8   93.1  118.1   0.0608   47.2   \n",
      "3882                   IUPUI  Horz  29   6   92.1  116.9   0.0607   46.5   \n",
      "3883              Coppin St.  MEAC  29   2   85.1  111.1   0.0445   42.1   \n",
      "3884  Mississippi Valley St.  SWAC  31   1   85.4  116.2   0.0283   42.5   \n",
      "\n",
      "      EFG_D   TOR  ...  FTRD  2P_O  2P_D  3P_O  3P_D  ADJ_T   WAB  POSTSEASON  \\\n",
      "56     51.7  18.3  ...  33.8  49.5  47.7  36.2  38.5   67.6 -11.3         NaN   \n",
      "57     50.2  22.2  ...  41.7  47.8  49.6  29.8  34.1   65.9 -12.3         NaN   \n",
      "58     50.0  21.9  ...  44.7  44.9  48.4  31.6  35.3   65.0 -12.6         NaN   \n",
      "59     45.9  18.7  ...  28.9  47.3  44.9  35.2  31.9   62.7  -2.3         NaN   \n",
      "60     45.8  19.9  ...  34.4  46.1  45.1  32.1  31.6   64.8  -6.3         NaN   \n",
      "...     ...   ...  ...   ...   ...   ...   ...   ...    ...   ...         ...   \n",
      "3880   52.7  19.5  ...  29.4  47.9  51.7  30.1  35.9   68.1 -22.0         NaN   \n",
      "3881   53.0  21.2  ...  35.4  45.7  52.9  33.2  35.4   65.4 -18.6         NaN   \n",
      "3882   58.2  21.3  ...  33.4  49.5  59.0  24.7  38.0   67.3 -21.6         NaN   \n",
      "3883   51.3  22.9  ...  38.3  41.9  51.0  28.3  34.5   66.3 -22.9         NaN   \n",
      "3884   55.6  24.0  ...  41.6  41.9  55.6  29.2  37.0   64.5 -22.7         NaN   \n",
      "\n",
      "      SEED  YEAR  \n",
      "56     NaN  2015  \n",
      "57     NaN  2015  \n",
      "58     NaN  2015  \n",
      "59     NaN  2015  \n",
      "60     NaN  2015  \n",
      "...    ...   ...  \n",
      "3880   NaN  2024  \n",
      "3881   NaN  2024  \n",
      "3882   NaN  2024  \n",
      "3883   NaN  2024  \n",
      "3884   NaN  2024  \n",
      "\n",
      "[3137 rows x 24 columns]\n"
     ]
    }
   ],
   "source": [
    "print(df[df.isna().any(axis=1)])\n",
    "\n",
    "#This shows the rows that contain any NaN value"
   ]
  }
 ],
 "metadata": {
  "kernelspec": {
   "display_name": "venv",
   "language": "python",
   "name": "python3"
  },
  "language_info": {
   "codemirror_mode": {
    "name": "ipython",
    "version": 3
   },
   "file_extension": ".py",
   "mimetype": "text/x-python",
   "name": "python",
   "nbconvert_exporter": "python",
   "pygments_lexer": "ipython3",
   "version": "3.13.1"
  }
 },
 "nbformat": 4,
 "nbformat_minor": 4
}
