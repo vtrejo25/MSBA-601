{
 "cells": [
  {
   "cell_type": "markdown",
   "id": "530406fb",
   "metadata": {},
   "source": [
    "\n",
    "# Python Modules - Teaching Notes\n",
    "\n",
    "In this notebook, we'll cover the basics of Python modules, how to use them, and how to organize larger projects using modules and packages. We'll explore examples that demonstrate these concepts.\n",
    "\n",
    "## Topics Covered:\n",
    "1. What are Modules?\n",
    "2. Importing Modules\n",
    "3. Importing Specific Names\n",
    "4. Reloading Modules\n",
    "5. Using Packages\n",
    "6. Exploring the Python Standard Library\n"
   ]
  },
  {
   "cell_type": "markdown",
   "id": "303bbb89",
   "metadata": {},
   "source": [
    "\n",
    "## 1. What are Modules?\n",
    "\n",
    "A Python module is a file containing Python code (functions, classes, variables) that can be imported into other Python scripts or modules. Modules help in organizing and reusing code. \n",
    "\n",
    "For example, consider the following module `math_utils.py`:\n",
    "\n",
    "```python\n",
    "# math_utils.py\n",
    "def add(a, b):\n",
    "    return a + b\n",
    "\n",
    "def subtract(a, b):\n",
    "    return a - b\n",
    "```\n",
    "\n",
    "You can now import this module and use the functions in another script:\n",
    "\n",
    "```python\n",
    "import math_utils\n",
    "\n",
    "result = math_utils.add(10, 5)\n",
    "print(f\"10 + 5 = {result}\")\n",
    "```\n"
   ]
  },
  {
   "cell_type": "markdown",
   "id": "4a17972b",
   "metadata": {},
   "source": [
    "\n",
    "## 2. Importing Modules\n",
    "\n",
    "You can import an entire module using the `import` keyword and access its functions using dot notation. Let's import Python's built-in `math` module and use its functions.\n",
    "\n"
   ]
  },
  {
   "cell_type": "code",
   "execution_count": 1,
   "id": "373681e8",
   "metadata": {},
   "outputs": [
    {
     "name": "stdout",
     "output_type": "stream",
     "text": [
      "The square root of 25 is: 5.0\n"
     ]
    }
   ],
   "source": [
    "\n",
    "# Example 1: Importing and using the math module\n",
    "import math\n",
    "\n",
    "# Use math functions\n",
    "result = math.sqrt(25)\n",
    "print(f\"The square root of 25 is: {result}\")\n",
    "\n",
    "#run again without importing math\n"
   ]
  },
  {
   "cell_type": "markdown",
   "id": "ca4b997c",
   "metadata": {},
   "source": [
    "\n",
    "## 3. Importing Specific Names\n",
    "\n",
    "Instead of importing the entire module, you can import specific names (functions, classes, variables) using the `from` keyword. This allows direct access without using the module name as a prefix.\n",
    "\n"
   ]
  },
  {
   "cell_type": "code",
   "execution_count": 5,
   "id": "cb46e5b8",
   "metadata": {},
   "outputs": [
    {
     "name": "stdout",
     "output_type": "stream",
     "text": [
      "The square root of 49 is: 7.0\n",
      "The value of pi is: 3.141592653589793\n"
     ]
    }
   ],
   "source": [
    "\n",
    "# Example 2: Importing specific functions from a module\n",
    "from math import sqrt, pi\n",
    "\n",
    "# Use imported names directly\n",
    "result = sqrt(49)\n",
    "print(f\"The square root of 49 is: {result}\")\n",
    "print(f\"The value of pi is: {pi}\")\n"
   ]
  },
  {
   "cell_type": "markdown",
   "id": "a4112c25",
   "metadata": {},
   "source": [
    "\n",
    "## 4. Reloading Modules\n",
    "\n",
    "Sometimes, after importing a module, its source code might change. The `reload()` function from the `importlib` module allows you to reload and re-execute the updated module.\n",
    "\n"
   ]
  },
  {
   "cell_type": "code",
   "execution_count": 6,
   "id": "22a9e198",
   "metadata": {},
   "outputs": [
    {
     "ename": "ModuleNotFoundError",
     "evalue": "No module named 'math_utils'",
     "output_type": "error",
     "traceback": [
      "\u001b[0;31m---------------------------------------------------------------------------\u001b[0m",
      "\u001b[0;31mModuleNotFoundError\u001b[0m                       Traceback (most recent call last)",
      "Cell \u001b[0;32mIn[6], line 3\u001b[0m\n\u001b[1;32m      1\u001b[0m \u001b[38;5;66;03m# Example 3: Reloading a module (requires the importlib module)\u001b[39;00m\n\u001b[1;32m      2\u001b[0m \u001b[38;5;28;01mimport\u001b[39;00m\u001b[38;5;250m \u001b[39m\u001b[38;5;21;01mimportlib\u001b[39;00m\n\u001b[0;32m----> 3\u001b[0m \u001b[38;5;28;01mimport\u001b[39;00m\u001b[38;5;250m \u001b[39m\u001b[38;5;21;01mmath_utils\u001b[39;00m  \u001b[38;5;66;03m# Assume math_utils.py was changed\u001b[39;00m\n\u001b[1;32m      5\u001b[0m \u001b[38;5;66;03m# Reload the module to get the updated version\u001b[39;00m\n\u001b[1;32m      6\u001b[0m importlib\u001b[38;5;241m.\u001b[39mreload(math_utils)\n",
      "\u001b[0;31mModuleNotFoundError\u001b[0m: No module named 'math_utils'"
     ]
    }
   ],
   "source": [
    "\n",
    "# Example 3: Reloading a module (requires the importlib module)\n",
    "import importlib\n",
    "import math_utils  # Assume math_utils.py was changed\n",
    "\n",
    "# Reload the module to get the updated version\n",
    "importlib.reload(math_utils)\n"
   ]
  },
  {
   "cell_type": "markdown",
   "id": "fb80e775",
   "metadata": {},
   "source": [
    "\n",
    "## 5. Using Packages\n",
    "\n",
    "A package is a directory that contains multiple modules and subpackages. To indicate that a directory is a package, it must include an `__init__.py` file.\n",
    "\n",
    "Example structure:\n",
    "\n",
    "```\n",
    "my_package/\n",
    "    __init__.py\n",
    "    module1.py\n",
    "    module2.py\n",
    "```\n",
    "\n",
    "You can import and use modules within a package:\n",
    "\n",
    "```python\n",
    "from my_package import module1\n",
    "module1.some_function()\n",
    "```\n",
    "\n"
   ]
  },
  {
   "cell_type": "markdown",
   "id": "d0b95852",
   "metadata": {},
   "source": [
    "\n",
    "## 6. Exploring the Python Standard Library\n",
    "\n",
    "Python comes with a rich standard library of modules that provide many commonly used functions. For example, the `datetime` module allows working with dates and times, and the `random` module allows generating random numbers.\n",
    "\n",
    "https://docs.python.org/3/library/index.html\n",
    "\n"
   ]
  },
  {
   "cell_type": "code",
   "execution_count": null,
   "id": "ca303410",
   "metadata": {},
   "outputs": [],
   "source": [
    "\n",
    "# Example 4: Using the datetime and random modules from the standard library\n",
    "import datetime\n",
    "import random\n",
    "\n",
    "# Get the current date\n",
    "today = datetime.date.today()\n",
    "print(f\"Today's date is: {today}\")\n",
    "\n",
    "# Generate a random number between 1 and 10\n",
    "random_number = random.randint(1, 10)\n",
    "print(f\"Random number between 1 and 10: {random_number}\")\n"
   ]
  },
  {
   "cell_type": "code",
   "execution_count": null,
   "id": "c1ba6922",
   "metadata": {},
   "outputs": [],
   "source": [
    "import turtle\n",
    "import random\n",
    "\n",
    "# Setup the screen\n",
    "screen = turtle.Screen()\n",
    "screen.bgcolor(\"black\")\n",
    "turtle.colormode(255)  # Enable RGB colors\n",
    "\n",
    "# Create the turtle\n",
    "t = turtle.Turtle()\n",
    "t.speed(0)  # Fastest speed\n",
    "t.width(2)\n",
    "\n",
    "# Function to generate random colors\n",
    "def random_color():\n",
    "    return (random.randint(50, 255), random.randint(50, 255), random.randint(50, 255))\n",
    "\n",
    "# Function to draw a star\n",
    "def draw_star(size):\n",
    "    for _ in range(5):  \n",
    "        t.forward(size)\n",
    "        t.right(144)  # Star turning angle\n",
    "\n",
    "# Function to create rotating stars\n",
    "def rotating_stars():\n",
    "    for i in range(36):  # Create 36 stars for a full rotation\n",
    "        t.pencolor(random_color())  # Change color\n",
    "        draw_star(100)  # Draw a star\n",
    "        t.right(10)  # Rotate slightly\n",
    "\n",
    "# Move to center\n",
    "t.penup()\n",
    "t.goto(-50, 0)\n",
    "t.pendown()\n",
    "\n",
    "# Draw the pattern\n",
    "rotating_stars()\n",
    "\n",
    "# Hide the turtle and display the result\n",
    "t.hideturtle()\n",
    "turtle.done()\n"
   ]
  },
  {
   "cell_type": "code",
   "execution_count": 8,
   "id": "5f418434",
   "metadata": {},
   "outputs": [
    {
     "ename": "ModuleNotFoundError",
     "evalue": "No module named 'pandas'",
     "output_type": "error",
     "traceback": [
      "\u001b[0;31m---------------------------------------------------------------------------\u001b[0m",
      "\u001b[0;31mModuleNotFoundError\u001b[0m                       Traceback (most recent call last)",
      "Cell \u001b[0;32mIn[8], line 1\u001b[0m\n\u001b[0;32m----> 1\u001b[0m \u001b[38;5;28;01mimport\u001b[39;00m\u001b[38;5;250m \u001b[39m\u001b[38;5;21;01mpandas\u001b[39;00m\u001b[38;5;250m \u001b[39m\u001b[38;5;28;01mas\u001b[39;00m\u001b[38;5;250m \u001b[39m\u001b[38;5;21;01mpd\u001b[39;00m\n\u001b[1;32m      2\u001b[0m \u001b[38;5;28;01mimport\u001b[39;00m\u001b[38;5;250m \u001b[39m\u001b[38;5;21;01mnumpy\u001b[39;00m\u001b[38;5;250m \u001b[39m\u001b[38;5;28;01mas\u001b[39;00m\u001b[38;5;250m \u001b[39m\u001b[38;5;21;01mnp\u001b[39;00m\n\u001b[1;32m      3\u001b[0m \u001b[38;5;28;01mimport\u001b[39;00m\u001b[38;5;250m \u001b[39m\u001b[38;5;21;01mplotly\u001b[39;00m\u001b[38;5;21;01m.\u001b[39;00m\u001b[38;5;21;01mexpress\u001b[39;00m\u001b[38;5;250m \u001b[39m\u001b[38;5;28;01mas\u001b[39;00m\u001b[38;5;250m \u001b[39m\u001b[38;5;21;01mpx\u001b[39;00m\n",
      "\u001b[0;31mModuleNotFoundError\u001b[0m: No module named 'pandas'"
     ]
    }
   ],
   "source": [
    "import pandas as pd\n",
    "import numpy as np\n",
    "import plotly.express as px\n",
    "import plotly.graph_objects as go\n",
    "import cufflinks as cf\n",
    "\n",
    "# Enable offline mode for interactive visualization\n",
    "cf.go_offline()\n",
    "\n",
    "# Create a fake sales dataset\n",
    "data = {\n",
    "    \"Date\": pd.date_range(start=\"2024-01-01\", periods=100, freq=\"D\"),\n",
    "    \"Product\": np.random.choice([\"Laptop\", \"Phone\", \"Tablet\", \"Monitor\", \"Headphones\"], size=100),\n",
    "    \"Category\": np.random.choice([\"Electronics\", \"Accessories\"], size=100),\n",
    "    \"Sales_Amount\": np.random.randint(100, 2000, size=100),\n",
    "    \"Units_Sold\": np.random.randint(1, 10, size=100)\n",
    "}\n",
    "\n",
    "# Convert data into a DataFrame\n",
    "df = pd.DataFrame(data)\n",
    "\n",
    "# Convert Date to datetime format\n",
    "df[\"Date\"] = pd.to_datetime(df[\"Date\"])\n",
    "\n",
    "# -----------------------------\n",
    "# 🛠️ Data Cleaning & Processing\n",
    "# -----------------------------\n",
    "\n",
    "# Check for missing values\n",
    "print(\"\\n🔍 Missing Values in Dataset:\")\n",
    "print(df.isnull().sum())\n",
    "\n",
    "# Summary Statistics\n",
    "print(\"\\n📊 Summary Statistics:\")\n",
    "print(df.describe())\n",
    "\n",
    "# -----------------------------\n",
    "# 📊 Data Analysis & Insights\n",
    "# -----------------------------\n",
    "\n",
    "# ✅ 1. Total Sales by Category (Interactive Bar Chart)\n",
    "sales_by_category = df.groupby(\"Category\")[\"Sales_Amount\"].sum().reset_index()\n",
    "fig1 = px.bar(\n",
    "    sales_by_category,\n",
    "    x=\"Category\",\n",
    "    y=\"Sales_Amount\",\n",
    "    title=\"💰 Total Sales by Category\",\n",
    "    color=\"Category\",\n",
    "    text=\"Sales_Amount\",\n",
    ")\n",
    "fig1.show()\n",
    "\n",
    "# ✅ 2. Monthly Revenue Trend (Interactive Line Chart)\n",
    "df[\"Month\"] = df[\"Date\"].dt.to_period(\"M\")\n",
    "monthly_sales = df.groupby(\"Month\")[\"Sales_Amount\"].sum().reset_index()\n",
    "monthly_sales[\"Month\"] = monthly_sales[\"Month\"].astype(str)  # Convert period to string\n",
    "\n",
    "fig2 = px.line(\n",
    "    monthly_sales,\n",
    "    x=\"Month\",\n",
    "    y=\"Sales_Amount\",\n",
    "    title=\"📆 Monthly Revenue Trend\",\n",
    "    markers=True\n",
    ")\n",
    "fig2.show()\n",
    "\n",
    "# ✅ 3. Rolling Average Sales Trend (Interactive Line Chart)\n",
    "df[\"Rolling_Avg_Sales\"] = df[\"Sales_Amount\"].rolling(window=7).mean()\n",
    "\n",
    "fig3 = go.Figure()\n",
    "fig3.add_trace(go.Scatter(\n",
    "    x=df[\"Date\"], y=df[\"Rolling_Avg_Sales\"],\n",
    "    mode='lines',\n",
    "    name=\"Rolling Average Sales\",\n",
    "    line=dict(color=\"purple\", width=3, dash=\"dot\")\n",
    "))\n",
    "fig3.update_layout(\n",
    "    title=\"📊 7-Day Rolling Average of Sales\",\n",
    "    xaxis_title=\"Date\",\n",
    "    yaxis_title=\"Sales Amount ($)\",\n",
    "    template=\"plotly_dark\"\n",
    ")\n",
    "fig3.show()\n"
   ]
  }
 ],
 "metadata": {
  "kernelspec": {
   "display_name": "venv",
   "language": "python",
   "name": "python3"
  },
  "language_info": {
   "codemirror_mode": {
    "name": "ipython",
    "version": 3
   },
   "file_extension": ".py",
   "mimetype": "text/x-python",
   "name": "python",
   "nbconvert_exporter": "python",
   "pygments_lexer": "ipython3",
   "version": "3.13.1"
  }
 },
 "nbformat": 4,
 "nbformat_minor": 5
}
