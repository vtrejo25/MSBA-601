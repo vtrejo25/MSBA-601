{
 "cells": [
  {
   "cell_type": "markdown",
   "id": "36b4672b",
   "metadata": {},
   "source": [
    "# Inheritance in Python\n",
    "---\n",
    "\n",
    "**Objective:** Learn about inheritance, derived classes, base class access, overriding, class relationships, mixin classes, and unit testing."
   ]
  },
  {
   "cell_type": "markdown",
   "id": "e6053520",
   "metadata": {},
   "source": [
    "## Introduction to Inheritance\n",
    "---\n",
    "- **Inheritance** allows a class (child) to inherit attributes and methods from another class (parent).\n",
    "- **Real-life analogy**: A child inherits traits from their parents."
   ]
  },
  {
   "cell_type": "code",
   "execution_count": 1,
   "id": "32fa706b",
   "metadata": {},
   "outputs": [
    {
     "name": "stdout",
     "output_type": "stream",
     "text": [
      "Hello from Parent\n"
     ]
    }
   ],
   "source": [
    "class Parent:\n",
    "    def greet(self):\n",
    "        return \"Hello from Parent\"\n",
    "\n",
    "class Child(Parent): #Child class inherits all methods from the Parent class. \n",
    "    pass\n",
    "\n",
    "obj = Child()\n",
    "print(obj.greet())  # Inherited method"
   ]
  },
  {
   "cell_type": "markdown",
   "id": "9ca22641",
   "metadata": {},
   "source": [
    "- **Why use inheritance?**\n",
    "  - Code reusability\n",
    "  - Maintainability\n",
    "  - Avoid redundancy"
   ]
  },
  {
   "cell_type": "markdown",
   "id": "987f7cc9",
   "metadata": {},
   "source": [
    "## Derived Classes\n",
    "---\n",
    "- A **derived class** (child) extends the functionality of a parent class.\n",
    "\n",
    "A class will commonly share attributes with another class, but with some additions or variations. Ex: A store inventory system might use a class called Item, having name and quantity attributes. But for fruits and vegetables, a class Produce might have the attributes name, quantity, and expiration date. Note that Produce is really an Item with an additional feature, so ideally a program could define the Produce class as being the same as the Item class but with the addition of an expiration date attribute.\n",
    "\n",
    "The term derived class refers to a class that inherits the class attributes of another class, known as a base class. Any class may serve as a base class; no changes to the definition of that class are required. "
   ]
  },
  {
   "cell_type": "code",
   "execution_count": 5,
   "id": "26f594c1",
   "metadata": {},
   "outputs": [
    {
     "name": "stdout",
     "output_type": "stream",
     "text": [
      "Smith Cereal 9\n",
      "---------------------\n",
      "Apples 40\n",
      "  (Expires:(May 5, 2012))\n"
     ]
    }
   ],
   "source": [
    "class Item:\n",
    "    def __init__(self):\n",
    "        self.name = ''\n",
    "        self.quantity = 0\n",
    "\n",
    "    def set_name(self, nm):\n",
    "        self.name = nm\n",
    "\n",
    "    def set_quantity(self, qnty):\n",
    "        self.quantity = qnty\n",
    "\n",
    "    def display(self):\n",
    "        print(self.name, self.quantity)\n",
    "\n",
    "\n",
    "class Produce(Item):  # Derived from Item\n",
    "    def __init__(self):\n",
    "        Item.__init__(self)  # Call base class constructor\n",
    "        self.expiration = ''\n",
    "\n",
    "    def set_expiration(self, expir):\n",
    "        self.expiration = expir\n",
    "\n",
    "    def get_expiration(self):\n",
    "        return self.expiration\n",
    "\n",
    "\n",
    "item1 = Item()\n",
    "item1.set_name('Smith Cereal')\n",
    "item1.set_quantity(9)\n",
    "item1.display()\n",
    "print('---------------------')\n",
    "\n",
    "item2 = Produce()\n",
    "item2.set_name('Apples') #derived from Item class\n",
    "item2.set_quantity(40) #derived from Item class\n",
    "item2.set_expiration('May 5, 2012')\n",
    "item2.display()\n",
    "print(f'  (Expires:({item2.get_expiration()}))')"
   ]
  },
  {
   "cell_type": "markdown",
   "id": "435ff0db",
   "metadata": {},
   "source": [
    "## Overriding Methods\n",
    "---\n",
    "- **Method overriding** allows a child class to modify a parent's method.\n",
    "\n",
    "A derived class may define a method having the same name as a method in the base class. Such a member function overrides the method of the base class. \n",
    "\n",
    "The ElectricCar class redefines fuel() from Vehicle.\n",
    "\n",
    "Unlike a derived method, this intentionally changes behavior rather than simply inheriting the method.\n"
   ]
  },
  {
   "cell_type": "code",
   "execution_count": 8,
   "id": "8017424b",
   "metadata": {},
   "outputs": [
    {
     "name": "stdout",
     "output_type": "stream",
     "text": [
      "Electric\n",
      "Petrol\n"
     ]
    }
   ],
   "source": [
    "class Vehicle:\n",
    "    def fuel(self):\n",
    "        return \"Petrol\"\n",
    "\n",
    "class ElectricCar(Vehicle):\n",
    "    def fuel(self): #Overrides from Vehicle\n",
    "        return \"Electric\"\n",
    "\n",
    "tesla = ElectricCar()\n",
    "print(tesla.fuel())  # Output: Electric\n",
    "\n",
    "subi = Vehicle()\n",
    "print(subi.fuel())"
   ]
  },
  {
   "cell_type": "markdown",
   "id": "7bce03ef",
   "metadata": {},
   "source": [
    "## Base Class Access\n",
    "---\n",
    "- Use `super()` to access parent class methods.\n",
    "- Example:"
   ]
  },
  {
   "cell_type": "code",
   "execution_count": 9,
   "id": "a47d4cd5",
   "metadata": {},
   "outputs": [
    {
     "name": "stdout",
     "output_type": "stream",
     "text": [
      "Parent method\n",
      "Child method\n"
     ]
    }
   ],
   "source": [
    "class Parent:\n",
    "    def show(self):\n",
    "        print(\"Parent method\")\n",
    "\n",
    "class Child(Parent):\n",
    "    def show(self):\n",
    "        super().show()  # Calls Parent method\n",
    "        print(\"Child method\")\n",
    "\n",
    "obj = Child()\n",
    "obj.show()"
   ]
  },
  {
   "cell_type": "markdown",
   "id": "a4f15c4e",
   "metadata": {},
   "source": [
    "- **Why use `super()`?**\n",
    "  - Extends functionality without rewriting code"
   ]
  },
  {
   "cell_type": "markdown",
   "id": "3eff7336",
   "metadata": {},
   "source": [
    "## Is-a vs Has-a Relationships"
   ]
  },
  {
   "cell_type": "markdown",
   "id": "abaeb22b",
   "metadata": {},
   "source": [
    "The concept of inheritance is often confused with composition. Composition is the idea that one object may be made up of other objects. \n",
    "\n",
    "For instance, a \"mother\" class can be made up of objects like \"name\" (possibly a string object), \"children\" (which may be a list of Child objects), etc. Defining that \"mother\" class does not involve inheritance, but rather just composing the sub-objects in the class."
   ]
  },
  {
   "cell_type": "markdown",
   "id": "ba8702fb",
   "metadata": {},
   "source": [
    "### **Has-a Relationship** (Composition):"
   ]
  },
  {
   "cell_type": "code",
   "execution_count": 10,
   "id": "420ad23d",
   "metadata": {},
   "outputs": [
    {
     "name": "stdout",
     "output_type": "stream",
     "text": [
      "Mary\n",
      "January 15\n",
      "['Judy']\n",
      "Judy\n",
      "May 10\n",
      "Roosevelt\n"
     ]
    }
   ],
   "source": [
    "#The 'has-a' relationship. A Mother object 'has-a' string object and 'has' child objects, but no inheritance is involved.\n",
    "\n",
    "class Child:\n",
    "    def __init__(self):\n",
    "        #has but no inheritance.\n",
    "        self.name = ''\n",
    "        self.birthdate = ''\n",
    "        self.schoolname = ''\n",
    "\n",
    "class Mother:\n",
    "    def __init__(self):\n",
    "        #has but no inheritance.\n",
    "        self.name = ''\n",
    "        self.birthdate = ''\n",
    "        self.children = []\n",
    "\n",
    "mary = Mother()\n",
    "mary.name = \"Mary\"\n",
    "mary.birthdate = \"January 15\"\n",
    "mary.children = [\"Judy\"] \n",
    "\n",
    "judy = Child()\n",
    "judy.name = \"Judy\"\n",
    "judy.schoolname = \"Roosevelt\"\n",
    "judy.birthdate = \"May 10\"\n",
    "\n",
    "print(mary.name)\n",
    "print(mary.birthdate)\n",
    "print(mary.children)\n",
    "\n",
    "print(judy.name)\n",
    "print(judy.birthdate)\n",
    "print(judy.schoolname)\n"
   ]
  },
  {
   "cell_type": "markdown",
   "id": "f1d07f86",
   "metadata": {},
   "source": [
    "### **Is-a Relationship** (Inheritance):"
   ]
  },
  {
   "cell_type": "code",
   "execution_count": 12,
   "id": "551eda60",
   "metadata": {},
   "outputs": [
    {
     "name": "stdout",
     "output_type": "stream",
     "text": [
      "Name: Anna, Birthdate: 1985-06-15, Spouse: John, Children: [Name: Emma, Birthdate: 2010-09-05, School: Greenwood Elementary, Name: Lucas, Birthdate: 2012-03-20, School: Sunrise Academy]\n"
     ]
    }
   ],
   "source": [
    "#The 'is-a' relationship. A Mother object 'is a' kind of Person. The Mother class thus inherits from the Person class. Likewise for the Child class.\n",
    "\n",
    "class Person:\n",
    "    def __init__(self, name='', birthdate=''):\n",
    "        self.name = name\n",
    "        self.birthdate = birthdate\n",
    "\n",
    "    def display(self):\n",
    "        return f\"Name: {self.name}, Birthdate: {self.birthdate}\"\n",
    "\n",
    "\n",
    "class Child(Person):\n",
    "    def __init__(self, name='', birthdate='', schoolname=''):\n",
    "        super().__init__(name, birthdate)\n",
    "        self.schoolname = schoolname\n",
    "\n",
    "    def display(self):\n",
    "        return f\"{super().display()}, School: {self.schoolname}\"\n",
    "\n",
    "\n",
    "class Mother(Person):\n",
    "    def __init__(self, name='', birthdate='', spousename=''):\n",
    "        super().__init__(name, birthdate)\n",
    "        self.spousename = spousename\n",
    "        self.children = []\n",
    "\n",
    "    def add_child(self, child):\n",
    "        if isinstance(child, Child):\n",
    "            self.children.append(child)\n",
    "        else:\n",
    "            raise ValueError(\"Only Child instances can be added.\")\n",
    "\n",
    "    def display(self):\n",
    "        children_info = \", \".join(child.display() for child in self.children) if self.children else \"No children\"\n",
    "        return f\"{super().display()}, Spouse: {self.spousename}, Children: [{children_info}]\"\n",
    "\n",
    "\n",
    "# Example Usage:\n",
    "mother = Mother(name=\"Anna\", birthdate=\"1985-06-15\", spousename=\"John\") \n",
    "child1 = Child(name=\"Emma\", birthdate=\"2010-09-05\", schoolname=\"Greenwood Elementary\")\n",
    "child2 = Child(name=\"Lucas\", birthdate=\"2012-03-20\", schoolname=\"Sunrise Academy\")\n",
    "\n",
    "mother.add_child(child1)\n",
    "mother.add_child(child2)\n",
    "\n",
    "# Print details\n",
    "print(mother.display())\n"
   ]
  },
  {
   "cell_type": "markdown",
   "id": "3d26f873",
   "metadata": {},
   "source": [
    "**Discussion:** Which approach is better and when?"
   ]
  },
  {
   "cell_type": "markdown",
   "id": "8f2d650a",
   "metadata": {},
   "source": [
    "## Mixin Classes\n",
    "---\n",
    "A class can inherit from more than one base class, a concept known as multiple inheritance. The derived class inherits all of the class attributes and methods of every base class.\n",
    "\n",
    "- **Mixins** add reusable behavior without traditional inheritance."
   ]
  },
  {
   "cell_type": "markdown",
   "id": "0a4d4fae",
   "metadata": {},
   "source": [
    "## Explanation of Mixin Usage:\n",
    "\n",
    "### WingedAnimal Mixin\n",
    "- Adds `wingspan` attribute.\n",
    "- Provides the `flap_wings()` method.\n",
    "\n",
    "### Mammal Mixin\n",
    "- Provides `breathe()` and `give_birth()` methods.\n",
    "\n",
    "### VampireBat Class\n",
    "- Inherits from both `WingedAnimal` and `Mammal`.\n",
    "- Calls `super().__init__(wingspan)` to initialize `wingspan` from `WingedAnimal`.\n",
    "- Uses all inherited methods.\n"
   ]
  },
  {
   "cell_type": "code",
   "execution_count": null,
   "id": "70260240",
   "metadata": {},
   "outputs": [],
   "source": [
    "# Mixin for winged animals\n",
    "class WingedAnimal:\n",
    "    def __init__(self, wingspan=''):\n",
    "        self.wingspan = wingspan\n",
    "\n",
    "    def flap_wings(self):\n",
    "        return \"Flapping wings!\"\n",
    "\n",
    "# Mixin for mammals\n",
    "class Mammal:\n",
    "    def breathe(self):\n",
    "        return \"Breathing air!\"\n",
    "\n",
    "    def give_birth(self):\n",
    "        return \"Giving birth to a baby!\"\n",
    "\n",
    "# VampireBat inherits from both mixins\n",
    "class VampireBat(WingedAnimal, Mammal):\n",
    "    def __init__(self, wingspan):\n",
    "        super().__init__(wingspan)\n",
    "\n",
    "    def display_traits(self):\n",
    "        return f\"Wingspan: {self.wingspan}, {self.flap_wings()}, {self.breathe()}, {self.give_birth()}\"\n",
    "\n",
    "# Example Usage:\n",
    "bat = VampireBat(\"1.5 feet\")\n",
    "print(bat.display_traits())\n"
   ]
  },
  {
   "cell_type": "markdown",
   "id": "aa8681ad",
   "metadata": {},
   "source": [
    "**Q&A:** When should we use mixins instead of traditional inheritance?"
   ]
  },
  {
   "cell_type": "markdown",
   "id": "be079702",
   "metadata": {},
   "source": [
    "## Unit Testing for Inheritance\n",
    "---\n",
    "- **Why test inheritance?**\n",
    "- Simple `unittest` example:"
   ]
  },
  {
   "cell_type": "code",
   "execution_count": 13,
   "id": "452e95b8",
   "metadata": {},
   "outputs": [
    {
     "name": "stderr",
     "output_type": "stream",
     "text": [
      "..\n",
      "----------------------------------------------------------------------\n",
      "Ran 2 tests in 0.005s\n",
      "\n",
      "OK\n"
     ]
    }
   ],
   "source": [
    "import unittest\n",
    "\n",
    "# Function to test. These functions are the target of testing.\n",
    "def add(x, y):\n",
    "    return x + y\n",
    "\n",
    "def subtract(x, y):\n",
    "    return x - y\n",
    "\n",
    "# Create a test case class\n",
    "class TestMathOperations(unittest.TestCase):\n",
    "    \n",
    "    def test_add(self):\n",
    "        self.assertEqual(add(2, 3), 5)  # 2 + 3 should be 5\n",
    "        self.assertEqual(add(-1, 1), 0)  # -1 + 1 should be 0\n",
    "        self.assertEqual(add(0, 0), 0)  # 0 + 0 should be 0\n",
    "\n",
    "    def test_subtract(self):\n",
    "        self.assertEqual(subtract(10, 5), 5)  # 10 - 5 should be 5\n",
    "        self.assertEqual(subtract(0, 0), 0)  # 0 - 0 should be 0\n",
    "        self.assertEqual(subtract(5, 10), -5)  # 5 - 10 should be -5\n",
    "\n",
    "# Run tests in Jupyter Notebook\n",
    "if __name__ == '__main__':\n",
    "    unittest.main(argv=[''], exit=False) # runs the test cases\n",
    "\n",
    "#argv=['']: Prevents Jupyter Notebook from interpreting command-line arguments incorrectly.\n",
    "#exit=False: Prevents Jupyter Notebook from stopping execution after running tests.\n"
   ]
  },
  {
   "cell_type": "code",
   "execution_count": null,
   "id": "9c58ed5e",
   "metadata": {},
   "outputs": [],
   "source": [
    "import unittest\n",
    "\n",
    "class Parent:\n",
    "    def greet(self):\n",
    "        return \"Hello\"\n",
    "\n",
    "class Child(Parent):\n",
    "    def greet(self):\n",
    "        return \"Hi\"\n",
    "\n",
    "#Defines a test case class (TestInheritance) that inherits from unittest.TestCase.\n",
    "#The method test_greet() creates an instance of Child and checks if Child().greet() returns \"Hi\".\n",
    "#The test uses self.assertEqual() to compare the expected output \"Hi\" with the actual output.\n",
    "\n",
    "class TestInheritance(unittest.TestCase):\n",
    "    def test_greet(self):\n",
    "        self.assertEqual(Child().greet(), \"Hi\")\n",
    "\n",
    "# Run tests within the notebook\n",
    "unittest.TextTestRunner().run(unittest.TestLoader().loadTestsFromTestCase(TestInheritance))\n"
   ]
  }
 ],
 "metadata": {
  "kernelspec": {
   "display_name": "venv",
   "language": "python",
   "name": "python3"
  },
  "language_info": {
   "codemirror_mode": {
    "name": "ipython",
    "version": 3
   },
   "file_extension": ".py",
   "mimetype": "text/x-python",
   "name": "python",
   "nbconvert_exporter": "python",
   "pygments_lexer": "ipython3",
   "version": "3.13.1"
  }
 },
 "nbformat": 4,
 "nbformat_minor": 5
}
