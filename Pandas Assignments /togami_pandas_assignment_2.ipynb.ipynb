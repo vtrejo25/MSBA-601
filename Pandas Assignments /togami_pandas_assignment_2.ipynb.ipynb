{
 "cells": [
  {
   "cell_type": "markdown",
   "metadata": {},
   "source": [
    "# Pandas Data Analysis Assignment - Custom Data Sets\n",
    "\n",
    "### Name Here: Veronica Trejo\n",
    "### Date Here: 4/8/25\n",
    "\n",
    "## Objective\n",
    "In this assignment, you will work with a real-world dataset of your choosing and continue to grow your skills in data analysis using pandas.\n",
    "\n",
    "Below are some of the packages that you can utilize (pandas being required). These are linked to the documentation for your reference.\n",
    "\n",
    "[Pandas](https://pandas.pydata.org/docs/user_guide/index.html#user-guide)\\\n",
    "[Numpy](https://numpy.org/doc/)\\\n",
    "[Matplotlib](https://matplotlib.org/stable/index.html)\\\n",
    "[seaborn](https://seaborn.pydata.org/index.html)\n"
   ]
  },
  {
   "cell_type": "markdown",
   "metadata": {},
   "source": [
    "## Data Source\n",
    "\n",
    "First of all, please select a dataset for this assignment from online. There are suggested sources in the dataset ipynb file I've provided.\n"
   ]
  },
  {
   "cell_type": "code",
   "execution_count": 22,
   "metadata": {},
   "outputs": [
    {
     "name": "stdout",
     "output_type": "stream",
     "text": [
      "All packages are loaded\n",
      "      tconst  averageRating  numVotes\n",
      "0  tt0000001            5.7      2146\n",
      "1  tt0000002            5.5       292\n",
      "2  tt0000003            6.5      2181\n",
      "3  tt0000004            5.3       188\n",
      "4  tt0000005            6.2      2924\n",
      "5  tt0000006            5.0       210\n",
      "6  tt0000007            5.3       906\n",
      "7  tt0000008            5.4      2292\n",
      "8  tt0000009            5.4       223\n",
      "9  tt0000010            6.8      7923\n"
     ]
    }
   ],
   "source": [
    "# Import packages used. You may have to pip install some of these. \n",
    "import pandas as pd\n",
    "import numpy as np \n",
    "import matplotlib.pyplot as plt\n",
    "\n",
    "print(\"All packages are loaded\")\n",
    "# import the dataset. \n",
    "import pandas as pd \n",
    "\n",
    "# Load the dataset as a dataframe\n",
    "df = pd.read_csv(\"title.ratings.tsv.gz\", sep=\"\\t\", compression=\"gzip\")\n",
    "\n",
    "# Display first 10 rows of your dataset.\n",
    "print(df.head(10))"
   ]
  },
  {
   "cell_type": "markdown",
   "metadata": {},
   "source": [
    "## Data Cleaning & Exploration"
   ]
  },
  {
   "cell_type": "code",
   "execution_count": 26,
   "metadata": {},
   "outputs": [
    {
     "name": "stdout",
     "output_type": "stream",
     "text": [
      "<class 'pandas.core.frame.DataFrame'>\n",
      "RangeIndex: 1555765 entries, 0 to 1555764\n",
      "Data columns (total 3 columns):\n",
      " #   Column         Non-Null Count    Dtype  \n",
      "---  ------         --------------    -----  \n",
      " 0   tconst         1555765 non-null  object \n",
      " 1   averageRating  1555765 non-null  float64\n",
      " 2   numVotes       1555765 non-null  int64  \n",
      "dtypes: float64(1), int64(1), object(1)\n",
      "memory usage: 35.6+ MB\n",
      "None\n",
      "       averageRating      numVotes\n",
      "count   1.555765e+06  1.555765e+06\n",
      "mean    6.950955e+00  1.023750e+03\n",
      "std     1.387790e+00  1.782190e+04\n",
      "min     1.000000e+00  5.000000e+00\n",
      "25%     6.200000e+00  1.100000e+01\n",
      "50%     7.100000e+00  2.600000e+01\n",
      "75%     7.900000e+00  1.000000e+02\n",
      "max     1.000000e+01  3.029407e+06\n",
      "      tconst  averageRating  numVotes\n",
      "0  tt0000001            5.7      2146\n",
      "1  tt0000002            5.5       292\n",
      "2  tt0000003            6.5      2181\n",
      "3  tt0000004            5.3       188\n",
      "4  tt0000005            6.2      2924\n",
      "tconst           0\n",
      "averageRating    0\n",
      "numVotes         0\n",
      "dtype: int64\n"
     ]
    }
   ],
   "source": [
    "# Analyze your data (show in outputs) and clean the data as is appropriate.\n",
    "print (df.info())\n",
    "\n",
    "print(df.describe())\n",
    "\n",
    "print(df.head())\n",
    "\n",
    "print(df.isnull().sum())"
   ]
  },
  {
   "cell_type": "markdown",
   "metadata": {},
   "source": [
    "I want to try and filter out any of the titles or 'tconst' that have LOW rating"
   ]
  },
  {
   "cell_type": "code",
   "execution_count": 31,
   "metadata": {},
   "outputs": [
    {
     "name": "stdout",
     "output_type": "stream",
     "text": [
      "       averageRating      numVotes\n",
      "count   95789.000000  9.578900e+04\n",
      "mean        6.965807  1.535693e+04\n",
      "std         1.348823  7.028105e+04\n",
      "min         1.000000  1.000000e+03\n",
      "25%         6.200000  1.499000e+03\n",
      "50%         7.100000  2.587000e+03\n",
      "75%         7.900000  5.964000e+03\n",
      "max        10.000000  3.029407e+06\n",
      "<class 'pandas.core.frame.DataFrame'>\n",
      "RangeIndex: 1555765 entries, 0 to 1555764\n",
      "Data columns (total 3 columns):\n",
      " #   Column         Non-Null Count    Dtype  \n",
      "---  ------         --------------    -----  \n",
      " 0   tconst         1555765 non-null  object \n",
      " 1   averageRating  1555765 non-null  float64\n",
      " 2   numVotes       1555765 non-null  int64  \n",
      "dtypes: float64(1), int64(1), object(1)\n",
      "memory usage: 35.6+ MB\n"
     ]
    },
    {
     "data": {
      "text/plain": [
       "tconst           0\n",
       "averageRating    0\n",
       "numVotes         0\n",
       "dtype: int64"
      ]
     },
     "execution_count": 31,
     "metadata": {},
     "output_type": "execute_result"
    }
   ],
   "source": [
    "df_cleaned = df[df[\"numVotes\"] >= 1000]\n",
    "\n",
    "print(df_cleaned.describe())\n",
    "\n",
    "df.info()\n",
    "\n",
    "df.describe()\n",
    "\n",
    "df.isnull().sum()"
   ]
  },
  {
   "cell_type": "code",
   "execution_count": 9,
   "metadata": {},
   "outputs": [],
   "source": [
    "# Tell me about the data after you've cleaned it up. Show what data types are in the dataset, also show how many rows and columns are in the data set. "
   ]
  },
  {
   "cell_type": "code",
   "execution_count": 30,
   "metadata": {},
   "outputs": [
    {
     "name": "stdout",
     "output_type": "stream",
     "text": [
      "tconst            object\n",
      "averageRating    float64\n",
      "numVotes           int64\n",
      "dtype: object\n",
      "Number of rows: 95789\n",
      "Number of columns: 3\n"
     ]
    }
   ],
   "source": [
    "print(df_cleaned.dtypes)\n",
    "\n",
    "print(\"Number of rows:\", df_cleaned.shape[0])\n",
    "print(\"Number of columns:\", df_cleaned.shape[1])"
   ]
  },
  {
   "cell_type": "markdown",
   "metadata": {},
   "source": [
    "## Data Manipulation"
   ]
  },
  {
   "cell_type": "code",
   "execution_count": 10,
   "metadata": {},
   "outputs": [],
   "source": [
    "# Add at least two additional features to your data (additional calculated columns) to be used in your analysis."
   ]
  },
  {
   "cell_type": "markdown",
   "metadata": {},
   "source": [
    "First I want to try and add an average rating to the dataset. Since I chose to use IMDb for their show/movie ratings, I thought it would be fun to rank them on low, medium, high. Being a bit of a movie freak myself, I knew I wanted my dataset to be a bit easier and something I could go back to whenever I need something to watch and rot a bit. I also wanted to add on a popularity rating to give a bit of depth when choosing movies. If there is a movie that is \"not the vibe\" but has a \"high\" rating, then maybe it is something to keep in the back pocket when you want a background movie to do chores to. It also allows for movies that are \"popular\" and \"low\" rating to be the center of conversations among friends, or even your own internal dialogue."
   ]
  },
  {
   "cell_type": "code",
   "execution_count": 41,
   "metadata": {},
   "outputs": [
    {
     "name": "stdout",
     "output_type": "stream",
     "text": [
      "       tconst  averageRating ratingCategory  numVotes  voteCategory\n",
      "0   tt0000001            5.7            Low      2146  Not The Vibe\n",
      "2   tt0000003            6.5         Medium      2181  Not The Vibe\n",
      "4   tt0000005            6.2         Medium      2924  Not The Vibe\n",
      "7   tt0000008            5.4            Low      2292  Not The Vibe\n",
      "9   tt0000010            6.8         Medium      7923  Not The Vibe\n",
      "11  tt0000012            7.4         Medium     13447       Popular\n",
      "12  tt0000013            5.7            Low      2064  Not The Vibe\n",
      "13  tt0000014            7.1         Medium      6138  Not The Vibe\n",
      "14  tt0000015            6.1         Medium      1272  Not The Vibe\n",
      "15  tt0000016            5.9            Low      1656  Not The Vibe\n"
     ]
    }
   ],
   "source": [
    "df_cleaned = df[df[\"numVotes\"] >1000].copy()\n",
    "\n",
    "def categorize_rating(rating):\n",
    "    if rating >=8:\n",
    "        return \"High\"\n",
    "    elif rating >=6:\n",
    "        return \"Medium\"\n",
    "    else:\n",
    "        return \"Low\"\n",
    "    \n",
    "df_cleaned[\"ratingCategory\"] = df_cleaned[\"averageRating\"].apply(categorize_rating)\n",
    "\n",
    "def categorize_votes(votes):\n",
    "    if votes >100000:\n",
    "        return \"Super Popular\"\n",
    "    elif votes >=10000:\n",
    "        return \"Popular\"\n",
    "    else:\n",
    "        return \"Not The Vibe\"\n",
    "    \n",
    "df_cleaned[\"voteCategory\"] = df_cleaned[\"numVotes\"].apply(categorize_votes)\n",
    "\n",
    "print(df_cleaned[[\"tconst\", \"averageRating\", \"ratingCategory\", \"numVotes\", \"voteCategory\"]].head(10))\n"
   ]
  },
  {
   "cell_type": "markdown",
   "metadata": {},
   "source": [
    "## Data Analysis"
   ]
  },
  {
   "cell_type": "code",
   "execution_count": 11,
   "metadata": {},
   "outputs": [],
   "source": [
    "# Perform your analysis here. Your analysis should thoughtful, and provide at least two insights that are not obvious when looking at the dataframe. "
   ]
  },
  {
   "cell_type": "markdown",
   "metadata": {},
   "source": [
    "For the first part of my analysis, I feel confident that my code is working well enough to explore this dataset. I wanted to start by looking at whether popular movies tend to have higher ratings. I used the average rating from my cleaned dataset (df_cleaned) to compare the vote categories I created.\n",
    "From the code below, I found that the “Popular” and “Not The Vibe” categories are closer in rating than I expected. While “Super Popular” and “Popular” appear to have similar average ratings, there needs to be some consideration for the magnitude of people who voted, which might skew the perception of quality. I’m now really curious to dig into the individual movies and shows within these categories to see what they are, and whether I would rate them similarly or if my taste totally breaks from the masses "
   ]
  },
  {
   "cell_type": "code",
   "execution_count": 42,
   "metadata": {},
   "outputs": [
    {
     "name": "stdout",
     "output_type": "stream",
     "text": [
      "voteCategory\n",
      "Not The Vibe     6.972906\n",
      "Popular          6.883761\n",
      "Super Popular    7.147459\n",
      "Name: averageRating, dtype: float64\n"
     ]
    }
   ],
   "source": [
    "avg_ratings_by_popularity = df_cleaned.groupby(\"voteCategory\")[\"averageRating\"].mean()\n",
    "print(avg_ratings_by_popularity)\n"
   ]
  },
  {
   "cell_type": "markdown",
   "metadata": {},
   "source": [
    "Next, I wanted to look at the movies and shows that were rated as “Low.” I was curious to see how many votes they actually received to earn such a low rating. From the code below, there is a HUGE discrepancy in the number of votes across the three rating categories. What stood out to me is that the average vote count for “Low” rated titles is almost half that of “Medium” rated ones. It makes me wonder if lower ratings are more common in lesser-known titles, or if people just don’t bother voting when they don’t like something. Either way, the contrast is way more dramatic than I expected "
   ]
  },
  {
   "cell_type": "code",
   "execution_count": 43,
   "metadata": {},
   "outputs": [
    {
     "name": "stdout",
     "output_type": "stream",
     "text": [
      "ratingCategory\n",
      "High      17627.392039\n",
      "Low        8678.515098\n",
      "Medium    16764.632976\n",
      "Name: numVotes, dtype: float64\n"
     ]
    }
   ],
   "source": [
    "vote_counts_by_rating = df_cleaned.groupby(\"ratingCategory\")[\"numVotes\"].mean()\n",
    "print(vote_counts_by_rating)\n"
   ]
  },
  {
   "cell_type": "markdown",
   "metadata": {},
   "source": [
    "## Data Visualization"
   ]
  },
  {
   "cell_type": "code",
   "execution_count": 46,
   "metadata": {},
   "outputs": [
    {
     "data": {
      "image/png": "[encoded data removed]",
      "text/plain": [
       "<Figure size 640x480 with 1 Axes>"
      ]
     },
     "metadata": {},
     "output_type": "display_data"
    }
   ],
   "source": [
    "# Bolster your analysis with at least two visualizations.\n",
    "df_cleaned.groupby(\"voteCategory\")[\"averageRating\"].mean().plot(\n",
    "    kind=\"bar\", color=\"#FF69B4\", edgecolor=\"black\"\n",
    ")\n",
    "\n",
    "plt.title(\"Average Rating by Popularity\")\n",
    "plt.xlabel(\"Vote Category\")\n",
    "plt.ylabel(\"Average Rating\")\n",
    "plt.tight_layout()\n",
    "plt.show()\n",
    "\n"
   ]
  },
  {
   "cell_type": "code",
   "execution_count": 47,
   "metadata": {},
   "outputs": [
    {
     "data": {
      "image/png": "[encoded data removed]",
      "text/plain": [
       "<Figure size 640x480 with 1 Axes>"
      ]
     },
     "metadata": {},
     "output_type": "display_data"
    }
   ],
   "source": [
    "df_cleaned.groupby(\"ratingCategory\")[\"numVotes\"].mean().plot(\n",
    "    kind=\"bar\", color=\"#FF69B4\", edgecolor=\"black\"\n",
    ")\n",
    "\n",
    "plt.title(\"Average Number of Votes by Rating\")\n",
    "plt.xlabel(\"Rating Category\")\n",
    "plt.ylabel(\"Number of Votes\")\n",
    "plt.tight_layout()\n",
    "plt.show()\n"
   ]
  },
  {
   "cell_type": "markdown",
   "metadata": {},
   "source": [
    "To start off the analysis for my two visuals, I wanted to add a bit more of my personality to them, so I chose to find the exact color codes to get the perfect pink. In the first graph, I wanted to show the average IMDb rating across the different vote categories. Much like the analysis above, the “Super Popular” and “Popular” categories are close in rating, and that can now be seen visually. We can make the assumption that how often a movie or show is watched does not always mean it is more loved. For the second graph, I chose to focus more on how many votes each rating category tends to receive. The “High” and “Medium” rated titles get more attention than the “Low” rated ones, which is to be expected. This could be because people are more likely to rate things they enjoy and want to give more exposure to. It also gets me thinking that lower-rated movies are either skipped over because of the rating or simply because people just do not like them."
   ]
  },
  {
   "cell_type": "markdown",
   "metadata": {},
   "source": [
    "## Analysis\n",
    "\n",
    "In the markdown block below, give me a written analysis of your code blocks above. This is the area to provide written responses to accompany your work in the Data Analysis and Data Visualization coding you did above. "
   ]
  },
  {
   "cell_type": "markdown",
   "metadata": {},
   "source": [
    "## Grading Rubric\n",
    "\n",
    "Grading overall will be on a 100-point scale. Everyone starts with 100, the final score will be determined based on point deductions related to the overall quality of your code and analysis. The expectation for code is that comments will be included as appropriate, the code is easy to read, efficient, and performs the tasks asked of you. Grading will be more lenient if you attempt more complex code or combinations of code (assuming it makes sense to do so). The analysis will be scored based on proper grammar (spelling, format, composition), and how practical and thoughtful it is. If you have any questions, think about the \"cold reader\" rule, \"Would someone with basic knowledge of this subject matter be able to read through my work in one shot without a lot of questions?\"\n",
    "\n",
    "Lastly, while collaboration on theory and methods is encouraged, DO NOT share your code line for line with your classmates. Blatant and obvious copying of any parts of your assignment will lead to deductions. This is the time to really develop your individual and analysis styles. \n",
    "\n",
    "\n"
   ]
  }
 ],
 "metadata": {
  "kernelspec": {
   "display_name": "venv",
   "language": "python",
   "name": "python3"
  },
  "language_info": {
   "codemirror_mode": {
    "name": "ipython",
    "version": 3
   },
   "file_extension": ".py",
   "mimetype": "text/x-python",
   "name": "python",
   "nbconvert_exporter": "python",
   "pygments_lexer": "ipython3",
   "version": "3.13.1"
  }
 },
 "nbformat": 4,
 "nbformat_minor": 4
}
