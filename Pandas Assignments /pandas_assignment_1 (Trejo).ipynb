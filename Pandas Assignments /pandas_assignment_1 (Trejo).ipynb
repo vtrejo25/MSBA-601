{
 "cells": [
  {
   "cell_type": "markdown",
   "metadata": {},
   "source": [
    "# Pandas Data Analysis Assignment\n",
    "\n",
    "### Name Here: Veronica Trejo\n",
    "### Date Here: 4/1/25\n",
    "\n",
    "## Objective\n",
    "In this assignment, you will work with a real-world dataset to practice data import, cleaning, manipulation, and exploratory data analysis (EDA) using pandas.\n",
    "\n",
    "Hint, for a lot of this, you'll also be finding yourself referencing the documents for these packages. \n",
    "\n",
    "Second Hint, these are the packages you'll be installing and importing.\n",
    "\n",
    "[Pandas](https://pandas.pydata.org/docs/user_guide/index.html#user-guide)\\\n",
    "[Numpy](https://numpy.org/doc/)\\\n",
    "[Matplotlib](https://matplotlib.org/stable/index.html)\\\n",
    "[seaborn](https://seaborn.pydata.org/index.html)\n"
   ]
  },
  {
   "cell_type": "code",
   "execution_count": 12,
   "metadata": {},
   "outputs": [
    {
     "name": "stdout",
     "output_type": "stream",
     "text": [
      "   Order Date   Ship Date Region Customer Name Product Name         Category  \\\n",
      "0  2023-05-11  2023-05-12  South   Customer_36   Product_34       Technology   \n",
      "1  2023-11-11  2023-11-16   West   Customer_68   Product_11  Office Supplies   \n",
      "2  2021-05-02  2021-05-11   East   Customer_78   Product_45       Technology   \n",
      "3  2022-04-12  2022-04-18   East   Customer_41   Product_47        Furniture   \n",
      "4  2021-11-27  2021-12-04    NaN   Customer_89   Product_12  Office Supplies   \n",
      "5  2021-03-29  2021-04-03   West   Customer_62   Product_21  Office Supplies   \n",
      "6  2023-05-22  2023-05-28   East   Customer_10   Product_11       Technology   \n",
      "7  2021-05-11  2021-05-16  South   Customer_21   Product_39  Office Supplies   \n",
      "8  2023-02-09  2023-02-18   East   Customer_36   Product_28        Furniture   \n",
      "9  2021-12-10  2021-12-16   West   Customer_12    Product_5        Furniture   \n",
      "\n",
      "     Sales  Profit   Shipping Mode  \n",
      "0   502.64   91.16        Same Day  \n",
      "1   134.43   30.17  Standard Class  \n",
      "2   923.29  253.97             NaN  \n",
      "3  1468.14  364.17    Second Class  \n",
      "4  1217.40     NaN        Same Day  \n",
      "5  1349.01  296.66     First Class  \n",
      "6   171.49   49.13        Same Day  \n",
      "7  1903.47  235.95  Standard Class  \n",
      "8  1678.60   84.40     First Class  \n",
      "9  1612.13  190.21        Same Day  \n"
     ]
    }
   ],
   "source": [
    "# Import packages used. You may have to pip install some of these. \n",
    "import pandas as pd\n",
    "# import the data from the superstore_sales.csv file. \n",
    "\n",
    "df = pd.read_csv('pandas1.csv')\n",
    "# Load the dataset as a dataframe\n",
    "df\n",
    "# Display first 10 rows of your dataset.\n",
    "print(df.head(10))"
   ]
  },
  {
   "cell_type": "markdown",
   "metadata": {},
   "source": [
    "## Data Cleaning"
   ]
  },
  {
   "cell_type": "code",
   "execution_count": 11,
   "metadata": {},
   "outputs": [],
   "source": [
    "# Check for null values in your dataframe. In a comment, tell me where, and how many (if any) null values there are. \n"
   ]
  },
  {
   "cell_type": "code",
   "execution_count": 12,
   "metadata": {},
   "outputs": [],
   "source": [
    "# for columns with missing null values, fill the na values with values that make sense (i.e., mean/mode values, etc.)\n"
   ]
  },
  {
   "cell_type": "markdown",
   "metadata": {},
   "source": [
    "## Data Manipulation"
   ]
  },
  {
   "cell_type": "code",
   "execution_count": 13,
   "metadata": {},
   "outputs": [],
   "source": [
    "# Convert Order Date to datetime format\n",
    "\n",
    "# Create new column for Profit Margin\n",
    "\n",
    "# Extract year and month\n"
   ]
  },
  {
   "cell_type": "markdown",
   "metadata": {},
   "source": [
    "## Data Analysis"
   ]
  },
  {
   "cell_type": "code",
   "execution_count": 14,
   "metadata": {},
   "outputs": [],
   "source": [
    "# Find top 5 most profitable products\n"
   ]
  },
  {
   "cell_type": "code",
   "execution_count": 15,
   "metadata": {},
   "outputs": [],
   "source": [
    "# Find total sales and profit per region\n"
   ]
  },
  {
   "cell_type": "markdown",
   "metadata": {},
   "source": [
    "## Data Visualization"
   ]
  },
  {
   "cell_type": "code",
   "execution_count": 16,
   "metadata": {},
   "outputs": [],
   "source": [
    "# make a bar chart of total Sales by Region\n"
   ]
  },
  {
   "cell_type": "code",
   "execution_count": 17,
   "metadata": {},
   "outputs": [],
   "source": [
    "# Make a scatter plot of Sales vs Profit\n"
   ]
  },
  {
   "cell_type": "markdown",
   "metadata": {},
   "source": [
    "## Analysis\n",
    "\n",
    "In the markdown block below, give me a written analysis of your code blocks above. What is the data telling you? Are there any issues you can see with the processes that create the data? What projections, if any, can we make with our analysis to add value?"
   ]
  },
  {
   "cell_type": "markdown",
   "metadata": {},
   "source": [
    "[Analysis goes here]"
   ]
  },
  {
   "cell_type": "markdown",
   "metadata": {},
   "source": [
    "## Grading Rubric\n",
    "\n",
    "Grading overall will be on a 100-point scale. Everyone starts with 100, the final score will be determined based on point deductions related to the overall quality of your code and analysis. The expectation for code is that comments will be included as appropriate, the code is easy to read, efficient, and performs the tasks asked of you. Grading will be more lenient if you attempt more complex code or combinations of code (assuming it makes sense to do so). The analysis will be scored based on proper grammar (spelling, format, composition), and how practical and thoughtful it is. If you have any questions, think about the \"cold reader\" rule, \"Would someone with basic knowledge of this subject matter be able to read through my work in one shot without a lot of questions?\"\n",
    "\n",
    "Lastly, while collaboration on theory and methods is encouraged, DO NOT share your code line for line with your classmates. Blatant and obvious copying of any parts of your assignment will lead to deductions. This is the time to really develop your individual and analysis styles. \n",
    "\n",
    "\n"
   ]
  }
 ],
 "metadata": {
  "kernelspec": {
   "display_name": "venv",
   "language": "python",
   "name": "python3"
  },
  "language_info": {
   "codemirror_mode": {
    "name": "ipython",
    "version": 3
   },
   "file_extension": ".py",
   "mimetype": "text/x-python",
   "name": "python",
   "nbconvert_exporter": "python",
   "pygments_lexer": "ipython3",
   "version": "3.13.1"
  }
 },
 "nbformat": 4,
 "nbformat_minor": 4
}
