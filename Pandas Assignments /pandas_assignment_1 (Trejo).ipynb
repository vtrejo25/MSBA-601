{
 "cells": [
  {
   "cell_type": "markdown",
   "metadata": {},
   "source": [
    "# Pandas Data Analysis Assignment\n",
    "\n",
    "### Name Here: Veronica Trejo\n",
    "### Date Here: 4/1/25\n",
    "\n",
    "## Objective\n",
    "In this assignment, you will work with a real-world dataset to practice data import, cleaning, manipulation, and exploratory data analysis (EDA) using pandas.\n",
    "\n",
    "Hint, for a lot of this, you'll also be finding yourself referencing the documents for these packages. \n",
    "\n",
    "Second Hint, these are the packages you'll be installing and importing.\n",
    "\n",
    "[Pandas](https://pandas.pydata.org/docs/user_guide/index.html#user-guide)\\\n",
    "[Numpy](https://numpy.org/doc/)\\\n",
    "[Matplotlib](https://matplotlib.org/stable/index.html)\\\n",
    "[seaborn](https://seaborn.pydata.org/index.html)\n"
   ]
  },
  {
   "cell_type": "code",
   "execution_count": 12,
   "metadata": {},
   "outputs": [
    {
     "name": "stdout",
     "output_type": "stream",
     "text": [
      "   Order Date   Ship Date Region Customer Name Product Name         Category  \\\n",
      "0  2023-05-11  2023-05-12  South   Customer_36   Product_34       Technology   \n",
      "1  2023-11-11  2023-11-16   West   Customer_68   Product_11  Office Supplies   \n",
      "2  2021-05-02  2021-05-11   East   Customer_78   Product_45       Technology   \n",
      "3  2022-04-12  2022-04-18   East   Customer_41   Product_47        Furniture   \n",
      "4  2021-11-27  2021-12-04    NaN   Customer_89   Product_12  Office Supplies   \n",
      "5  2021-03-29  2021-04-03   West   Customer_62   Product_21  Office Supplies   \n",
      "6  2023-05-22  2023-05-28   East   Customer_10   Product_11       Technology   \n",
      "7  2021-05-11  2021-05-16  South   Customer_21   Product_39  Office Supplies   \n",
      "8  2023-02-09  2023-02-18   East   Customer_36   Product_28        Furniture   \n",
      "9  2021-12-10  2021-12-16   West   Customer_12    Product_5        Furniture   \n",
      "\n",
      "     Sales  Profit   Shipping Mode  \n",
      "0   502.64   91.16        Same Day  \n",
      "1   134.43   30.17  Standard Class  \n",
      "2   923.29  253.97             NaN  \n",
      "3  1468.14  364.17    Second Class  \n",
      "4  1217.40     NaN        Same Day  \n",
      "5  1349.01  296.66     First Class  \n",
      "6   171.49   49.13        Same Day  \n",
      "7  1903.47  235.95  Standard Class  \n",
      "8  1678.60   84.40     First Class  \n",
      "9  1612.13  190.21        Same Day  \n"
     ]
    }
   ],
   "source": [
    "# Import packages used. You may have to pip install some of these. \n",
    "import pandas as pd\n",
    "\n",
    "# import the data from the superstore_sales.csv file. \n",
    "df = pd.read_csv('pandas1.csv')\n",
    "\n",
    "# Load the dataset as a dataframe\n",
    "df\n",
    "\n",
    "# Display first 10 rows of your dataset.\n",
    "print(df.head(10))"
   ]
  },
  {
   "cell_type": "markdown",
   "metadata": {},
   "source": [
    "## Data Cleaning"
   ]
  },
  {
   "cell_type": "code",
   "execution_count": 8,
   "metadata": {},
   "outputs": [
    {
     "name": "stdout",
     "output_type": "stream",
     "text": [
      "<class 'pandas.core.frame.DataFrame'>\n",
      "RangeIndex: 1000 entries, 0 to 999\n",
      "Data columns (total 9 columns):\n",
      " #   Column         Non-Null Count  Dtype  \n",
      "---  ------         --------------  -----  \n",
      " 0   Order Date     1000 non-null   object \n",
      " 1   Ship Date      1000 non-null   object \n",
      " 2   Region         950 non-null    object \n",
      " 3   Customer Name  1000 non-null   object \n",
      " 4   Product Name   1000 non-null   object \n",
      " 5   Category       1000 non-null   object \n",
      " 6   Sales          1000 non-null   float64\n",
      " 7   Profit         950 non-null    float64\n",
      " 8   Shipping Mode  950 non-null    object \n",
      "dtypes: float64(2), object(7)\n",
      "memory usage: 70.4+ KB\n"
     ]
    }
   ],
   "source": [
    "# Check for null values in your dataframe. In a comment, tell me where, and how many (if any) null values there are. \n",
    "import pandas as pd \n",
    "df = pd.read_csv('pandas1.csv')\n",
    "df.info()"
   ]
  },
  {
   "cell_type": "markdown",
   "metadata": {},
   "source": [
    "After looking at the data set I found one null value in row 2. "
   ]
  },
  {
   "cell_type": "code",
   "execution_count": 11,
   "metadata": {},
   "outputs": [
    {
     "name": "stdout",
     "output_type": "stream",
     "text": [
      "Filling missing values (NaN) with Same Day:\n",
      "     Order Date   Ship Date    Region Customer Name Product Name  \\\n",
      "0    2023-05-11  2023-05-12     South   Customer_36   Product_34   \n",
      "1    2023-11-11  2023-11-16      West   Customer_68   Product_11   \n",
      "2    2021-05-02  2021-05-11      East   Customer_78   Product_45   \n",
      "3    2022-04-12  2022-04-18      East   Customer_41   Product_47   \n",
      "4    2021-11-27  2021-12-04  Same Day   Customer_89   Product_12   \n",
      "..          ...         ...       ...           ...          ...   \n",
      "995  2021-05-08  2021-05-17   Central   Customer_17   Product_47   \n",
      "996  2021-02-11  2021-02-13     South   Customer_36   Product_33   \n",
      "997  2021-02-10  2021-02-12      West   Customer_19   Product_46   \n",
      "998  2023-07-23  2023-07-26      East   Customer_64    Product_5   \n",
      "999  2021-02-03  2021-02-04     South   Customer_91   Product_43   \n",
      "\n",
      "            Category    Sales    Profit   Shipping Mode  \n",
      "0         Technology   502.64     91.16        Same Day  \n",
      "1    Office Supplies   134.43     30.17  Standard Class  \n",
      "2         Technology   923.29    253.97        Same Day  \n",
      "3          Furniture  1468.14    364.17    Second Class  \n",
      "4    Office Supplies  1217.40  Same Day        Same Day  \n",
      "..               ...      ...       ...             ...  \n",
      "995  Office Supplies  1835.36    300.84     First Class  \n",
      "996  Office Supplies   819.12    139.66        Same Day  \n",
      "997       Technology   295.13     70.67    Second Class  \n",
      "998        Furniture  1432.29    172.56    Second Class  \n",
      "999  Office Supplies   593.77      76.9  Standard Class  \n",
      "\n",
      "[1000 rows x 9 columns]\n"
     ]
    }
   ],
   "source": [
    "# for columns with missing null values, fill the na values with values that make sense (i.e., mean/mode values, etc.)\n",
    "print(\"Filling missing values (NaN) with Same Day:\")\n",
    "df_filled = df.fillna(\"Same Day\")\n",
    "print(df_filled)"
   ]
  },
  {
   "cell_type": "markdown",
   "metadata": {},
   "source": [
    "## Data Manipulation"
   ]
  },
  {
   "cell_type": "code",
   "execution_count": 34,
   "metadata": {},
   "outputs": [
    {
     "name": "stdout",
     "output_type": "stream",
     "text": [
      "  Order Date\n",
      "0 2023-05-11\n",
      "1 2023-11-11\n",
      "2 2021-05-02\n",
      "3 2022-04-12\n",
      "4 2021-11-27\n",
      "5 2021-03-29\n",
      "6 2023-05-22\n",
      "7 2021-05-11\n",
      "8 2023-02-09\n",
      "9 2021-12-10\n",
      "  Order Date    Sales  Profit  Profit Margin\n",
      "0 2023-05-11   502.64   91.16      18.136241\n",
      "1 2023-11-11   134.43   30.17      22.442907\n",
      "2 2021-05-02   923.29  253.97      27.507067\n",
      "3 2022-04-12  1468.14  364.17      24.804855\n",
      "4 2021-11-27  1217.40     NaN            NaN\n",
      "5 2021-03-29  1349.01  296.66      21.990942\n",
      "6 2023-05-22   171.49   49.13      28.648901\n",
      "7 2021-05-11  1903.47  235.95      12.395782\n",
      "8 2023-02-09  1678.60   84.40       5.028000\n",
      "9 2021-12-10  1612.13  190.21      11.798676\n"
     ]
    }
   ],
   "source": [
    "# Convert Order Date to datetime format\n",
    "import pandas as pd\n",
    "\n",
    "\n",
    "df = pd.DataFrame(data)\n",
    "\n",
    "df['Order Date'] = pd.to_datetime(df['Order Date'])\n",
    "\n",
    "print(df[['Order Date']])\n",
    "\n",
    "\n",
    "# Create new column for Profit Margin\n",
    "df = pd.DataFrame(data)\n",
    "\n",
    "df['Order Date'] = pd.to_datetime(df['Order Date'])\n",
    "\n",
    "df['Profit Margin'] = (df['Profit'] / df['Sales']) * 100\n",
    "\n",
    "print(df[['Order Date', 'Sales', 'Profit', 'Profit Margin']])\n",
    "\n"
   ]
  },
  {
   "cell_type": "markdown",
   "metadata": {},
   "source": [
    "## Data Analysis"
   ]
  },
  {
   "cell_type": "code",
   "execution_count": 16,
   "metadata": {},
   "outputs": [
    {
     "name": "stdout",
     "output_type": "stream",
     "text": [
      "Product Name\n",
      "Product_47    364.17\n",
      "Product_21    296.66\n",
      "Product_45    253.97\n",
      "Product_39    235.95\n",
      "Product_5     190.21\n",
      "Name: Profit, dtype: float64\n"
     ]
    }
   ],
   "source": [
    "# Find top 5 most profitable products\n",
    "df = pd.DataFrame(data)\n",
    "\n",
    "df['Order Date'] = pd.to_datetime(df['Order Date'])\n",
    "\n",
    "top_products = df.groupby('Product Name')['Profit'].sum()\n",
    "\n",
    "top_5_products = top_products.sort_values(ascending=False).head(5)\n",
    "\n",
    "print(top_5_products)"
   ]
  },
  {
   "cell_type": "code",
   "execution_count": 17,
   "metadata": {},
   "outputs": [
    {
     "name": "stdout",
     "output_type": "stream",
     "text": [
      "          Sales  Profit\n",
      "Region                 \n",
      "East    4241.52  751.67\n",
      "NaN     1217.40    0.00\n",
      "South   2406.11  327.11\n",
      "West    3095.57  517.04\n"
     ]
    }
   ],
   "source": [
    "# Find total sales and profit per region\n",
    "df = pd.DataFrame(data)\n",
    "\n",
    "df['Order Date'] = pd.to_datetime(df['Order Date'])\n",
    "\n",
    "region_sales_profit = df.groupby('Region')[['Sales', 'Profit']].sum()\n",
    "\n",
    "print(region_sales_profit)"
   ]
  },
  {
   "cell_type": "markdown",
   "metadata": {},
   "source": [
    "## Data Visualization"
   ]
  },
  {
   "cell_type": "code",
   "execution_count": 42,
   "metadata": {},
   "outputs": [
    {
     "data": {
      "image/png": "[encoded data removed]",
      "text/plain": [
       "<Figure size 640x480 with 1 Axes>"
      ]
     },
     "metadata": {},
     "output_type": "display_data"
    }
   ],
   "source": [
    "# make a bar chart of total Sales by Region\n",
    "import pandas as pd\n",
    "import matplotlib.pyplot as plt\n",
    "df.groupby('Region')['Sales'].sum().plot(kind='bar', color='skyblue', edgecolor='black')\n",
    "plt.title('Total Sales by Region')\n",
    "plt.xlabel('Region')\n",
    "plt.ylabel('Total Sales ($)')\n",
    "plt.show()"
   ]
  },
  {
   "cell_type": "code",
   "execution_count": 26,
   "metadata": {},
   "outputs": [
    {
     "name": "stdout",
     "output_type": "stream",
     "text": [
      "Creating a scatter plot to visualize the relationship between 'Sales' and 'Profit':\n"
     ]
    },
    {
     "data": {
      "image/png": "[encoded data removed]",
      "text/plain": [
       "<Figure size 640x480 with 1 Axes>"
      ]
     },
     "metadata": {},
     "output_type": "display_data"
    }
   ],
   "source": [
    "# Make a scatter plot of Sales vs Profit\n",
    "import matplotlib.pyplot as plt\n",
    "print(\"Creating a scatter plot to visualize the relationship between 'Sales' and 'Profit':\")\n",
    "df.plot(kind='scatter', x='Sales', y='Profit')\n",
    "plt.title('Sales vs Profit')\n",
    "plt.xlabel('Sales')\n",
    "plt.ylabel('Profit')\n",
    "plt.show()"
   ]
  },
  {
   "cell_type": "markdown",
   "metadata": {},
   "source": [
    "## Analysis\n",
    "\n",
    "In the markdown block below, give me a written analysis of your code blocks above. What is the data telling you? Are there any issues you can see with the processes that create the data? What projections, if any, can we make with our analysis to add value?"
   ]
  },
  {
   "cell_type": "markdown",
   "metadata": {},
   "source": [
    "As this is the first assignment without the guidance on whether or not the coding is correct I found myself very frustrated. The first few objectives of installing, importing, loading and displaying went very well. The importation of pandas went smoothly, where I first struggled was loading the cdv file. I needed to create a file first and rename it to correspond with the cdv file I was trying to import. Then I chose to load the filing by using the ‘df’ we learned in class and then printed the first 10 rows by coding print and then specifying to keep the head of the file and only show 10 rows, in those case 0-9, but if I wanted to show 10 rows that include row 10 I would have put 11 in the (). Moving onto data cleaning, I could not tell if the instructions asked me to code into my assignment to count the null values or to just count them with my eyes. I chose to just code in the imported csv file and count with my eyes. I found one null value in row 2 for their “Shipping Mode”. When I was asked to fill the null value with the right phrase I went back to the original data set and looked at their order and ship date. With that I asked my code to print out exactly what I wanted row 2 to say based off of the dates. I filled the null value and then it was time to convert the order date into a new format. Here is where I started to get lost in the data itself. I started by importing pandas and typing out the new formatting, for Order Date conversion to date time. After doing that I have notices that more of their order dates were in 2021 and 2023 with very little orders conducted in 2022. However I got stuck with another null value that confused me and I found later skewed the data. Next came the data analysis, asking us to print the top 5 products, the first product_47 was from the East and the second highest product_21 from the South. Aside from that, the data is also showing that there is a big gap between product 47 and 21, whereas between 39, 45, and 21 the gaps are less significant. The question prompted is, what category do they fall under and why is the East region purchasing those products compared to the other 3 regions? It is in finding the total sales and profit per region where the null values have skewed my data, although I hope not in a significant way. Aside for the null values, East is the the highest rank with a large gap between the other regions. I cannot say for certainty if it my lack of code or if it is the data itself, but there is no mention or overlap of north regions. Then came time for the data visualization, taking from the notes the data shows the same result, still with that skewing of the null value which I could not figure out. Something interesting to note is in the bar graph the second leading sales is the west, whereas earlier in the data set we had seen the south lead 2nd place. Then it is time to look at the scatterplot, the sales do not correspond to the amount of profits, with the profits highest number at 350 while the sales were over 1700. \n"
   ]
  },
  {
   "cell_type": "markdown",
   "metadata": {},
   "source": [
    "## Grading Rubric\n",
    "\n",
    "Grading overall will be on a 100-point scale. Everyone starts with 100, the final score will be determined based on point deductions related to the overall quality of your code and analysis. The expectation for code is that comments will be included as appropriate, the code is easy to read, efficient, and performs the tasks asked of you. Grading will be more lenient if you attempt more complex code or combinations of code (assuming it makes sense to do so). The analysis will be scored based on proper grammar (spelling, format, composition), and how practical and thoughtful it is. If you have any questions, think about the \"cold reader\" rule, \"Would someone with basic knowledge of this subject matter be able to read through my work in one shot without a lot of questions?\"\n",
    "\n",
    "Lastly, while collaboration on theory and methods is encouraged, DO NOT share your code line for line with your classmates. Blatant and obvious copying of any parts of your assignment will lead to deductions. This is the time to really develop your individual and analysis styles. \n",
    "\n",
    "\n"
   ]
  }
 ],
 "metadata": {
  "kernelspec": {
   "display_name": "venv",
   "language": "python",
   "name": "python3"
  },
  "language_info": {
   "codemirror_mode": {
    "name": "ipython",
    "version": 3
   },
   "file_extension": ".py",
   "mimetype": "text/x-python",
   "name": "python",
   "nbconvert_exporter": "python",
   "pygments_lexer": "ipython3",
   "version": "3.13.1"
  }
 },
 "nbformat": 4,
 "nbformat_minor": 4
}
