{
 "cells": [
  {
   "cell_type": "markdown",
   "id": "4d2e3070",
   "metadata": {},
   "source": [
    "# Python Dictionaries Lecture Notes\n",
    "\n",
    "This notebook covers the essentials of Python dictionaries, including their creation, access, modification, and various methods available."
   ]
  },
  {
   "cell_type": "markdown",
   "id": "7954d646",
   "metadata": {},
   "source": [
    "## 1. Introduction to Python Dictionaries\n",
    "Dictionaries are used to store data values in key:value pairs. A dictionary is a collection which is:\n",
    "- Ordered (since Python 3.7)\n",
    "- Changeable\n",
    "- Does not allow duplicates\n",
    "\n",
    "### Example:"
   ]
  },
  {
   "cell_type": "code",
   "execution_count": null,
   "id": "931e3d82",
   "metadata": {},
   "outputs": [],
   "source": [
    "thisdict = {\n",
    "    \"brand\": \"Ford\",\n",
    "    \"model\": \"Mustang\",\n",
    "    \"year\": 1964\n",
    "}\n",
    "print(thisdict)"
   ]
  },
  {
   "cell_type": "markdown",
   "id": "49189e90",
   "metadata": {},
   "source": [
    "## 2. Accessing Dictionary Items\n",
    "You can access items by referring to their key name inside square brackets or by using the `get()` method.\n",
    "\n",
    "### Example 1: Using square brackets"
   ]
  },
  {
   "cell_type": "code",
   "execution_count": null,
   "id": "d38a33df",
   "metadata": {},
   "outputs": [],
   "source": [
    "x = thisdict[\"model\"]\n",
    "print(x)"
   ]
  },
  {
   "cell_type": "markdown",
   "id": "8e23cabc",
   "metadata": {},
   "source": [
    "### Example 2: Using `get()` method"
   ]
  },
  {
   "cell_type": "code",
   "execution_count": null,
   "id": "8ecec8de",
   "metadata": {},
   "outputs": [],
   "source": [
    "x = thisdict.get(\"model\")\n",
    "print(x)"
   ]
  },
  {
   "cell_type": "markdown",
   "id": "7b2ed0a2",
   "metadata": {},
   "source": [
    "### Other access methods"
   ]
  },
  {
   "cell_type": "code",
   "execution_count": null,
   "id": "9155352c",
   "metadata": {},
   "outputs": [],
   "source": [
    "#Accessing by Key\n",
    "my_dict = {'a': 10, 'b': 20, 'c': 30}\n",
    "print(my_dict['a'])  # Output: 10\n"
   ]
  },
  {
   "cell_type": "code",
   "execution_count": 99,
   "id": "d7bde577",
   "metadata": {},
   "outputs": [],
   "source": [
    "#Attempting to Access Dictionary Items with an Index\n",
    "my_dict = {'a': 10, 'b': 20, 'c': 30}\n",
    "#print(my_dict[0])  # ❌ This will raise a KeyError!"
   ]
  },
  {
   "cell_type": "markdown",
   "id": "920d4e4c",
   "metadata": {},
   "source": [
    "## 3. Changing Dictionary Items\n",
    "To change a value in a dictionary, refer to the key and assign a new value or use the `update()` method.\n",
    "\n",
    "### Example 1: Changing value by key"
   ]
  },
  {
   "cell_type": "code",
   "execution_count": null,
   "id": "0c09b113",
   "metadata": {},
   "outputs": [],
   "source": [
    "thisdict[\"year\"] = 2018\n",
    "print(thisdict)"
   ]
  },
  {
   "cell_type": "markdown",
   "id": "e28c73ca",
   "metadata": {},
   "source": [
    "### Example 2: Using `update()` method"
   ]
  },
  {
   "cell_type": "code",
   "execution_count": null,
   "id": "a8deb25f",
   "metadata": {},
   "outputs": [],
   "source": [
    "thisdict.update({\"year\": 2020})\n",
    "print(thisdict)"
   ]
  },
  {
   "cell_type": "markdown",
   "id": "66d9e411",
   "metadata": {},
   "source": [
    "## 4. Adding Dictionary Items\n",
    "You can add an item using a new key and assign a value or use the `update()` method.\n",
    "\n",
    "### Example 1: Adding item by key"
   ]
  },
  {
   "cell_type": "code",
   "execution_count": null,
   "id": "1f393d42",
   "metadata": {},
   "outputs": [],
   "source": [
    "thisdict[\"color\"] = \"red\"\n",
    "print(thisdict)"
   ]
  },
  {
   "cell_type": "markdown",
   "id": "acde4fc9",
   "metadata": {},
   "source": [
    "### Example 2: Using `update()` method"
   ]
  },
  {
   "cell_type": "code",
   "execution_count": null,
   "id": "7812f08c",
   "metadata": {},
   "outputs": [],
   "source": [
    "thisdict.update({\"color\": \"blue\"})\n",
    "print(thisdict)"
   ]
  },
  {
   "cell_type": "markdown",
   "id": "8030648d",
   "metadata": {},
   "source": [
    "## 5. Removing Dictionary Items\n",
    "You can remove items using various methods such as `pop()`, `popitem()`, `del`, and `clear()`.\n",
    "\n",
    "### Using `pop()` method"
   ]
  },
  {
   "cell_type": "code",
   "execution_count": null,
   "id": "86807e7b",
   "metadata": {},
   "outputs": [],
   "source": [
    "thisdict.pop(\"model\")\n",
    "print(thisdict)"
   ]
  },
  {
   "cell_type": "markdown",
   "id": "8d6831ea",
   "metadata": {},
   "source": [
    "## 6. Looping Through Dictionaries\n",
    "You can loop through keys, values, or both key:value pairs in a dictionary.\n",
    "\n",
    "### Example 1: Looping through keys"
   ]
  },
  {
   "cell_type": "code",
   "execution_count": null,
   "id": "64d68ef7",
   "metadata": {},
   "outputs": [],
   "source": [
    "for x in thisdict:\n",
    "    print(x)"
   ]
  },
  {
   "cell_type": "markdown",
   "id": "849fc356",
   "metadata": {},
   "source": [
    "### Example 2: Looping through values"
   ]
  },
  {
   "cell_type": "code",
   "execution_count": null,
   "id": "4ba0ab9d",
   "metadata": {},
   "outputs": [],
   "source": [
    "for x in thisdict.values():\n",
    "    print(x)"
   ]
  },
  {
   "cell_type": "markdown",
   "id": "632e3080",
   "metadata": {},
   "source": [
    "### Example 3: Looping through keys and values"
   ]
  },
  {
   "cell_type": "code",
   "execution_count": null,
   "id": "6088fa79",
   "metadata": {},
   "outputs": [],
   "source": [
    "for x, y in thisdict.items():\n",
    "    print(x, y)"
   ]
  },
  {
   "cell_type": "markdown",
   "id": "8249db4a",
   "metadata": {},
   "source": [
    "## 7. Copying Dictionaries\n",
    "You can copy dictionaries using the `copy()` method or the `dict()` constructor.\n",
    "\n",
    "### Example 1: Using `copy()` method"
   ]
  },
  {
   "cell_type": "code",
   "execution_count": null,
   "id": "7fefcaea",
   "metadata": {},
   "outputs": [],
   "source": [
    "mydict = thisdict.copy()\n",
    "print(mydict)"
   ]
  },
  {
   "cell_type": "markdown",
   "id": "15740f94",
   "metadata": {},
   "source": [
    "### Example 2: Using `dict()` constructor"
   ]
  },
  {
   "cell_type": "code",
   "execution_count": null,
   "id": "5d45ff86",
   "metadata": {},
   "outputs": [],
   "source": [
    "mydict = dict(thisdict)\n",
    "print(mydict)"
   ]
  },
  {
   "cell_type": "markdown",
   "id": "ec0fa335",
   "metadata": {},
   "source": [
    "## 8. Nested Dictionaries\n",
    "A dictionary can contain dictionaries, allowing for complex data structures.\n",
    "\n",
    "### Example:"
   ]
  },
  {
   "cell_type": "code",
   "execution_count": null,
   "id": "8246fa80",
   "metadata": {},
   "outputs": [],
   "source": [
    "myfamily = {\n",
    "  \"child1\" : {\"name\" : \"Emil\", \"year\" : 2004},\n",
    "  \"child2\" : {\"name\" : \"Tobias\", \"year\" : 2007},\n",
    "  \"child3\" : {\"name\" : \"Linus\", \"year\" : 2011}\n",
    "}\n",
    "print(myfamily)"
   ]
  },
  {
   "cell_type": "code",
   "execution_count": null,
   "id": "47476d48",
   "metadata": {},
   "outputs": [],
   "source": [
    "# Iterate through the outer dictionary\n",
    "for child, details in myfamily.items():\n",
    "    print(f\"{child}:\")\n",
    "    # Iterate through the inner dictionary\n",
    "    for key, value in details.items():\n",
    "        print(f\"  {key}: {value}\")"
   ]
  },
  {
   "cell_type": "markdown",
   "id": "9ba2dc57",
   "metadata": {},
   "source": [
    "## 9. Dictionary Methods\n",
    "Python provides several built-in methods to operate on dictionaries:\n",
    "\n",
    "- `clear()`: Removes all the elements from the dictionary\n",
    "- `copy()`: Returns a copy of the dictionary\n",
    "- `fromkeys()`: Returns a dictionary with the specified keys and value\n",
    "- `get()`: Returns the value of the specified key\n",
    "- `items()`: Returns a list containing a tuple for each key:value pair\n",
    "- `keys()`: Returns a list containing the dictionary's keys\n",
    "- `pop()`: Removes the element with the specified key\n",
    "- `popitem()`: Removes the last inserted key-value pair\n",
    "- `setdefault()`: Returns the value of the specified key. Inserts key if not present\n",
    "- `update()`: Updates the dictionary with the specified key-value pairs\n",
    "- `values()`: Returns a list of all the values in the dictionary"
   ]
  }
 ],
 "metadata": {
  "kernelspec": {
   "display_name": "venv",
   "language": "python",
   "name": "python3"
  },
  "language_info": {
   "codemirror_mode": {
    "name": "ipython",
    "version": 3
   },
   "file_extension": ".py",
   "mimetype": "text/x-python",
   "name": "python",
   "nbconvert_exporter": "python",
   "pygments_lexer": "ipython3",
   "version": "3.10.8"
  }
 },
 "nbformat": 4,
 "nbformat_minor": 5
}
