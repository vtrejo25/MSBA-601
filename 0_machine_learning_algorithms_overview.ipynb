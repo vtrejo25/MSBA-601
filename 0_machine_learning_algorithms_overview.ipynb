{
 "cells": [
  {
   "cell_type": "markdown",
   "id": "506e6cd9",
   "metadata": {},
   "source": [
    "## Machine Learning Models Overview\n",
    "\n",
    "Machine learning is a branch of artificial intelligence (AI) that focuses on enabling computers to learn from data and improve their performance on specific tasks without being explicitly programmed. Instead of following hard-coded rules, a machine learning model uses algorithms to analyze patterns in data and make decisions or predictions based on that data."
   ]
  },
  {
   "cell_type": "markdown",
   "id": "b782531e",
   "metadata": {},
   "source": [
    "### 1. Logistic Regression"
   ]
  },
  {
   "cell_type": "markdown",
   "id": "3f2dc7c8",
   "metadata": {},
   "source": [
    "- **What it is**: A statistical method used for binary classification problems. It predicts the probability that an instance belongs to one of two classes.\n",
    "- **How it works**: It uses a logistic function to model the probability of the output being one of the classes. If the probability is greater than 0.5, it classifies the instance in one class, and in the other class if less.\n",
    "- **Key advantage**: Simple and effective when the data has a clear linear separation.\n",
    "- **Limitations**: Doesn’t work well when the classes are not linearly separable."
   ]
  },
  {
   "cell_type": "markdown",
   "id": "0fade285",
   "metadata": {},
   "source": [
    "### 2. Decision Tree"
   ]
  },
  {
   "cell_type": "markdown",
   "id": "85cbb444",
   "metadata": {},
   "source": [
    "- **What it is**: A tree-like structure used for both classification and regression tasks. It splits the data into branches based on feature values to make predictions.\n",
    "- **How it works**: Starting from the root node, the data is split based on a feature that gives the best separation (like a series of \"if-then-else\" rules).\n",
    "- **Key advantage**: Easy to interpret and understand, handles non-linear data well.\n",
    "- **Limitations**: Prone to overfitting, especially if the tree is too deep and complex."
   ]
  },
  {
   "cell_type": "markdown",
   "id": "57a7a464",
   "metadata": {},
   "source": [
    "### 3. Random Forest"
   ]
  },
  {
   "cell_type": "markdown",
   "id": "c804a643",
   "metadata": {},
   "source": [
    "- **What it is**: An ensemble method that builds multiple decision trees and combines their results to make a more accurate and robust prediction.\n",
    "- **How it works**: It creates many random decision trees and uses the majority vote (in classification) or average (in regression) to make the final prediction.\n",
    "- **Key advantage**: Reduces the risk of overfitting and improves accuracy.\n",
    "- **Limitations**: Can be slower to train and interpret compared to a single decision tree."
   ]
  },
  {
   "cell_type": "markdown",
   "id": "3e83d7b2",
   "metadata": {},
   "source": [
    "### 4. Support Vector Machine (SVM)"
   ]
  },
  {
   "cell_type": "markdown",
   "id": "cda6a75a",
   "metadata": {},
   "source": [
    "- **What it is**: A powerful algorithm used for classification and regression tasks. It finds the best boundary (or hyperplane) that separates different classes.\n",
    "- **How it works**: It tries to maximize the margin between data points of different classes. If the data isn't linearly separable, SVM can use a kernel trick to project it into a higher dimension.\n",
    "- **Key advantage**: Effective in high-dimensional spaces and works well with a clear margin of separation.\n",
    "- **Limitations**: Can be inefficient on large datasets and difficult to tune properly."
   ]
  },
  {
   "cell_type": "markdown",
   "id": "df6ec15e",
   "metadata": {},
   "source": [
    "### 5. Naive Bayes"
   ]
  },
  {
   "cell_type": "markdown",
   "id": "12eb0426",
   "metadata": {},
   "source": [
    "- **What it is**: A simple probabilistic classifier based on Bayes' Theorem. It’s called \"naive\" because it assumes that features are independent.\n",
    "- **How it works**: It calculates the probability of each class based on feature values and chooses the class with the highest probability.\n",
    "- **Key advantage**: Fast, efficient, and works well with large datasets, especially for text classification (e.g., spam detection).\n",
    "- **Limitations**: The independence assumption rarely holds true in real-world data, which can reduce accuracy."
   ]
  },
  {
   "cell_type": "markdown",
   "id": "337a6746",
   "metadata": {},
   "source": [
    "### 6. K-Nearest Neighbors (KNN)"
   ]
  },
  {
   "cell_type": "markdown",
   "id": "cb26c3d2",
   "metadata": {},
   "source": [
    "- **What it is**: A simple, instance-based algorithm used for classification and regression. It makes predictions based on the \"k\" closest data points.\n",
    "- **How it works**: It calculates the distance between the test data and all training points, then classifies the test data based on the majority class of the nearest \"k\" neighbors.\n",
    "- **Key advantage**: Easy to understand and implement, doesn’t make any assumptions about the data distribution.\n",
    "- **Limitations**: Can be slow and inefficient with large datasets, sensitive to the choice of \"k\" and distance metrics."
   ]
  },
  {
   "cell_type": "markdown",
   "id": "0dfcca70",
   "metadata": {},
   "source": [
    "### Comparison"
   ]
  },
  {
   "cell_type": "markdown",
   "id": "0192b909",
   "metadata": {},
   "source": [
    "- **Simplicity**: Logistic Regression, Naive Bayes, and KNN are relatively simple algorithms compared to Random Forest and SVM.\n",
    "- **Speed**: Naive Bayes and Logistic Regression are generally faster to train, while Random Forest and SVM may take more time.\n",
    "- **Handling Complexity**: Random Forest and SVM can handle more complex data patterns compared to Logistic Regression and Naive Bayes.\n",
    "- **Risk of Overfitting**: Decision Trees can easily overfit, while Random Forest and SVM help mitigate overfitting. Naive Bayes rarely overfits but has a strong assumption of feature independence.\n",
    "- **Data Requirements**: KNN needs a lot of data to make accurate predictions, while Naive Bayes works well even with a small sample size."
   ]
  }
 ],
 "metadata": {
  "language_info": {
   "name": "python"
  }
 },
 "nbformat": 4,
 "nbformat_minor": 5
}
