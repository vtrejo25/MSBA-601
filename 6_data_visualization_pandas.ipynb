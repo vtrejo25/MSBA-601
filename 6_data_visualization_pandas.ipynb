{
 "cells": [
  {
   "cell_type": "markdown",
   "id": "3d7c06b0",
   "metadata": {},
   "source": [
    "# 📊 Data Visualization in Pandas: Easy, Medium, and Advanced"
   ]
  },
  {
   "cell_type": "markdown",
   "id": "348b927b",
   "metadata": {},
   "source": [
    "\n",
    "### Overview\n",
    "This notebook covers **easy, medium, and advanced** methods to visualize data using **Pandas, Matplotlib, Seaborn, and Plotly**.\n",
    "    \n",
    "Each section includes code examples and explanations to help analysts create meaningful visualizations.\n",
    "    "
   ]
  },
  {
   "cell_type": "markdown",
   "id": "cf96ce1c",
   "metadata": {},
   "source": [
    "## 🟢 Easy: Basic Pandas & Matplotlib Visualizations"
   ]
  },
  {
   "cell_type": "markdown",
   "id": "2da0ace5",
   "metadata": {},
   "source": [
    "### 1️⃣ Histogram: Understanding Numerical Distributions"
   ]
  },
  {
   "cell_type": "code",
   "execution_count": null,
   "id": "5a9a19fb",
   "metadata": {},
   "outputs": [],
   "source": [
    "\n",
    "import pandas as pd\n",
    "import matplotlib.pyplot as plt\n",
    "\n",
    "# Sample Data\n",
    "df = pd.DataFrame({'values': [10, 20, 20, 30, 40, 30, 50, 60, 70, 80, 90, 100]})\n",
    "df['values'].hist(bins=6, edgecolor='black')\n",
    "plt.title('Histogram Example')\n",
    "plt.xlabel('Value')\n",
    "plt.ylabel('Frequency')\n",
    "plt.show()\n",
    "    "
   ]
  },
  {
   "cell_type": "markdown",
   "id": "8a3ba153",
   "metadata": {},
   "source": [
    "### 2️⃣ Bar Plot: Compare Categorical Data"
   ]
  },
  {
   "cell_type": "code",
   "execution_count": null,
   "id": "fac672e3",
   "metadata": {},
   "outputs": [],
   "source": [
    "\n",
    "df_categorical = pd.DataFrame({'category': ['A', 'B', 'C', 'A', 'B', 'C', 'A', 'A', 'B', 'C']})\n",
    "df_categorical['category'].value_counts().plot(kind='bar', color='skyblue', edgecolor='black')\n",
    "plt.title('Bar Plot Example')\n",
    "plt.xlabel('Category')\n",
    "plt.ylabel('Count')\n",
    "plt.show()\n",
    "    "
   ]
  },
  {
   "cell_type": "markdown",
   "id": "735f6849",
   "metadata": {},
   "source": [
    "### 3️⃣ Line Plot: Observe Trends Over Time"
   ]
  },
  {
   "cell_type": "code",
   "execution_count": null,
   "id": "29e7de01",
   "metadata": {},
   "outputs": [],
   "source": [
    "\n",
    "df_time = pd.DataFrame({'date': pd.date_range(start='2024-01-01', periods=10, freq='D'),\n",
    "                        'sales': [5, 7, 8, 6, 9, 12, 15, 14, 13, 17]})\n",
    "\n",
    "df_time.plot(x='date', y='sales', kind='line', marker='o', linestyle='-', color='green')\n",
    "plt.title('Sales Trend Over Time')\n",
    "plt.xlabel('Date')\n",
    "plt.ylabel('Sales')\n",
    "plt.xticks(rotation=45)\n",
    "plt.show()\n",
    "    "
   ]
  },
  {
   "cell_type": "markdown",
   "id": "3c01c2f6",
   "metadata": {},
   "source": [
    "### 4️⃣ Box Plot: Identify Outliers and Distribution Spread"
   ]
  },
  {
   "cell_type": "code",
   "execution_count": null,
   "id": "e76c8e56",
   "metadata": {},
   "outputs": [],
   "source": [
    "\n",
    "df.boxplot(column='values')\n",
    "plt.title('Box Plot Example')\n",
    "plt.show()\n",
    "    "
   ]
  },
  {
   "cell_type": "markdown",
   "id": "24403f96",
   "metadata": {},
   "source": [
    "## 🟡 Medium: Enhancing with Seaborn & Customizations"
   ]
  },
  {
   "cell_type": "markdown",
   "id": "f33c3a0e",
   "metadata": {},
   "source": [
    "### 5️⃣ Distribution Plot (Histogram with KDE)"
   ]
  },
  {
   "cell_type": "code",
   "execution_count": null,
   "id": "b84db5cd",
   "metadata": {},
   "outputs": [],
   "source": [
    "\n",
    "import seaborn as sns\n",
    "\n",
    "sns.histplot(df['values'], kde=True, bins=6, color='purple')\n",
    "plt.title('Distribution Plot Example')\n",
    "plt.show()\n",
    "    "
   ]
  },
  {
   "cell_type": "markdown",
   "id": "1df5fa46",
   "metadata": {},
   "source": [
    "### 6️⃣ Pairplot: Explore Relationships Between Numerical Variables"
   ]
  },
  {
   "cell_type": "code",
   "execution_count": null,
   "id": "f71e1888",
   "metadata": {},
   "outputs": [],
   "source": [
    "\n",
    "df_pairplot = pd.DataFrame({'A': [1, 2, 3, 4, 5],\n",
    "                            'B': [5, 3, 2, 4, 1],\n",
    "                            'C': [2, 3, 5, 1, 4]})\n",
    "sns.pairplot(df_pairplot)\n",
    "plt.show()\n",
    "    "
   ]
  },
  {
   "cell_type": "markdown",
   "id": "c06d0dc5",
   "metadata": {},
   "source": [
    "### 7️⃣ Heatmap: Analyze Correlations"
   ]
  },
  {
   "cell_type": "code",
   "execution_count": null,
   "id": "fee78983",
   "metadata": {},
   "outputs": [],
   "source": [
    "\n",
    "plt.figure(figsize=(5,4))\n",
    "sns.heatmap(df_pairplot.corr(), annot=True, cmap='coolwarm', fmt=\".2f\")\n",
    "plt.title('Heatmap Example')\n",
    "plt.show()\n",
    "    "
   ]
  },
  {
   "cell_type": "markdown",
   "id": "93131131",
   "metadata": {},
   "source": [
    "### 8️⃣ Violin Plot: Show Distributions and Outliers"
   ]
  },
  {
   "cell_type": "code",
   "execution_count": null,
   "id": "6f14d9fb",
   "metadata": {},
   "outputs": [],
   "source": [
    "\n",
    "df_violin = pd.DataFrame({'category': ['A', 'A', 'A', 'B', 'B', 'B', 'C', 'C', 'C'],\n",
    "                          'value': [10, 20, 15, 25, 30, 22, 35, 40, 38]})\n",
    "sns.violinplot(x='category', y='value', data=df_violin)\n",
    "plt.title('Violin Plot Example')\n",
    "plt.show()\n",
    "    "
   ]
  },
  {
   "cell_type": "markdown",
   "id": "bc7a97c7",
   "metadata": {},
   "source": [
    "## 🔴 Advanced: Interactive & Multi-Dimensional Analysis"
   ]
  },
  {
   "cell_type": "markdown",
   "id": "63b4ea5f",
   "metadata": {},
   "source": [
    "### 9️⃣ Interactive Scatter Plot (Plotly)"
   ]
  },
  {
   "cell_type": "code",
   "execution_count": null,
   "id": "7d7ee298",
   "metadata": {},
   "outputs": [],
   "source": [
    "\n",
    "import plotly.express as px\n",
    "\n",
    "df_scatter = pd.DataFrame({'x': [1, 2, 3, 4, 5], 'y': [10, 15, 13, 18, 20], 'category': ['A', 'B', 'A', 'B', 'A']})\n",
    "fig = px.scatter(df_scatter, x='x', y='y', color='category', title='Interactive Scatter Plot')\n",
    "fig.show()\n",
    "    "
   ]
  },
  {
   "cell_type": "markdown",
   "id": "3e61a833",
   "metadata": {},
   "source": [
    "### 🔟 3D Scatter Plot"
   ]
  },
  {
   "cell_type": "code",
   "execution_count": null,
   "id": "142d5644",
   "metadata": {},
   "outputs": [],
   "source": [
    "\n",
    "fig = px.scatter_3d(df_scatter, x='x', y='y', z=[5, 8, 6, 7, 9], color='category', title='3D Scatter Plot')\n",
    "fig.show()\n",
    "    "
   ]
  },
  {
   "cell_type": "markdown",
   "id": "8f78dc09",
   "metadata": {},
   "source": [
    "### 1️⃣1️⃣ Time Series Decomposition (Seasonal Trends)"
   ]
  },
  {
   "cell_type": "code",
   "execution_count": null,
   "id": "354a97da",
   "metadata": {},
   "outputs": [],
   "source": [
    "\n",
    "from statsmodels.tsa.seasonal import seasonal_decompose\n",
    "\n",
    "df_time['sales'] = df_time['sales'] * 1.5  # Artificial trend adjustment\n",
    "result = seasonal_decompose(df_time['sales'], model='additive', period=3)\n",
    "result.plot()\n",
    "plt.show()\n",
    "    "
   ]
  },
  {
   "cell_type": "markdown",
   "id": "8bdc8d88",
   "metadata": {},
   "source": [
    "### 1️⃣2️⃣ Facet Grid: Compare Categories Across Multiple Dimensions"
   ]
  },
  {
   "cell_type": "code",
   "execution_count": null,
   "id": "8886a998",
   "metadata": {},
   "outputs": [],
   "source": [
    "\n",
    "g = sns.FacetGrid(df_violin, col='category', col_wrap=3)\n",
    "g.map(sns.histplot, 'value')\n",
    "plt.show()\n",
    "    "
   ]
  },
  {
   "cell_type": "markdown",
   "id": "b562b061",
   "metadata": {},
   "source": [
    "\n",
    "## 📌 Summary Table\n",
    "| Complexity | Technique | Purpose |\n",
    "|------------|------------|----------|\n",
    "| 🟢 **Easy** | Histogram, Bar Plot, Line Plot, Box Plot | Quick insights |\n",
    "| 🟡 **Medium** | Seaborn Heatmap, Pairplot, Violin Plot | Deeper analysis, better visuals |\n",
    "| 🔴 **Advanced** | Plotly, 3D Plots, Time Series Decomposition | Interactive & Multi-dimensional |\n",
    "    "
   ]
  }
 ],
 "metadata": {
  "kernelspec": {
   "display_name": "venv",
   "language": "python",
   "name": "python3"
  },
  "language_info": {
   "codemirror_mode": {
    "name": "ipython",
    "version": 3
   },
   "file_extension": ".py",
   "mimetype": "text/x-python",
   "name": "python",
   "nbconvert_exporter": "python",
   "pygments_lexer": "ipython3",
   "version": "3.13.1"
  }
 },
 "nbformat": 4,
 "nbformat_minor": 5
}
