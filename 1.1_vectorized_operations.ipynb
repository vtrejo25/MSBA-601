{
 "cells": [
  {
   "cell_type": "markdown",
   "id": "6e62060a",
   "metadata": {},
   "source": [
    "# Vectorized Operations vs. Python Loops\n",
    "**Vectorized operations** avoid slow Python loops by leveraging optimized low-level implementations (in C/Fortran) that operate on entire arrays at once.\n",
    "\n",
    "## Why Are Python Loops Slow?\n",
    "Python loops (`for` and `while`) are inherently slow due to:\n",
    "- **Interpreted Execution**: Python is an interpreted language, adding overhead.\n",
    "- **Dynamic Typing**: Variable types are checked at runtime.\n",
    "- **Function Call Overhead**: Frequent function calls introduce extra processing time.\n",
    "- **Global Interpreter Lock (GIL)**: Python's GIL restricts parallel execution.\n",
    "\n",
    "## What Are Vectorized Operations?\n",
    "Vectorized operations use **SIMD (Single Instruction, Multiple Data)** to process multiple data points simultaneously. Libraries like NumPy implement these operations efficiently in compiled C code.\n"
   ]
  },
  {
   "cell_type": "markdown",
   "id": "9ed7c5b2",
   "metadata": {},
   "source": [
    "## Example: Python Loop vs. NumPy Vectorization\n",
    "We'll compare a simple addition operation using both approaches."
   ]
  },
  {
   "cell_type": "code",
   "execution_count": null,
   "id": "d5457e20",
   "metadata": {},
   "outputs": [],
   "source": [
    "# Using a Python Loop\n",
    "a = [1, 2, 3, 4]\n",
    "b = [5, 6, 7, 8]\n",
    "c = []\n",
    "\n",
    "for i in range(len(a)):\n",
    "    c.append(a[i] + b[i])  # Slower approach\n",
    "\n",
    "print(c)  # Output: [6, 8, 10, 12]"
   ]
  },
  {
   "cell_type": "code",
   "execution_count": null,
   "id": "34872304",
   "metadata": {},
   "outputs": [],
   "source": [
    "import numpy as np\n",
    "\n",
    "# Creating two NumPy arrays\n",
    "a = np.array([1, 2, 3, 4])\n",
    "b = np.array([5, 6, 7, 8])\n",
    "\n",
    "# Vectorized addition\n",
    "c = a + b  # Fast and efficient\n",
    "\n",
    "print(c)  # Output: [ 6  8 10 12]"
   ]
  },
  {
   "cell_type": "markdown",
   "id": "5e1b4e82",
   "metadata": {},
   "source": [
    "## Performance Comparison\n",
    "Let's measure the execution time for a large dataset using both approaches."
   ]
  },
  {
   "cell_type": "code",
   "execution_count": null,
   "id": "bc68a17c",
   "metadata": {},
   "outputs": [],
   "source": [
    "import numpy as np\n",
    "import time\n",
    "\n",
    "# Large dataset\n",
    "size = 10**6\n",
    "a = np.random.rand(size)\n",
    "b = np.random.rand(size)\n",
    "\n",
    "# Using a Python loop\n",
    "start = time.time()\n",
    "c = [a[i] + b[i] for i in range(size)]\n",
    "end = time.time()\n",
    "print(f\"Python loop time: {end - start:.5f} seconds\")\n",
    "\n",
    "# Using NumPy vectorization\n",
    "start = time.time()\n",
    "c = a + b\n",
    "end = time.time()\n",
    "print(f\"NumPy vectorized time: {end - start:.5f} seconds\")"
   ]
  },
  {
   "cell_type": "markdown",
   "id": "33bde0e1",
   "metadata": {},
   "source": [
    "## Summary\n",
    "✔ **Vectorized operations** use optimized **low-level** implementations (C/Fortran).\n",
    "✔ They **avoid explicit loops**, reducing overhead.\n",
    "✔ They utilize **SIMD parallelism** for better performance.\n",
    "✔ **NumPy and pandas** provide built-in support for vectorized operations.\n",
    "\n",
    "Vectorization is **highly recommended** for numerical and data analysis tasks! 🚀"
   ]
  }
 ],
 "metadata": {},
 "nbformat": 4,
 "nbformat_minor": 5
}
