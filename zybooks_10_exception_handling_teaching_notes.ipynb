{
 "cells": [
  {
   "cell_type": "markdown",
   "id": "6aee8827",
   "metadata": {},
   "source": [
    "\n",
    "# Python Exception Handling - Teaching Notes\n",
    "\n",
    "Exception Handling in Python\n",
    "\n",
    "Exception handling in Python is a mechanism that allows you to gracefully manage errors that occur during program execution. Instead of crashing when an error occurs, Python provides a way to catch and handle exceptions, allowing the program to continue running or terminate in a controlled manner.\n",
    "\n",
    "## Topics Covered:\n",
    "1. Basic Exception Handling with `try` and `except`\n",
    "2. Multiple Exception Handlers\n",
    "3. Raising Exceptions\n",
    "4. Using `finally` for Clean-up\n",
    "5. Custom Exception Types"
   ]
  },
  {
   "cell_type": "markdown",
   "id": "ec66ad31",
   "metadata": {},
   "source": [
    "Take Aways\n",
    "\n",
    "The `try` block lets you test a block of code for errors.\n",
    "\n",
    "The `except` block lets you handle the error.\n",
    "\n",
    "The `else` block lets you execute code when there is no error.\n",
    "\n",
    "The `finally` block lets you execute code, regardless of the result of the try- and except blocks.\n"
   ]
  },
  {
   "cell_type": "markdown",
   "id": "9cb5aed7",
   "metadata": {},
   "source": [
    "\n",
    "## 1. Basic Exception Handling with `try` and `except`\n",
    "\n",
    "In Python, we handle exceptions using the `try` and `except` blocks. Here's a simple example where we handle invalid input from the user.\n"
   ]
  },
  {
   "cell_type": "code",
   "execution_count": 8,
   "id": "ce06905f",
   "metadata": {},
   "outputs": [
    {
     "name": "stdout",
     "output_type": "stream",
     "text": [
      "The number you entered is: 22\n"
     ]
    }
   ],
   "source": [
    "# Example 1: Basic exception handling\n",
    "x = 22\n",
    "#x = \"dsfdfd\"\n",
    "\n",
    "try:\n",
    "    number = int(x) #what happens when you enter a string or a float?\n",
    "    print(f\"The number you entered is: {number}\")\n",
    "except ValueError:\n",
    "    print(\"Invalid input! Please enter a valid number.\")"
   ]
  },
  {
   "cell_type": "markdown",
   "id": "318e8061",
   "metadata": {},
   "source": [
    "## Sidebar: why not just use if-else?\n",
    "\n",
    "Why try-except is preferable in some cases:\n",
    "\n",
    "**Cleaner Code**: In complex scenarios, try-except keeps the code cleaner by focusing on handling the main logic first and dealing with errors only if they occur, without cluttering the main flow with multiple if-else checks.\n",
    "\n",
    "**Catches Unforeseen Errors**: If the code encounters an unexpected runtime error (e.g., user input is invalid), try-except can handle the error gracefully, while if-else only works for conditions you've anticipated.\n",
    "\n",
    "**Prevents Redundant Checks**: Constantly checking conditions with if-else can lead to redundant checks. For example, checking every division operation with if-else when division by zero might happen infrequently can be less efficient than simply attempting the division and catching the error.\n",
    "\n",
    "Example 2: Dealing with f"
   ]
  },
  {
   "cell_type": "code",
   "execution_count": 10,
   "id": "7940e60d",
   "metadata": {},
   "outputs": [
    {
     "name": "stdout",
     "output_type": "stream",
     "text": [
      "5.0\n",
      "Division by zero is not allowed\n"
     ]
    }
   ],
   "source": [
    "def divide_if_else(a, b):\n",
    "    if b != 0:\n",
    "        return a / b\n",
    "    else:\n",
    "        return \"Division by zero is not allowed\"\n",
    "\n",
    "print(divide_if_else(10, 2))  # Outputs: 5.0\n",
    "print(divide_if_else(10, 0))  # Outputs: Division by zero is not allowed"
   ]
  },
  {
   "cell_type": "code",
   "execution_count": 11,
   "id": "50a4cec2",
   "metadata": {},
   "outputs": [
    {
     "name": "stdout",
     "output_type": "stream",
     "text": [
      "5.0\n",
      "Division by zero is not allowed\n"
     ]
    }
   ],
   "source": [
    "def divide_try_except(a, b):\n",
    "    try:\n",
    "        return a / b\n",
    "    except ZeroDivisionError:\n",
    "        return \"Division by zero is not allowed\"\n",
    "\n",
    "print(divide_try_except(10, 2))  # Outputs: 5.0\n",
    "print(divide_try_except(10, 0))  # Outputs: Division by zero is not allowed"
   ]
  },
  {
   "cell_type": "markdown",
   "id": "c97883ed",
   "metadata": {},
   "source": [
    "\n",
    "## 2. Multiple Exception Handlers\n",
    "\n",
    "We can handle different types of exceptions using multiple `except` blocks. For example, here we handle both `ValueError` and `ZeroDivisionError`.\n"
   ]
  },
  {
   "cell_type": "code",
   "execution_count": 14,
   "id": "c7ca1f3e",
   "metadata": {},
   "outputs": [
    {
     "name": "stdout",
     "output_type": "stream",
     "text": [
      "Invalid input! Please enter a valid number.\n"
     ]
    }
   ],
   "source": [
    "\n",
    "# Example 2: Multiple exception handlers\n",
    "\n",
    "#x = 22 \n",
    "#x = 0\n",
    "x = \"code\"\n",
    "\n",
    "try:\n",
    "    number = int(x)\n",
    "    result = 100 / number\n",
    "    print(f\"The result is: {result}\")\n",
    "except ValueError:\n",
    "    print(\"Invalid input! Please enter a valid number.\")\n",
    "except ZeroDivisionError:\n",
    "    print(\"Cannot divide by zero!\")\n"
   ]
  },
  {
   "cell_type": "markdown",
   "id": "0fdbfcb2",
   "metadata": {},
   "source": [
    "\n",
    "## 3. Raising Exceptions\n",
    "\n",
    "We can raise exceptions in our own code using the `raise` keyword. This is useful for input validation and ensuring that certain conditions are met before proceeding.\n"
   ]
  },
  {
   "cell_type": "code",
   "execution_count": 18,
   "id": "4a4d2db0",
   "metadata": {},
   "outputs": [
    {
     "name": "stdout",
     "output_type": "stream",
     "text": [
      "You entered: 22\n"
     ]
    }
   ],
   "source": [
    "\n",
    "# Example 3: Raising an exception\n",
    "\n",
    "x = 22 \n",
    "#x = 5\n",
    "#x = \"code\"\n",
    "\n",
    "def get_positive_number():\n",
    "    number = int(x)\n",
    "    if number <= 10:\n",
    "        raise ValueError(\"The number must be greater than 10!\") #custom exception\n",
    "    return number\n",
    "\n",
    "try:\n",
    "    number = get_positive_number()\n",
    "    print(f\"You entered: {number}\")\n",
    "except ValueError as e:\n",
    "    print(e)\n"
   ]
  },
  {
   "cell_type": "markdown",
   "id": "fcaa9ab1",
   "metadata": {},
   "source": [
    "\n",
    "## 4. Using `finally` for Clean-up\n",
    "\n",
    "The `finally` block always executes, whether an exception occurred or not. It's commonly used for clean-up actions such as closing files or releasing resources.\n"
   ]
  },
  {
   "cell_type": "code",
   "execution_count": 2,
   "id": "239a944f",
   "metadata": {},
   "outputs": [
    {
     "name": "stdout",
     "output_type": "stream",
     "text": [
      "File not found.\n"
     ]
    },
    {
     "ename": "NameError",
     "evalue": "name 'file' is not defined",
     "output_type": "error",
     "traceback": [
      "\u001b[0;31m---------------------------------------------------------------------------\u001b[0m",
      "\u001b[0;31mNameError\u001b[0m                                 Traceback (most recent call last)",
      "Cell \u001b[0;32mIn[2], line 8\u001b[0m\n\u001b[1;32m      6\u001b[0m     \u001b[38;5;28mprint\u001b[39m(\u001b[38;5;124m\"\u001b[39m\u001b[38;5;124mFile not found.\u001b[39m\u001b[38;5;124m\"\u001b[39m)\n\u001b[1;32m      7\u001b[0m \u001b[38;5;28;01mfinally\u001b[39;00m:\n\u001b[0;32m----> 8\u001b[0m     \u001b[38;5;28mprint\u001b[39m(\u001b[43mfile\u001b[49m)\n\u001b[1;32m      9\u001b[0m     \u001b[38;5;28mprint\u001b[39m(\u001b[38;5;124m\"\u001b[39m\u001b[38;5;124mClosing the file (if it was opened).\u001b[39m\u001b[38;5;124m\"\u001b[39m)\n\u001b[1;32m     12\u001b[0m \u001b[38;5;66;03m#run again after renaming txt file. \u001b[39;00m\n",
      "\u001b[0;31mNameError\u001b[0m: name 'file' is not defined"
     ]
    }
   ],
   "source": [
    "\n",
    "# Example 4: Using finally for clean-up\n",
    "try:\n",
    "    file = open(\"sample.txt\", \"r\")\n",
    "    # Do some operations with the file\n",
    "except FileNotFoundError:\n",
    "    print(\"File not found.\")\n",
    "finally:\n",
    "    print(file)\n",
    "    print(\"Closing the file (if it was opened).\")\n",
    "\n",
    "\n",
    "#run again after renaming txt file. \n"
   ]
  },
  {
   "cell_type": "markdown",
   "id": "13302d04",
   "metadata": {},
   "source": [
    "\n",
    "## 5. Custom Exception Types\n",
    "\n",
    "We can define our own custom exception types by inheriting from the built-in `Exception` class. This is helpful when we need to signal specific error conditions in our programs.\n"
   ]
  },
  {
   "cell_type": "code",
   "execution_count": 1,
   "id": "5790275c",
   "metadata": {},
   "outputs": [
    {
     "ename": "SyntaxError",
     "evalue": "invalid syntax (1375706015.py, line 6)",
     "output_type": "error",
     "traceback": [
      "\u001b[0;36m  Cell \u001b[0;32mIn[1], line 6\u001b[0;36m\u001b[0m\n\u001b[0;31m    def `heck_positive(number):\u001b[0m\n\u001b[0m        ^\u001b[0m\n\u001b[0;31mSyntaxError\u001b[0m\u001b[0;31m:\u001b[0m invalid syntax\n"
     ]
    }
   ],
   "source": [
    "\n",
    "# Example 5: Custom exception type\n",
    "class NegativeNumberError(Exception):\n",
    "    def __init__(self, value):\n",
    "        self.value = value\n",
    "\n",
    "def `heck_positive(number):\n",
    "    if number < 0:\n",
    "        raise NegativeNumberError(\"Negative number entered!\")\n",
    "\n",
    "try:\n",
    "    num = int(input(\"Enter a number:8\"))\n",
    "    check_positive(num)\n",
    "    print(f\"The number you entered is: {num}\")\n",
    "except NegativeNumberError as e:\n",
    "    print(e)\n"
   ]
  },
  {
   "cell_type": "markdown",
   "id": "5ef41e08",
   "metadata": {},
   "source": [
    "# Common Python Exceptions for Error Handling\n",
    "\n",
    "Below is a table of common exceptions that you can handle in Python using `try-except`.\n",
    "\n",
    "| Exception Type | Description | Example |\n",
    "|--------------|-------------|---------|\n",
    "| `ZeroDivisionError` | Raised when dividing by zero. | `10 / 0` |\n",
    "| `ValueError` | Raised when an operation receives an invalid argument (e.g., converting a string to an integer when the string is not a number). | `int(\"abc\")` |\n",
    "| `TypeError` | Raised when an operation is applied to an incompatible type. | `\"Hello\" + 5` |\n",
    "| `IndexError` | Raised when trying to access an invalid index in a list or tuple. | `my_list[10]` when `my_list` has fewer than 10 elements. |\n",
    "| `KeyError` | Raised when accessing a non-existent dictionary key. | `my_dict[\"missing_key\"]` |\n",
    "| `FileNotFoundError` | Raised when trying to open a file that does not exist. | `open(\"missing_file.txt\", \"r\")` |\n",
    "| `AttributeError` | Raised when an invalid attribute reference occurs. | `None.some_method()` |\n",
    "| `ImportError` | Raised when an import statement fails to find a module. | `import nonexistent_module` |\n",
    "| `NameError` | Raised when a variable is not defined. | `print(undefined_variable)` |\n",
    "| `MemoryError` | Raised when the program runs out of memory. | Creating a huge list using `range(10**100)`. |\n",
    "| `IndentationError` | Raised when incorrect indentation is used in Python code. | A misaligned `if` or `for` block. |\n",
    "| `RuntimeError` | Raised for generic errors detected at runtime. | A recursion limit exceeded error. |\n",
    "| `PermissionError` | Raised when trying to access a file without the required permissions. | `open(\"/root/secret.txt\", \"r\")` without root access. |\n",
    "| `EOFError` | Raised when `input()` hits end-of-file (EOF) without reading any data. | Pressing `Ctrl+D` (Linux/macOS) or `Ctrl+Z` (Windows) when using `input()`. |\n",
    "| `StopIteration` | Raised when an iterator runs out of items. | Using `next()` on an exhausted iterator. |\n",
    "| `OSError` | Raised for system-related errors (e.g., I/O failures). | `os.remove(\"non_existent_file.txt\")` |\n"
   ]
  }
 ],
 "metadata": {
  "kernelspec": {
   "display_name": "venv",
   "language": "python",
   "name": "python3"
  },
  "language_info": {
   "codemirror_mode": {
    "name": "ipython",
    "version": 3
   },
   "file_extension": ".py",
   "mimetype": "text/x-python",
   "name": "python",
   "nbconvert_exporter": "python",
   "pygments_lexer": "ipython3",
   "version": "3.13.1"
  }
 },
 "nbformat": 4,
 "nbformat_minor": 5
}
