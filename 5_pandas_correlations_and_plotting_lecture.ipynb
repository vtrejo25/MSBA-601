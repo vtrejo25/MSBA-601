{
 "cells": [
  {
   "cell_type": "markdown",
   "id": "bd4c5217",
   "metadata": {},
   "source": [
    "\n",
    "# Pandas - Data Correlations and Plotting\n",
    "\n",
    "In this lecture, we will explore two important topics in Pandas:\n",
    "- Finding correlations between columns in a dataset\n",
    "- Visualizing data with plots using Pandas and Matplotlib\n"
   ]
  },
  {
   "cell_type": "markdown",
   "id": "f8664b4e",
   "metadata": {},
   "source": [
    "\n",
    "## 1. Data Correlations\n",
    "\n",
    "The `corr()` method in Pandas allows us to calculate the relationship between each column in a data set.\n",
    "\n",
    "Let's see how we can use it to find correlations between columns in our example dataset.\n",
    "\n",
    "### Example:\n",
    "Here is an example of the correlation matrix for a workout dataset:\n"
   ]
  },
  {
   "cell_type": "code",
   "execution_count": null,
   "id": "d143165b",
   "metadata": {},
   "outputs": [],
   "source": [
    "\n",
    "import pandas as pd\n",
    "\n",
    "# Sample data for correlation example\n",
    "data = {\n",
    "    \"Duration\": [60, 60, 60, 45, 45, 60, 60, 450, 30, 60, 60, 60, 60, 60, 60, 60, 60, 60, 45, 60, 45, 60, 45, 60, 45, 60, 60, 60, 60, 60, 60, 60],\n",
    "    \"Pulse\": [110, 117, 103, 109, 117, 102, 110, 104, 109, 98, 103, 100, 100, 106, 104, 98, 98, 100, 90, 103, 97, 108, 100, 130, 105, 102, 100, 92, 103, 100, 102, 92],\n",
    "    \"Maxpulse\": [130, 145, 135, 175, 148, 127, 136, 134, 133, 124, 147, 120, 120, 128, 132, 123, 120, 120, 112, 123, 125, 131, 119, 101, 132, 126, 120, 118, 132, 132, 129, 115],\n",
    "    \"Calories\": [409.1, 479.0, 340.0, 282.4, 406.0, 300.0, 374.0, 253.3, 195.1, 269.0, 329.3, 250.7, 250.7, 345.3, 379.3, 275.0, 215.2, 300.0, None, 323.0, 243.0, 364.2, 282.0, 300.0, 246.0, 334.5, 250.0, 241.0, None, 280.0, 380.3, 243.0]\n",
    "}\n",
    "\n",
    "df = pd.DataFrame(data)\n",
    "\n",
    "# Calculate correlation matrix\n",
    "correlation_matrix = df.corr()\n",
    "print(correlation_matrix)\n"
   ]
  },
  {
   "cell_type": "code",
   "execution_count": null,
   "id": "c2285f34",
   "metadata": {},
   "outputs": [],
   "source": [
    "correlation_matrix"
   ]
  },
  {
   "cell_type": "markdown",
   "id": "35d3fe6c",
   "metadata": {},
   "source": [
    "\n",
    "## **🚀 Key Observations**\n",
    "### 🔹 **Duration vs. Calories (-0.114)**\n",
    "- **Weak negative correlation**, meaning **longer workouts slightly decrease calorie burn** in this dataset.\n",
    "- This is unusual, but it could mean that some **long-duration exercises were low-intensity**, leading to fewer calories burned.\n",
    "\n",
    "### 🔹 **Pulse vs. Calories (0.513)**\n",
    "- **Moderate positive correlation**, meaning **higher heart rates tend to burn more calories**.\n",
    "- This makes sense since **intense workouts with a higher heart rate usually burn more energy**.\n",
    "\n",
    "### 🔹 **Maxpulse vs. Calories (0.357)**\n",
    "- **Weak to moderate correlation**.\n",
    "- Suggests that workouts where **Maxpulse is higher tend to burn more calories**, but the effect is not very strong.\n",
    "\n",
    "### 🔹 **Pulse vs. Maxpulse (0.277)**\n",
    "- **Weak positive correlation**.\n",
    "- This suggests that people with **higher heart rates at rest or during workouts tend to have slightly higher max heart rates**, but not always.\n",
    "\n",
    "### 🔹 **Duration vs. Pulse (0.004)**\n",
    "- **Almost zero correlation**, meaning **exercise duration has no meaningful relationship with heart rate** in this dataset.\n",
    "- This could be because **both low and high heart rate exercises exist across all durations**.\n",
    "\n",
    "---\n",
    "\n",
    "## **🔥 Final Takeaways**\n",
    "✔ **Most correlated pair:** `Pulse ↔ Calories (0.513)`, meaning **higher heart rates tend to result in higher calorie burn**.  \n",
    "✔ **Least correlated pair:** `Duration ↔ Pulse (0.004)`, meaning **workout duration has no strong impact on pulse rate**.  \n",
    "✔ **Unexpected finding:** `Duration ↔ Calories (-0.114)`, suggesting **longer workouts might not always mean higher calorie burn**.\n",
    "\n",
    "---"
   ]
  },
  {
   "cell_type": "markdown",
   "id": "f35f737b",
   "metadata": {},
   "source": [
    "\n",
    "## 2. Plotting\n",
    "\n",
    "Pandas allows us to create plots easily using the `plot()` method, and Matplotlib's Pyplot submodule helps visualize the data.\n",
    "\n",
    "### Example: Basic Plot\n",
    "We can use the `plot()` method to create a default plot for the DataFrame:\n"
   ]
  },
  {
   "cell_type": "code",
   "execution_count": null,
   "id": "08f5b48c",
   "metadata": {},
   "outputs": [],
   "source": [
    "\n",
    "import matplotlib.pyplot as plt\n",
    "\n",
    "# Plot the DataFrame\n",
    "df.plot()\n",
    "\n",
    "# Show the plot\n",
    "plt.show()\n"
   ]
  },
  {
   "cell_type": "markdown",
   "id": "134602fe",
   "metadata": {},
   "source": [
    "\n",
    "### Scatter Plot\n",
    "We can create scatter plots by specifying `kind='scatter'` in the `plot()` method. A scatter plot needs both an x-axis and a y-axis.\n",
    "\n",
    "Let's create a scatter plot to show the relationship between \"Duration\" and \"Calories\".\n"
   ]
  },
  {
   "cell_type": "code",
   "execution_count": null,
   "id": "d34cf2e1",
   "metadata": {},
   "outputs": [],
   "source": [
    "\n",
    "# Scatter plot of Duration vs Calories\n",
    "df.plot(kind='scatter', x='Duration', y='Calories')\n",
    "\n",
    "# Show the plot\n",
    "plt.show()\n"
   ]
  },
  {
   "cell_type": "markdown",
   "id": "c1727027",
   "metadata": {},
   "source": [
    "\n",
    "Now, let's create a scatter plot for \"Duration\" and \"Maxpulse\". We already know from the correlation matrix that there is a weak correlation between these two columns.\n"
   ]
  },
  {
   "cell_type": "code",
   "execution_count": null,
   "id": "e6d4dc77",
   "metadata": {},
   "outputs": [],
   "source": [
    "\n",
    "# Scatter plot of Duration vs Maxpulse\n",
    "df.plot(kind='scatter', x='Duration', y='Maxpulse')\n",
    "\n",
    "# Show the plot\n",
    "plt.show()\n"
   ]
  },
  {
   "cell_type": "markdown",
   "id": "64eacea6",
   "metadata": {},
   "source": [
    "\n",
    "### Histogram\n",
    "Histograms can be created by specifying `kind='hist'` in the `plot()` method. A histogram shows the frequency of values in a column.\n",
    "\n",
    "Let's create a histogram for the \"Duration\" column to see the distribution of workout durations.\n"
   ]
  },
  {
   "cell_type": "code",
   "execution_count": null,
   "id": "66eb8209",
   "metadata": {},
   "outputs": [],
   "source": [
    "\n",
    "# Histogram of Duration\n",
    "df['Duration'].plot(kind='hist')\n",
    "\n",
    "# Show the plot\n",
    "plt.show()\n"
   ]
  }
 ],
 "metadata": {
  "kernelspec": {
   "display_name": "venv",
   "language": "python",
   "name": "python3"
  },
  "language_info": {
   "codemirror_mode": {
    "name": "ipython",
    "version": 3
   },
   "file_extension": ".py",
   "mimetype": "text/x-python",
   "name": "python",
   "nbconvert_exporter": "python",
   "pygments_lexer": "ipython3",
   "version": "3.10.8"
  }
 },
 "nbformat": 4,
 "nbformat_minor": 5
}
